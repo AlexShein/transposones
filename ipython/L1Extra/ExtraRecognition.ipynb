{
 "cells": [
  {
   "cell_type": "code",
   "execution_count": 1,
   "metadata": {},
   "outputs": [],
   "source": [
    "from sklearn.ensemble import RandomForestClassifier\n",
    "# from sklearn.model_selection import KFold, train_test_split\n",
    "# from sklearn.metrics import roc_curve, auc, accuracy_score, precision_score, recall_score, precision_recall_curve, average_precision_score\n",
    "\n",
    "import numpy as np\n",
    "import pandas as pd\n",
    "\n",
    "import matplotlib.pyplot as plt\n",
    "import seaborn as sns\n",
    "sns.set()\n",
    "\n",
    "# from link.src.py_scripts.process_pals import begin_processing"
   ]
  },
  {
   "cell_type": "code",
   "execution_count": 2,
   "metadata": {},
   "outputs": [],
   "source": [
    "from pylab import rcParams\n",
    "rcParams['figure.figsize'] = 12, 8"
   ]
  },
  {
   "cell_type": "code",
   "execution_count": 3,
   "metadata": {},
   "outputs": [],
   "source": [
    "random_seed = 17"
   ]
  },
  {
   "cell_type": "code",
   "execution_count": 4,
   "metadata": {},
   "outputs": [],
   "source": [
    "SEQUENCE_BASED = \"sequence_based\"\n",
    "PHYS_CHEM_STRUCT = \"Phys-Chem-Struct\"\n",
    "LAST_50_BP = \"50b.p._Stats\""
   ]
  },
  {
   "cell_type": "markdown",
   "metadata": {},
   "source": [
    "# Data preparation"
   ]
  },
  {
   "cell_type": "code",
   "execution_count": 5,
   "metadata": {},
   "outputs": [],
   "source": [
    "def get_trinucleotides(lst):\n",
    "    \"\"\"\n",
    "    '1234' -> ['123','234']\n",
    "    \"\"\"\n",
    "    res = []\n",
    "    for i in range(len(lst) - 2):\n",
    "        res.append(lst[i] + lst[i + 1] + lst[i + 2])\n",
    "    return res\n",
    "\n",
    "\n",
    "def get_dinucleotides(lst):\n",
    "    \"\"\"\n",
    "    '123' -> ['12', '23']\n",
    "    \"\"\"\n",
    "    res = []\n",
    "    for i in range(len(lst) - 1):\n",
    "        res.append(lst[i] + lst[i + 1])\n",
    "    return res\n",
    "\n",
    "\n",
    "def annotate_with_di_tri_nucleotides(lines):\n",
    "    annotated_rows = []\n",
    "    for line in lines:\n",
    "        row = {}\n",
    "        for di_n in get_dinucleotides(line) + get_trinucleotides(line):\n",
    "            row[di_n] = row.get(di_n, 0) + 1\n",
    "        annotated_rows.append(row)\n",
    "    return pd.DataFrame(annotated_rows).fillna(0)\n",
    "\n",
    "\n",
    "def train_model(true_paths, false_paths, model_type):\n",
    "    if model_type == LAST_50_BP:\n",
    "        true_sequences = []\n",
    "        for path in true_paths:\n",
    "            # True positive data\n",
    "            with open(path, 'r') as f:\n",
    "                true_sequences += list(map(lambda x: x.strip(), f.readlines()))\n",
    "\n",
    "        false_sequences = []\n",
    "        for path in false_paths:\n",
    "            # True positive data\n",
    "            with open(path, 'r') as f:\n",
    "                false_sequences += list(map(lambda x: x.strip(), f.readlines()))\n",
    "\n",
    "        df_True = annotate_with_di_tri_nucleotides(np.concatenate([true_sequences]))\n",
    "        df_False = annotate_with_di_tri_nucleotides(false_sequences)\n",
    "    else:\n",
    "        df_True = pd.concat(list(map(lambda x: pd.read_csv(x, index_col=0, sep=';'), true_paths)))\n",
    "        df_False = pd.concat(list(map(lambda x: pd.read_csv(x, index_col=0, sep=';'), false_paths)))\n",
    "\n",
    "    if df_True.shape[0] > df_False.shape[0]:\n",
    "        df_True_n = df_True.sample(df_False.shape[0], random_state=random_seed)\n",
    "        df_False_n = df_False\n",
    "    else:\n",
    "        df_True_n = df_True\n",
    "        df_False_n = df_False.sample(df_True.shape[0], random_state=random_seed)\n",
    "\n",
    "    X = pd.concat([df_True_n, df_False_n], ignore_index=True)\n",
    "    Y = pd.Series(np.append(np.full(df_True_n.shape[0], 1), np.full(df_False_n.shape[0], 0)))\n",
    "\n",
    "    if model_type == PHYS_CHEM_STRUCT:\n",
    "        # Getting rid of unneeded columns\n",
    "        X = X[X.columns[np.array(X.columns.map(\n",
    "            lambda x: (len(x) > 4 or 'LP' in x or 'LB' in x or 'RB' in x) and 'GC' not in x),\n",
    "            dtype='bool')]]\n",
    "    elif model_type == SEQUENCE_BASED:\n",
    "        # Getting rid of unneeded columns\n",
    "        X = X[X.columns[(X.columns.map(len) < 4)]]\n",
    "\n",
    "    rf = RandomForestClassifier(n_jobs=-1, n_estimators=2000)\n",
    "\n",
    "    return rf.fit(X, Y)\n",
    "\n",
    "\n",
    "def evaluate(model, model_type, trained_on, eval_path, evaluated_on, write=True):\n",
    "    if model_type == LAST_50_BP:\n",
    "        eval_50_bp = []\n",
    "        with open(eval_path, 'r') as file:\n",
    "            for line in file:\n",
    "                eval_50_bp.append(line.strip())\n",
    "        df_Eval = annotate_with_di_tri_nucleotides(eval_50_bp)\n",
    "    elif model_type == PHYS_CHEM_STRUCT:\n",
    "        df_Eval = pd.read_csv(eval_path, index_col=0, sep=';')\n",
    "\n",
    "        df_Eval = df_Eval[df_Eval.columns[np.array(\n",
    "            df_Eval.columns.map(\n",
    "                lambda x: (len(x) > 4 or 'LP' in x or 'LB' in x or 'RB' in x) and 'GC' not in x\n",
    "            ),\n",
    "            dtype='bool'\n",
    "        )]]\n",
    "    elif model_type == SEQUENCE_BASED:\n",
    "        df_Eval = pd.read_csv(eval_path, index_col=0, sep=';')\n",
    "        df_Eval = df_Eval[df_Eval.columns[(df_Eval.columns.map(len) < 4)]]\n",
    "    else:\n",
    "        raise ValueError('Wrong model type')\n",
    "\n",
    "    Y_pred_Eval = model.predict(df_Eval)\n",
    "    evaluation_result = np.mean(Y_pred_Eval)\n",
    "    if write:\n",
    "        with open(f'Extra_recognition.csv', 'a') as file:\n",
    "            file.write(f'{model_type},{trained_on},{evaluated_on},{evaluation_result}\\n')\n",
    "    return evaluation_result\n"
   ]
  },
  {
   "cell_type": "code",
   "execution_count": 6,
   "metadata": {},
   "outputs": [],
   "source": [
    "L1_50_BP_PATH = 'L1_50_last.txt'\n",
    "L1_50_BP_SHUFFLED_PATH = 'L1_50_last_shuffled.txt'\n",
    "\n",
    "ALU_50_BP_PATH = '../../data/sequences/Alu_All_50_bs_2.txt'\n",
    "ALU_50_BP_SHUFFLED_PATH= 'alu_50_last_shuffled.csv'\n",
    "\n",
    "# ALU_S_PATH = 'AluS3UTR.csv'\n",
    "# ALU_Y_PATH = 'AluY3UTR.csv'\n",
    "ALU_PATH = 'Alu3UTR.csv'\n",
    "ALU_SHUFFLED_PATH = 'Shuffled_Alu.csv'\n",
    "\n",
    "L1_PATH = 'L13UTR.csv'\n",
    "L1_SHUFFLED_PATH = 'Shuffled_L1.csv'\n",
    "\n",
    "PSEUDOGENES_50_LAST_PATH = 'pseudogenes_50_last.txt'\n",
    "MRNA_50_LAST_PATH = 'KnownGene_50_last.txt'\n",
    "\n",
    "MRNA_PATH = 'KnownGene3End.csv'\n",
    "PSEUDOGENES_PATH = 'Pseudogenes3End.csv'\n",
    "\n",
    "RP_PATH = 'RP3End.csv'\n",
    "RP_50_LAST_PATH = 'RP_50_last_shuffled.csv'\n"
   ]
  },
  {
   "cell_type": "markdown",
   "metadata": {},
   "source": [
    "## Models"
   ]
  },
  {
   "cell_type": "markdown",
   "metadata": {},
   "source": [
    "### Alu, L1"
   ]
  },
  {
   "cell_type": "code",
   "execution_count": 7,
   "metadata": {},
   "outputs": [],
   "source": [
    "alu_l1_vs_shuffle_seq_based = train_model(\n",
    "    [  # True positive data\n",
    "        ALU_PATH,\n",
    "        L1_PATH,\n",
    "    ],\n",
    "    [  # True negative data\n",
    "        ALU_SHUFFLED_PATH,\n",
    "        L1_SHUFFLED_PATH,\n",
    "    ],\n",
    "    SEQUENCE_BASED,  # Model type\n",
    ")\n",
    "\n",
    "alu_l1_vs_shuffle_phys_chem = train_model(\n",
    "    [   # True positive data\n",
    "        ALU_PATH,\n",
    "        L1_PATH,\n",
    "    ],\n",
    "    [  # True negative data\n",
    "        ALU_SHUFFLED_PATH,\n",
    "        L1_SHUFFLED_PATH,\n",
    "    ],\n",
    "    PHYS_CHEM_STRUCT, # Model type\n",
    ")\n",
    "\n",
    "alu_l1_vs_shuffle_50_bp = train_model(\n",
    "    [  # True positive data\n",
    "        ALU_50_BP_PATH,\n",
    "        L1_50_BP_PATH,\n",
    "    ],\n",
    "    [  # True negative data\n",
    "        L1_50_BP_SHUFFLED_PATH,\n",
    "        ALU_50_BP_SHUFFLED_PATH,\n",
    "    ],\n",
    "    LAST_50_BP,  # Model type\n",
    ")\n"
   ]
  },
  {
   "cell_type": "markdown",
   "metadata": {},
   "source": [
    "### Alu"
   ]
  },
  {
   "cell_type": "code",
   "execution_count": 8,
   "metadata": {},
   "outputs": [],
   "source": [
    "alu_vs_shuffle_seq_based = train_model(\n",
    "    [  # True positive data\n",
    "        ALU_PATH,\n",
    "    ],\n",
    "    [  # True negative data\n",
    "        ALU_SHUFFLED_PATH,\n",
    "    ],\n",
    "    SEQUENCE_BASED,  # Model type\n",
    ")\n",
    "\n",
    "alu_vs_shuffle_phys_chem = train_model(\n",
    "    [   # True positive data\n",
    "        ALU_PATH,\n",
    "    ],\n",
    "    [  # True negative data\n",
    "        ALU_SHUFFLED_PATH,\n",
    "    ],\n",
    "    PHYS_CHEM_STRUCT, # Model type\n",
    ")\n",
    "\n",
    "alu_vs_shuffle_50_bp = train_model(\n",
    "    [  # True positive data\n",
    "        ALU_50_BP_PATH,\n",
    "    ],\n",
    "    [  # True negative data\n",
    "        ALU_50_BP_SHUFFLED_PATH,\n",
    "    ],\n",
    "    LAST_50_BP,  # Model type\n",
    ")"
   ]
  },
  {
   "cell_type": "markdown",
   "metadata": {},
   "source": [
    "### L1"
   ]
  },
  {
   "cell_type": "code",
   "execution_count": 9,
   "metadata": {},
   "outputs": [],
   "source": [
    "l1_vs_shuffle_seq_based = train_model(\n",
    "    [  # True positive data\n",
    "        L1_PATH,\n",
    "    ],\n",
    "    [  # True negative data\n",
    "        L1_SHUFFLED_PATH,\n",
    "    ],\n",
    "    SEQUENCE_BASED,  # Model type\n",
    ")\n",
    "\n",
    "l1_vs_shuffle_phys_chem = train_model(\n",
    "    [   # True positive data\n",
    "        L1_PATH,\n",
    "    ],\n",
    "    [  # True negative data\n",
    "        L1_SHUFFLED_PATH,\n",
    "    ],\n",
    "    PHYS_CHEM_STRUCT, # Model type\n",
    ")\n",
    "\n",
    "l1_vs_shuffle_50_bp = train_model(\n",
    "    [  # True positive data\n",
    "        L1_50_BP_PATH,\n",
    "    ],\n",
    "    [  # True negative data\n",
    "        L1_50_BP_SHUFFLED_PATH,\n",
    "    ],\n",
    "    LAST_50_BP,  # Model type\n",
    ")"
   ]
  },
  {
   "cell_type": "markdown",
   "metadata": {},
   "source": [
    "## Evaluations"
   ]
  },
  {
   "cell_type": "code",
   "execution_count": 49,
   "metadata": {},
   "outputs": [],
   "source": [
    "with open(f'Extra_recognition.csv', 'w') as file:\n",
    "    file.write(f'Model type,Train classes,Recognition class,% recognized\\n')"
   ]
  },
  {
   "cell_type": "markdown",
   "metadata": {},
   "source": [
    "### Alu, L1 ==> p_pseudo"
   ]
  },
  {
   "cell_type": "code",
   "execution_count": 50,
   "metadata": {},
   "outputs": [
    {
     "name": "stdout",
     "output_type": "stream",
     "text": [
      "0.05942555298778475\n",
      "0.02079894354572466\n",
      "0.033984533984533986\n"
     ]
    }
   ],
   "source": [
    "print(evaluate(\n",
    "    alu_l1_vs_shuffle_seq_based,\n",
    "    SEQUENCE_BASED,\n",
    "    'Alu_L1_vs_Shuffled',\n",
    "    PSEUDOGENES_PATH,\n",
    "    'P_Pseudo',\n",
    "    write=True\n",
    "))\n",
    "print(evaluate(\n",
    "    alu_l1_vs_shuffle_phys_chem,\n",
    "    PHYS_CHEM_STRUCT,\n",
    "    'Alu_L1_vs_Shuffled',\n",
    "    PSEUDOGENES_PATH,\n",
    "    'P_Pseudo',\n",
    "    write=True\n",
    "))\n",
    "print(evaluate(\n",
    "    alu_l1_vs_shuffle_50_bp,\n",
    "    LAST_50_BP,\n",
    "    'Alu_L1_vs_Shuffled',\n",
    "    PSEUDOGENES_50_LAST_PATH,\n",
    "    'P_Pseudo',\n",
    "    write=True\n",
    "))\n"
   ]
  },
  {
   "cell_type": "markdown",
   "metadata": {},
   "source": [
    "### Alu, L1 ==> mRNA"
   ]
  },
  {
   "cell_type": "code",
   "execution_count": 51,
   "metadata": {},
   "outputs": [
    {
     "name": "stdout",
     "output_type": "stream",
     "text": [
      "0.14155765904099205\n",
      "0.07424828470912943\n",
      "0.08835459532166201\n"
     ]
    }
   ],
   "source": [
    "print(evaluate(\n",
    "    alu_l1_vs_shuffle_seq_based,\n",
    "    SEQUENCE_BASED,\n",
    "    'Alu_L1_vs_Shuffled',\n",
    "    MRNA_PATH,\n",
    "    'mRNA',\n",
    "    write=True\n",
    "))\n",
    "print(evaluate(\n",
    "    alu_l1_vs_shuffle_phys_chem,\n",
    "    PHYS_CHEM_STRUCT,\n",
    "    'Alu_L1_vs_Shuffled',\n",
    "    MRNA_PATH,\n",
    "    'mRNA',\n",
    "    write=True\n",
    "))\n",
    "print(evaluate(\n",
    "    alu_l1_vs_shuffle_50_bp,\n",
    "    LAST_50_BP,\n",
    "    'Alu_L1_vs_Shuffled',\n",
    "    MRNA_50_LAST_PATH,\n",
    "    'mRNA',\n",
    "    write=True\n",
    "))\n"
   ]
  },
  {
   "cell_type": "markdown",
   "metadata": {},
   "source": [
    "### Alu ==> p_pseudo"
   ]
  },
  {
   "cell_type": "code",
   "execution_count": 52,
   "metadata": {},
   "outputs": [
    {
     "name": "stdout",
     "output_type": "stream",
     "text": [
      "0.09276989105315285\n",
      "0.007263123142951469\n",
      "0.029914529914529916\n"
     ]
    }
   ],
   "source": [
    "print(evaluate(\n",
    "    alu_vs_shuffle_seq_based,\n",
    "    SEQUENCE_BASED,\n",
    "    'Alu_vs_Shuffled',\n",
    "    PSEUDOGENES_PATH,\n",
    "    'P_Pseudo',\n",
    "    write=True\n",
    "))\n",
    "print(evaluate(\n",
    "    alu_vs_shuffle_phys_chem,\n",
    "    PHYS_CHEM_STRUCT,\n",
    "    'Alu_vs_Shuffled',\n",
    "    PSEUDOGENES_PATH,\n",
    "    'P_Pseudo',\n",
    "    write=True\n",
    "))\n",
    "print(evaluate(\n",
    "    alu_vs_shuffle_50_bp,\n",
    "    LAST_50_BP,\n",
    "    'Alu_vs_Shuffled',\n",
    "    PSEUDOGENES_50_LAST_PATH,\n",
    "    'P_Pseudo',\n",
    "    write=True\n",
    "))\n"
   ]
  },
  {
   "cell_type": "markdown",
   "metadata": {},
   "source": [
    "### Alu ==> mRNA"
   ]
  },
  {
   "cell_type": "code",
   "execution_count": 53,
   "metadata": {},
   "outputs": [
    {
     "name": "stdout",
     "output_type": "stream",
     "text": [
      "0.35839374914964334\n",
      "0.07164376372718614\n",
      "0.052752148967024654\n"
     ]
    }
   ],
   "source": [
    "print(evaluate(\n",
    "    alu_vs_shuffle_seq_based,\n",
    "    SEQUENCE_BASED,\n",
    "    'Alu_vs_Shuffled',\n",
    "    MRNA_PATH,\n",
    "    'mRNA',\n",
    "    write=True\n",
    "))\n",
    "print(evaluate(\n",
    "    alu_vs_shuffle_phys_chem,\n",
    "    PHYS_CHEM_STRUCT,\n",
    "    'Alu_vs_Shuffled',\n",
    "    MRNA_PATH,\n",
    "    'mRNA',\n",
    "    write=True\n",
    "))\n",
    "print(evaluate(\n",
    "    alu_vs_shuffle_50_bp,\n",
    "    LAST_50_BP,\n",
    "    'Alu_vs_Shuffled',\n",
    "    MRNA_50_LAST_PATH,\n",
    "    'mRNA',\n",
    "    write=True\n",
    "))\n"
   ]
  },
  {
   "cell_type": "markdown",
   "metadata": {},
   "source": [
    "### Alu ==> RP"
   ]
  },
  {
   "cell_type": "code",
   "execution_count": 54,
   "metadata": {},
   "outputs": [
    {
     "name": "stdout",
     "output_type": "stream",
     "text": [
      "0.3089005235602094\n",
      "0.031413612565445025\n",
      "0.04\n"
     ]
    }
   ],
   "source": [
    "print(evaluate(\n",
    "    alu_vs_shuffle_seq_based,\n",
    "    SEQUENCE_BASED,\n",
    "    'Alu_vs_Shuffled',\n",
    "    RP_PATH,\n",
    "    'RP',\n",
    "    write=True\n",
    "))\n",
    "print(evaluate(\n",
    "    alu_vs_shuffle_phys_chem,\n",
    "    PHYS_CHEM_STRUCT,\n",
    "    'Alu_vs_Shuffled',\n",
    "    RP_PATH,\n",
    "    'RP',\n",
    "    write=True\n",
    "))\n",
    "print(evaluate(\n",
    "    alu_vs_shuffle_50_bp,\n",
    "    LAST_50_BP,\n",
    "    'Alu_vs_Shuffled',\n",
    "    RP_50_LAST_PATH,\n",
    "    'RP',\n",
    "    write=True\n",
    "))"
   ]
  },
  {
   "cell_type": "markdown",
   "metadata": {},
   "source": [
    "### Alu ==> L1"
   ]
  },
  {
   "cell_type": "code",
   "execution_count": 55,
   "metadata": {},
   "outputs": [
    {
     "name": "stdout",
     "output_type": "stream",
     "text": [
      "0.025245901639344263\n",
      "0.0009836065573770492\n",
      "0.0016611295681063123\n"
     ]
    }
   ],
   "source": [
    "print(evaluate(\n",
    "    alu_vs_shuffle_seq_based,\n",
    "    SEQUENCE_BASED,\n",
    "    'Alu_vs_Shuffled',\n",
    "    L1_PATH,\n",
    "    'L1',\n",
    "    write=True\n",
    "))\n",
    "print(evaluate(\n",
    "    alu_vs_shuffle_phys_chem,\n",
    "    PHYS_CHEM_STRUCT,\n",
    "    'Alu_vs_Shuffled',\n",
    "    L1_PATH,\n",
    "    'L1',\n",
    "    write=True\n",
    "))\n",
    "print(evaluate(\n",
    "    alu_vs_shuffle_50_bp,\n",
    "    LAST_50_BP,\n",
    "    'Alu_vs_Shuffled',\n",
    "    L1_50_BP_PATH,\n",
    "    'L1',\n",
    "    write=True\n",
    "))"
   ]
  },
  {
   "cell_type": "markdown",
   "metadata": {},
   "source": [
    "### L1 ==> Alu"
   ]
  },
  {
   "cell_type": "code",
   "execution_count": 56,
   "metadata": {},
   "outputs": [
    {
     "name": "stdout",
     "output_type": "stream",
     "text": [
      "0.4101697642610025\n",
      "0.0020114248933944807\n",
      "0.006114731675919221\n"
     ]
    }
   ],
   "source": [
    "print(evaluate(\n",
    "    l1_vs_shuffle_seq_based,\n",
    "    SEQUENCE_BASED,\n",
    "    'L1_vs_Shuffled',\n",
    "    ALU_PATH,\n",
    "    'Alu',\n",
    "    write=True\n",
    "))\n",
    "print(evaluate(\n",
    "    l1_vs_shuffle_phys_chem,\n",
    "    PHYS_CHEM_STRUCT,\n",
    "    'L1_vs_Shuffled',\n",
    "    ALU_PATH,\n",
    "    'Alu',\n",
    "    write=True\n",
    "))\n",
    "print(evaluate(\n",
    "    l1_vs_shuffle_50_bp,\n",
    "    LAST_50_BP,\n",
    "    'L1_vs_Shuffled',\n",
    "    ALU_50_BP_PATH,\n",
    "    'Alu',\n",
    "    write=True\n",
    "))\n"
   ]
  },
  {
   "cell_type": "markdown",
   "metadata": {},
   "source": [
    "### L1 ==> p_pseudo"
   ]
  },
  {
   "cell_type": "code",
   "execution_count": 57,
   "metadata": {},
   "outputs": [
    {
     "name": "stdout",
     "output_type": "stream",
     "text": [
      "0.10267414988445031\n",
      "0.02872235061076263\n",
      "0.15832315832315833\n"
     ]
    }
   ],
   "source": [
    "print(evaluate(\n",
    "    l1_vs_shuffle_seq_based,\n",
    "    SEQUENCE_BASED,\n",
    "    'L1_vs_Shuffled',\n",
    "    PSEUDOGENES_PATH,\n",
    "    'P_Pseudo',\n",
    "    write=True\n",
    "))\n",
    "print(evaluate(\n",
    "    l1_vs_shuffle_phys_chem,\n",
    "    PHYS_CHEM_STRUCT,\n",
    "    'L1_vs_Shuffled',\n",
    "    PSEUDOGENES_PATH,\n",
    "    'P_Pseudo',\n",
    "    write=True\n",
    "))\n",
    "print(evaluate(\n",
    "    l1_vs_shuffle_50_bp,\n",
    "    LAST_50_BP,\n",
    "    'L1_vs_Shuffled',\n",
    "    PSEUDOGENES_50_LAST_PATH,\n",
    "    'P_Pseudo',\n",
    "    write=True\n",
    "))"
   ]
  },
  {
   "cell_type": "markdown",
   "metadata": {},
   "source": [
    "### L1 ==> mRNA"
   ]
  },
  {
   "cell_type": "code",
   "execution_count": 58,
   "metadata": {},
   "outputs": [
    {
     "name": "stdout",
     "output_type": "stream",
     "text": [
      "0.10657155629847033\n",
      "0.06178934478804253\n",
      "0.12502889808957357\n"
     ]
    }
   ],
   "source": [
    "print(evaluate(\n",
    "    l1_vs_shuffle_seq_based,\n",
    "    SEQUENCE_BASED,\n",
    "    'L1_vs_Shuffled',\n",
    "    MRNA_PATH,\n",
    "    'mRNA',\n",
    "    write=True\n",
    "))\n",
    "print(evaluate(\n",
    "    l1_vs_shuffle_phys_chem,\n",
    "    PHYS_CHEM_STRUCT,\n",
    "    'L1_vs_Shuffled',\n",
    "    MRNA_PATH,\n",
    "    'mRNA',\n",
    "    write=True\n",
    "))\n",
    "print(evaluate(\n",
    "    l1_vs_shuffle_50_bp,\n",
    "    LAST_50_BP,\n",
    "    'L1_vs_Shuffled',\n",
    "    MRNA_50_LAST_PATH,\n",
    "    'mRNA',\n",
    "    write=True\n",
    "))"
   ]
  },
  {
   "cell_type": "markdown",
   "metadata": {},
   "source": [
    "### L1 ==> RP"
   ]
  },
  {
   "cell_type": "code",
   "execution_count": 59,
   "metadata": {},
   "outputs": [
    {
     "name": "stdout",
     "output_type": "stream",
     "text": [
      "0.06282722513089005\n",
      "0.041884816753926704\n",
      "0.08666666666666667\n"
     ]
    }
   ],
   "source": [
    "print(evaluate(\n",
    "    l1_vs_shuffle_seq_based,\n",
    "    SEQUENCE_BASED,\n",
    "    'L1_vs_Shuffled',\n",
    "    RP_PATH,\n",
    "    'RP',\n",
    "    write=True\n",
    "))\n",
    "print(evaluate(\n",
    "    l1_vs_shuffle_phys_chem,\n",
    "    PHYS_CHEM_STRUCT,\n",
    "    'L1_vs_Shuffled',\n",
    "    RP_PATH,\n",
    "    'RP',\n",
    "    write=True\n",
    "))\n",
    "print(evaluate(\n",
    "    l1_vs_shuffle_50_bp,\n",
    "    LAST_50_BP,\n",
    "    'L1_vs_Shuffled',\n",
    "    RP_50_LAST_PATH,\n",
    "    'RP',\n",
    "    write=True\n",
    "))\n"
   ]
  },
  {
   "cell_type": "markdown",
   "metadata": {},
   "source": [
    "### Alu, L1 ==> RP"
   ]
  },
  {
   "cell_type": "code",
   "execution_count": 60,
   "metadata": {},
   "outputs": [
    {
     "name": "stdout",
     "output_type": "stream",
     "text": [
      "0.13089005235602094\n",
      "0.05235602094240838\n",
      "0.05333333333333334\n"
     ]
    }
   ],
   "source": [
    "print(evaluate(\n",
    "    alu_l1_vs_shuffle_seq_based,\n",
    "    SEQUENCE_BASED,\n",
    "    'Alu_L1_vs_Shuffled',\n",
    "    RP_PATH,\n",
    "    'RP',\n",
    "    write=True\n",
    "))\n",
    "print(evaluate(\n",
    "    alu_l1_vs_shuffle_phys_chem,\n",
    "    PHYS_CHEM_STRUCT,\n",
    "    'Alu_L1_vs_Shuffled',\n",
    "    RP_PATH,\n",
    "    'RP',\n",
    "    write=True\n",
    "))\n",
    "print(evaluate(\n",
    "    alu_l1_vs_shuffle_50_bp,\n",
    "    LAST_50_BP,\n",
    "    'Alu_L1_vs_Shuffled',\n",
    "    RP_50_LAST_PATH,\n",
    "    'RP',\n",
    "    write=True\n",
    "))\n"
   ]
  },
  {
   "cell_type": "code",
   "execution_count": null,
   "metadata": {},
   "outputs": [],
   "source": []
  },
  {
   "cell_type": "markdown",
   "metadata": {},
   "source": [
    "### Alu, L1 ==> Alu"
   ]
  },
  {
   "cell_type": "code",
   "execution_count": 61,
   "metadata": {},
   "outputs": [],
   "source": [
    "# print(evaluate(\n",
    "#     alu_l1_vs_shuffle_seq_based,\n",
    "#     SEQUENCE_BASED,\n",
    "#     'Alu_L1_vs_Shuffled',\n",
    "#     ALU_PATH,\n",
    "#     'Alu',\n",
    "#     write=True\n",
    "# ))\n",
    "# print(evaluate(\n",
    "#     alu_l1_vs_shuffle_phys_chem,\n",
    "#     PHYS_CHEM_STRUCT,\n",
    "#     'Alu_L1_vs_Shuffled',\n",
    "#     ALU_PATH,\n",
    "#     'Alu',\n",
    "#     write=True\n",
    "# ))\n",
    "# print(evaluate(\n",
    "#     alu_l1_vs_shuffle_50_bp,\n",
    "#     LAST_50_BP,\n",
    "#     'Alu_L1_vs_Shuffled',\n",
    "#     ALU_50_BP_PATH,\n",
    "#     'Alu',\n",
    "#     write=True\n",
    "# ))\n"
   ]
  },
  {
   "cell_type": "markdown",
   "metadata": {},
   "source": [
    "### Alu, L1 ==> L1"
   ]
  },
  {
   "cell_type": "code",
   "execution_count": 62,
   "metadata": {},
   "outputs": [],
   "source": [
    "# print(evaluate(\n",
    "#     alu_l1_vs_shuffle_seq_based,\n",
    "#     SEQUENCE_BASED,\n",
    "#     'Alu_L1_vs_Shuffled',\n",
    "#     L1_PATH,\n",
    "#     'L1',\n",
    "#     write=True\n",
    "# ))\n",
    "# print(evaluate(\n",
    "#     alu_l1_vs_shuffle_phys_chem,\n",
    "#     PHYS_CHEM_STRUCT,\n",
    "#     'Alu_L1_vs_Shuffled',\n",
    "#     L1_PATH,\n",
    "#     'L1',\n",
    "#     write=True\n",
    "# ))\n",
    "# print(evaluate(\n",
    "#     alu_l1_vs_shuffle_50_bp,\n",
    "#     LAST_50_BP,\n",
    "#     'Alu_L1_vs_Shuffled',\n",
    "#     L1_50_BP_PATH,\n",
    "#     'L1',\n",
    "#     write=True\n",
    "# ))\n"
   ]
  },
  {
   "cell_type": "code",
   "execution_count": null,
   "metadata": {},
   "outputs": [],
   "source": []
  }
 ],
 "metadata": {
  "kernelspec": {
   "display_name": "Python 3",
   "language": "python",
   "name": "python3"
  },
  "language_info": {
   "codemirror_mode": {
    "name": "ipython",
    "version": 3
   },
   "file_extension": ".py",
   "mimetype": "text/x-python",
   "name": "python",
   "nbconvert_exporter": "python",
   "pygments_lexer": "ipython3",
   "version": "3.6.6"
  }
 },
 "nbformat": 4,
 "nbformat_minor": 2
}
