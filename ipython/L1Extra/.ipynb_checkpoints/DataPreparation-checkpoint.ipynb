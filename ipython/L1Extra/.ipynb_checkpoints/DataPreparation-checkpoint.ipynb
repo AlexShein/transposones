{
 "cells": [
  {
   "cell_type": "code",
   "execution_count": 2,
   "metadata": {},
   "outputs": [],
   "source": [
    "from link.src.py_scripts.process_pals import begin_processing\n",
    "import os\n",
    "import numpy as np"
   ]
  },
  {
   "cell_type": "code",
   "execution_count": 2,
   "metadata": {},
   "outputs": [
    {
     "name": "stderr",
     "output_type": "stream",
     "text": [
      "2019-02-25 09:53:00,155 - process_pals.py - INFO - Got 44328 files\n",
      "2019-02-25 09:53:09,823 - process_pals.py - INFO - Got 44328 lines\n",
      "2019-02-25 09:53:09,824 - process_pals.py - INFO - Processing with chunk_size = 5542. Starting 8 workers\n",
      "2019-02-25 09:53:09,854 - link.src.py_scripts.process_line-3134 - INFO - Started new worker\n",
      "2019-02-25 09:53:09,855 - link.src.py_scripts.process_line-3135 - INFO - Started new worker\n",
      "2019-02-25 09:53:09,858 - link.src.py_scripts.process_line-3136 - INFO - Started new worker\n",
      "2019-02-25 09:53:09,861 - link.src.py_scripts.process_line-3137 - INFO - Started new worker\n",
      "2019-02-25 09:53:09,864 - link.src.py_scripts.process_line-3138 - INFO - Started new worker\n",
      "2019-02-25 09:53:09,866 - link.src.py_scripts.process_line-3139 - INFO - Started new worker\n",
      "2019-02-25 09:53:09,871 - link.src.py_scripts.process_line-3141 - INFO - Started new worker\n",
      "2019-02-25 09:53:09,869 - link.src.py_scripts.process_line-3140 - INFO - Started new worker\n",
      "2019-02-25 09:54:16,077 - link.src.py_scripts.process_line-3134 - INFO - Job finished, execution time 66.22 seconds\n",
      "2019-02-25 09:54:16,198 - link.src.py_scripts.process_line-3140 - INFO - Job finished, execution time 66.31 seconds\n",
      "2019-02-25 09:54:16,203 - link.src.py_scripts.process_line-3136 - INFO - Job finished, execution time 66.34 seconds\n",
      "2019-02-25 09:54:16,249 - link.src.py_scripts.process_line-3135 - INFO - Job finished, execution time 66.39 seconds\n",
      "2019-02-25 09:54:16,329 - link.src.py_scripts.process_line-3141 - INFO - Job finished, execution time 66.44 seconds\n",
      "2019-02-25 09:54:16,390 - link.src.py_scripts.process_line-3137 - INFO - Job finished, execution time 66.52 seconds\n",
      "2019-02-25 09:54:16,428 - link.src.py_scripts.process_line-3139 - INFO - Job finished, execution time 66.54 seconds\n",
      "2019-02-25 09:54:16,531 - link.src.py_scripts.process_line-3138 - INFO - Job finished, execution time 66.66 seconds\n",
      "2019-02-25 09:54:17,616 - process_pals.py - INFO - Combining results into single dict\n",
      "2019-02-25 09:54:17,618 - process_pals.py - INFO - Creating df\n",
      "2019-02-25 09:54:19,480 - process_pals.py - INFO - Writing df to Pseudogenes3End.csv\n",
      "2019-02-25 09:54:26,043 - process_pals.py - INFO - Done! Execution time 85.94 seconds\n"
     ]
    }
   ],
   "source": [
    "# Pseudogenes\n",
    "\n",
    "PATH = '../../data/pseudogenes/50_last_pals/'\n",
    "LINES = 'last'\n",
    "OMIT = ''\n",
    "OUTPUT_FILE = 'Pseudogenes3End.csv'\n",
    "N_LINES = 0\n",
    "\n",
    "_ = begin_processing(\n",
    "    PATH,\n",
    "    LINES,\n",
    "    OMIT,\n",
    "    output_file=OUTPUT_FILE,\n",
    "    n_lines=N_LINES,\n",
    ")"
   ]
  },
  {
   "cell_type": "code",
   "execution_count": 3,
   "metadata": {},
   "outputs": [
    {
     "name": "stderr",
     "output_type": "stream",
     "text": [
      "2019-02-25 09:54:26,274 - process_pals.py - INFO - Got 44824 files\n",
      "2019-02-25 09:54:35,740 - process_pals.py - INFO - Got 44824 lines\n",
      "2019-02-25 09:54:35,741 - process_pals.py - INFO - Processing with chunk_size = 5604. Starting 8 workers\n",
      "2019-02-25 09:54:35,777 - link.src.py_scripts.process_line-3201 - INFO - Started new worker\n",
      "2019-02-25 09:54:35,778 - link.src.py_scripts.process_line-3202 - INFO - Started new worker\n",
      "2019-02-25 09:54:35,780 - link.src.py_scripts.process_line-3203 - INFO - Started new worker\n",
      "2019-02-25 09:54:35,781 - link.src.py_scripts.process_line-3204 - INFO - Started new worker\n",
      "2019-02-25 09:54:35,783 - link.src.py_scripts.process_line-3205 - INFO - Started new worker\n",
      "2019-02-25 09:54:35,789 - link.src.py_scripts.process_line-3206 - INFO - Started new worker\n",
      "2019-02-25 09:54:35,791 - link.src.py_scripts.process_line-3207 - INFO - Started new worker\n",
      "2019-02-25 09:54:35,793 - link.src.py_scripts.process_line-3208 - INFO - Started new worker\n",
      "2019-02-25 09:55:42,561 - link.src.py_scripts.process_line-3201 - INFO - Job finished, execution time 66.78 seconds\n",
      "2019-02-25 09:55:42,563 - link.src.py_scripts.process_line-3204 - INFO - Job finished, execution time 66.77 seconds\n",
      "2019-02-25 09:55:42,640 - link.src.py_scripts.process_line-3202 - INFO - Job finished, execution time 66.86 seconds\n",
      "2019-02-25 09:55:42,649 - link.src.py_scripts.process_line-3207 - INFO - Job finished, execution time 66.85 seconds\n",
      "2019-02-25 09:55:42,976 - link.src.py_scripts.process_line-3203 - INFO - Job finished, execution time 67.18 seconds\n",
      "2019-02-25 09:55:42,979 - link.src.py_scripts.process_line-3205 - INFO - Job finished, execution time 67.19 seconds\n",
      "2019-02-25 09:55:43,186 - link.src.py_scripts.process_line-3208 - INFO - Job finished, execution time 67.37 seconds\n",
      "2019-02-25 09:55:43,451 - link.src.py_scripts.process_line-3206 - INFO - Job finished, execution time 67.64 seconds\n",
      "2019-02-25 09:55:44,103 - process_pals.py - INFO - Combining results into single dict\n",
      "2019-02-25 09:55:44,105 - process_pals.py - INFO - Creating df\n",
      "2019-02-25 09:55:46,008 - process_pals.py - INFO - Writing df to Shuffled_Pseudogenes3End.csv\n",
      "2019-02-25 09:55:52,625 - process_pals.py - INFO - Done! Execution time 86.41 seconds\n"
     ]
    }
   ],
   "source": [
    "# Shuffled pseudogenes\n",
    "\n",
    "PATH = '../../data/pseudogenes/50_last_shuffled_pals/'\n",
    "LINES = 'last'\n",
    "OMIT = ''\n",
    "OUTPUT_FILE = 'Shuffled_Pseudogenes3End.csv'\n",
    "N_LINES = 0\n",
    "_ = begin_processing(\n",
    "    PATH,\n",
    "    LINES,\n",
    "    OMIT,\n",
    "    output_file=OUTPUT_FILE,\n",
    "    n_lines=N_LINES,\n",
    ")"
   ]
  },
  {
   "cell_type": "code",
   "execution_count": 4,
   "metadata": {},
   "outputs": [
    {
     "name": "stderr",
     "output_type": "stream",
     "text": [
      "2019-02-25 09:55:52,859 - process_pals.py - INFO - Got 51449 files\n",
      "2019-02-25 09:58:04,998 - process_pals.py - INFO - Got 51449 lines\n",
      "2019-02-25 09:58:04,999 - process_pals.py - INFO - Processing with chunk_size = 6432. Starting 8 workers\n",
      "2019-02-25 09:58:05,043 - link.src.py_scripts.process_line-3282 - INFO - Started new worker\n",
      "2019-02-25 09:58:05,044 - link.src.py_scripts.process_line-3283 - INFO - Started new worker\n",
      "2019-02-25 09:58:05,046 - link.src.py_scripts.process_line-3284 - INFO - Started new worker\n",
      "2019-02-25 09:58:05,048 - link.src.py_scripts.process_line-3285 - INFO - Started new worker\n",
      "2019-02-25 09:58:05,053 - link.src.py_scripts.process_line-3286 - INFO - Started new worker\n",
      "2019-02-25 09:58:05,054 - link.src.py_scripts.process_line-3287 - INFO - Started new worker\n",
      "2019-02-25 09:58:05,056 - link.src.py_scripts.process_line-3288 - INFO - Started new worker\n",
      "2019-02-25 09:58:05,063 - link.src.py_scripts.process_line-3289 - INFO - Started new worker\n",
      "2019-02-25 09:59:21,706 - link.src.py_scripts.process_line-3282 - INFO - Job finished, execution time 76.66 seconds\n",
      "2019-02-25 09:59:21,814 - link.src.py_scripts.process_line-3283 - INFO - Job finished, execution time 76.76 seconds\n",
      "2019-02-25 09:59:21,940 - link.src.py_scripts.process_line-3288 - INFO - Job finished, execution time 76.88 seconds\n",
      "2019-02-25 09:59:22,063 - link.src.py_scripts.process_line-3287 - INFO - Job finished, execution time 76.99 seconds\n",
      "2019-02-25 09:59:22,069 - link.src.py_scripts.process_line-3285 - INFO - Job finished, execution time 77.18 seconds\n",
      "2019-02-25 09:59:22,166 - link.src.py_scripts.process_line-3289 - INFO - Job finished, execution time 77.98 seconds\n",
      "2019-02-25 09:59:22,308 - link.src.py_scripts.process_line-3284 - INFO - Job finished, execution time 77.25 seconds\n",
      "2019-02-25 09:59:22,329 - link.src.py_scripts.process_line-3286 - INFO - Job finished, execution time 77.26 seconds\n",
      "2019-02-25 09:59:23,448 - process_pals.py - INFO - Combining results into single dict\n",
      "2019-02-25 09:59:23,451 - process_pals.py - INFO - Creating df\n",
      "2019-02-25 09:59:25,650 - process_pals.py - INFO - Writing df to KnownGene3End.csv\n",
      "2019-02-25 09:59:33,223 - process_pals.py - INFO - Done! Execution time 220.42 seconds\n"
     ]
    }
   ],
   "source": [
    "# KnownGene\n",
    "\n",
    "PATH = '../../data/knownGene/50_last_pals/'\n",
    "LINES = 'last'\n",
    "OMIT = ''\n",
    "OUTPUT_FILE = 'KnownGene3End.csv'\n",
    "N_LINES = 0\n",
    "\n",
    "_ = begin_processing(\n",
    "    PATH,\n",
    "    LINES,\n",
    "    OMIT,\n",
    "    output_file=OUTPUT_FILE,\n",
    "    n_lines=N_LINES,\n",
    ")"
   ]
  },
  {
   "cell_type": "code",
   "execution_count": 5,
   "metadata": {},
   "outputs": [
    {
     "name": "stderr",
     "output_type": "stream",
     "text": [
      "2019-02-25 09:59:34,267 - process_pals.py - INFO - Got 48792 files\n",
      "2019-02-25 10:05:17,126 - process_pals.py - INFO - Got 48792 lines\n",
      "2019-02-25 10:05:17,126 - process_pals.py - INFO - Processing with chunk_size = 6100. Starting 8 workers\n",
      "2019-02-25 10:05:17,193 - link.src.py_scripts.process_line-3556 - INFO - Started new worker\n",
      "2019-02-25 10:05:17,195 - link.src.py_scripts.process_line-3557 - INFO - Started new worker\n",
      "2019-02-25 10:05:17,208 - link.src.py_scripts.process_line-3559 - INFO - Started new worker\n",
      "2019-02-25 10:05:17,225 - link.src.py_scripts.process_line-3562 - INFO - Started new worker\n",
      "2019-02-25 10:05:17,202 - link.src.py_scripts.process_line-3558 - INFO - Started new worker\n",
      "2019-02-25 10:05:17,219 - link.src.py_scripts.process_line-3561 - INFO - Started new worker\n",
      "2019-02-25 10:05:17,234 - link.src.py_scripts.process_line-3563 - INFO - Started new worker\n",
      "2019-02-25 10:05:17,213 - link.src.py_scripts.process_line-3560 - INFO - Started new worker\n",
      "2019-02-25 10:07:09,659 - link.src.py_scripts.process_line-3562 - INFO - Job finished, execution time 112.42 seconds\n",
      "2019-02-25 10:07:11,425 - link.src.py_scripts.process_line-3558 - INFO - Job finished, execution time 114.19 seconds\n",
      "2019-02-25 10:07:13,280 - link.src.py_scripts.process_line-3559 - INFO - Job finished, execution time 116.56 seconds\n",
      "2019-02-25 10:07:13,302 - link.src.py_scripts.process_line-3561 - INFO - Job finished, execution time 116.66 seconds\n",
      "2019-02-25 10:07:14,135 - link.src.py_scripts.process_line-3556 - INFO - Job finished, execution time 116.93 seconds\n",
      "2019-02-25 10:07:14,173 - link.src.py_scripts.process_line-3557 - INFO - Job finished, execution time 116.97 seconds\n",
      "2019-02-25 10:07:14,226 - link.src.py_scripts.process_line-3560 - INFO - Job finished, execution time 116.97 seconds\n",
      "2019-02-25 10:07:15,140 - link.src.py_scripts.process_line-3563 - INFO - Job finished, execution time 117.89 seconds\n",
      "2019-02-25 10:07:15,847 - process_pals.py - INFO - Combining results into single dict\n",
      "2019-02-25 10:07:15,849 - process_pals.py - INFO - Creating df\n",
      "2019-02-25 10:07:19,841 - process_pals.py - INFO - Writing df to Shuffled_knownGene3End.csv\n",
      "2019-02-25 10:07:31,957 - process_pals.py - INFO - Done! Execution time 478.56 seconds\n"
     ]
    }
   ],
   "source": [
    "# Shuffled knownGene\n",
    "\n",
    "PATH = '../../data/knownGene/50_last_shuffled_pals/'\n",
    "LINES = 'last'\n",
    "OMIT = ''\n",
    "OUTPUT_FILE = 'Shuffled_knownGene3End.csv'\n",
    "N_LINES = 0\n",
    "\n",
    "_ = begin_processing(\n",
    "    PATH,\n",
    "    LINES,\n",
    "    OMIT,\n",
    "    output_file=OUTPUT_FILE,\n",
    "    n_lines=N_LINES,\n",
    ")"
   ]
  },
  {
   "cell_type": "code",
   "execution_count": 6,
   "metadata": {},
   "outputs": [
    {
     "name": "stdout",
     "output_type": "stream",
     "text": [
      "The history saving thread hit an unexpected error (OperationalError('attempt to write a readonly database',)).History will not be written to the database.\n"
     ]
    }
   ],
   "source": [
    "# 50 last bases"
   ]
  },
  {
   "cell_type": "code",
   "execution_count": 3,
   "metadata": {},
   "outputs": [],
   "source": [
    "l1_path = '../../data/L1/data/50_last/'\n",
    "l1_files = os.listdir(l1_path)\n",
    "sequences = []\n",
    "for f_n in l1_files:\n",
    "    with open(os.path.join(l1_path, f_n), 'r') as file:\n",
    "        sequences.append(file.readlines()[1].strip().upper())\n",
    "# sequences = np.unique(sequences)\n",
    "\n",
    "with open('L1_50_last.txt', 'w') as file:\n",
    "    for seq in sequences:\n",
    "        file.write(seq)\n",
    "        file.write('\\n')\n",
    "\n",
    "\n",
    "l1_shuffled_path = '../../data/L1/data/shuffled_50_last/'\n",
    "l1_shuffled_files = os.listdir(l1_shuffled_path)\n",
    "sequences = []\n",
    "for f_n in l1_shuffled_files:\n",
    "    with open(os.path.join(l1_shuffled_path, f_n), 'r') as file:\n",
    "        sequences.append(file.readlines()[0].strip().upper())\n",
    "sequences = np.unique(sequences)\n",
    "\n",
    "with open('L1_50_last_shuffled.txt', 'w') as file:\n",
    "    for seq in sequences:\n",
    "        file.write(seq)\n",
    "        file.write('\\n')\n"
   ]
  },
  {
   "cell_type": "code",
   "execution_count": 12,
   "metadata": {},
   "outputs": [],
   "source": [
    "knownGene_path = '../../data/knownGene/50_last/'\n",
    "knownGene_files = os.listdir(knownGene_path)\n",
    "sequences = []\n",
    "for f_n in knownGene_files:\n",
    "    with open(os.path.join(knownGene_path, f_n), 'r') as file:\n",
    "        sequences.append(file.readlines()[1].strip().upper())\n",
    "sequences = np.unique(sequences)\n",
    "\n",
    "with open('KnownGene_50_last.txt', 'w') as file:\n",
    "    for seq in sequences:\n",
    "        file.write(seq)\n",
    "        file.write('\\n')\n",
    "\n",
    "knownGene_shuffled_path = '../../data/knownGene/50_last_shuffled/'\n",
    "knownGene_shuffled_files = os.listdir(knownGene_shuffled_path)\n",
    "sequences = []\n",
    "for f_n in knownGene_shuffled_files:\n",
    "    with open(os.path.join(knownGene_shuffled_path, f_n), 'r') as file:\n",
    "        sequences.append(file.readlines()[0].strip().upper())\n",
    "sequences = np.unique(sequences)\n",
    "\n",
    "with open('KnownGene_50_last_shuffled.txt', 'w') as file:\n",
    "    for seq in sequences:\n",
    "        file.write(seq)\n",
    "        file.write('\\n')"
   ]
  },
  {
   "cell_type": "code",
   "execution_count": 4,
   "metadata": {},
   "outputs": [],
   "source": [
    "pseudogenes_path = '../../data/pseudogenes/50_last/'\n",
    "pseudogenes_files = os.listdir(pseudogenes_path)\n",
    "sequences = []\n",
    "for f_n in pseudogenes_files:\n",
    "    with open(os.path.join(pseudogenes_path, f_n), 'r') as file:\n",
    "        sequences.append(file.readlines()[1].strip().upper())\n",
    "sequences = np.unique(sequences)\n",
    "\n",
    "with open('pseudogenes_50_last.txt', 'w') as file:\n",
    "    for seq in sequences:\n",
    "        file.write(seq)\n",
    "        file.write('\\n')\n",
    "\n",
    "pseudogenes_shuffled_path = '../../data/pseudogenes/50_last_shuffled/'\n",
    "pseudogenes_shuffled_files = os.listdir(pseudogenes_shuffled_path)\n",
    "sequences = []\n",
    "for f_n in pseudogenes_shuffled_files:\n",
    "    with open(os.path.join(pseudogenes_shuffled_path, f_n), 'r') as file:\n",
    "        sequences.append(file.readlines()[0].strip().upper())\n",
    "sequences = np.unique(sequences)\n",
    "\n",
    "with open('pseudogenes_50_last_shuffled.txt', 'w') as file:\n",
    "    for seq in sequences:\n",
    "        file.write(seq)\n",
    "        file.write('\\n')"
   ]
  },
  {
   "cell_type": "code",
   "execution_count": null,
   "metadata": {},
   "outputs": [],
   "source": []
  }
 ],
 "metadata": {
  "kernelspec": {
   "display_name": "Python 3",
   "language": "python",
   "name": "python3"
  },
  "language_info": {
   "codemirror_mode": {
    "name": "ipython",
    "version": 3
   },
   "file_extension": ".py",
   "mimetype": "text/x-python",
   "name": "python",
   "nbconvert_exporter": "python",
   "pygments_lexer": "ipython3",
   "version": "3.6.6"
  }
 },
 "nbformat": 4,
 "nbformat_minor": 2
}
