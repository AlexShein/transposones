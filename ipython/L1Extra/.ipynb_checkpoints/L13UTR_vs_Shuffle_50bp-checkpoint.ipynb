{
 "cells": [
  {
   "cell_type": "code",
   "execution_count": 1,
   "metadata": {},
   "outputs": [],
   "source": [
    "from sklearn.ensemble import RandomForestClassifier\n",
    "from sklearn.model_selection import KFold, train_test_split\n",
    "from sklearn.metrics import roc_curve, auc, accuracy_score, precision_score, recall_score, precision_recall_curve, average_precision_score\n",
    "\n",
    "import numpy as np\n",
    "import pandas as pd\n",
    "\n",
    "import matplotlib.pyplot as plt\n",
    "import seaborn as sns\n",
    "sns.set()"
   ]
  },
  {
   "cell_type": "code",
   "execution_count": 2,
   "metadata": {},
   "outputs": [],
   "source": [
    "from pylab import rcParams\n",
    "rcParams['figure.figsize'] = 12, 8"
   ]
  },
  {
   "cell_type": "code",
   "execution_count": 3,
   "metadata": {},
   "outputs": [],
   "source": [
    "from link.src.py_scripts.process_pals import begin_processing"
   ]
  },
  {
   "cell_type": "code",
   "execution_count": 4,
   "metadata": {},
   "outputs": [],
   "source": [
    "random_seed = 17"
   ]
  },
  {
   "cell_type": "markdown",
   "metadata": {},
   "source": [
    "# Data preparation"
   ]
  },
  {
   "cell_type": "code",
   "execution_count": 5,
   "metadata": {},
   "outputs": [],
   "source": [
    "def get_trinucleotides(lst):\n",
    "    \"\"\"\n",
    "    '1234' -> ['123','234']\n",
    "    \"\"\"\n",
    "    res = []\n",
    "    for i in range(len(lst) - 2):\n",
    "        res.append(lst[i]+lst[i + 1]+lst[i + 2])\n",
    "    return res\n",
    "\n",
    "\n",
    "def get_dinucleotides(lst):\n",
    "    \"\"\"\n",
    "    '123' -> ['12', '23']\n",
    "    \"\"\"\n",
    "    res = []\n",
    "    for i in range(len(lst) - 1):\n",
    "        res.append(lst[i]+lst[i + 1])\n",
    "    return res\n",
    "\n",
    "def annotate_with_di_tri_nucleotides(lines):\n",
    "    annotated_rows = []\n",
    "    for line in lines:\n",
    "        row = {}\n",
    "        for di_n in get_dinucleotides(line)+get_trinucleotides(line):\n",
    "            row[di_n]=row.get(di_n,0)+1\n",
    "        annotated_rows.append(row)\n",
    "    return pd.DataFrame(annotated_rows).fillna(0)"
   ]
  },
  {
   "cell_type": "code",
   "execution_count": 19,
   "metadata": {},
   "outputs": [],
   "source": [
    "# True positive data\n",
    "with open('../../data/sequences/L1_first_50_bs_2.txt','r') as f:\n",
    "    L1_first_50_bps = np.unique(list(map(lambda x: x.strip(),f.readlines())))\n",
    "with open('../../data/sequences/L1_last_50_bs_2.txt','r') as f:\n",
    "    L1_last_50_bp = np.unique(list(map(lambda x: x.strip(),f.readlines())))\n",
    "# True negative data\n",
    "l1_shuffled_50_bp = []\n",
    "target_file = 'L1_50_last_shuffled.txt'\n",
    "with open(target_file, 'r') as file:\n",
    "    for line in file:\n",
    "        l1_shuffled_50_bp.append(line.strip())\n",
    "\n",
    "#Exam Pseudogenes data\n",
    "pseudogenes_50_bp = []\n",
    "target_file = 'pseudogenes_50_last.txt'\n",
    "with open(target_file, 'r') as file:\n",
    "    for line in file:\n",
    "        pseudogenes_50_bp.append(line.strip())\n",
    "#Exam KnownGenes data\n",
    "knownGene_shuffled_50_bp = []\n",
    "target_file = 'KnownGene_50_last_shuffled.txt'\n",
    "with open(target_file, 'r') as file:\n",
    "    for line in file:\n",
    "        knownGene_shuffled_50_bp.append(line.strip())"
   ]
  },
  {
   "cell_type": "code",
   "execution_count": 8,
   "metadata": {},
   "outputs": [],
   "source": [
    "p = len(L1_first_50_bps)/len(L1_last_50_bp); m = min(p,1/p)\n",
    "p1 = len(l1_shuffled_50_bp)/len(L1_last_50_bp); m1 = min(p1,1/p1)\n",
    "L1_first_50_bps = np.random.choice(L1_first_50_bps,round(len(L1_first_50_bps)*m/2), replace=False)\n",
    "l1_shuffled_50_bp = np.random.choice(l1_shuffled_50_bp,round(len(l1_shuffled_50_bp)*m1), replace=False)\n",
    "L1_last_50_bp = np.random.choice(L1_last_50_bp, round(len(L1_last_50_bp)/2), replace=False)"
   ]
  },
  {
   "cell_type": "code",
   "execution_count": 20,
   "metadata": {},
   "outputs": [],
   "source": [
    "# True positive data\n",
    "df_True = annotate_with_di_tri_nucleotides(np.concatenate([L1_first_50_bps, L1_last_50_bp]))\n",
    "# True negative data\n",
    "df_False = annotate_with_di_tri_nucleotides(l1_shuffled_50_bp)\n",
    "\n",
    "# Exam Pseudogenes\n",
    "df_Pseudogenes = annotate_with_di_tri_nucleotides(pseudogenes_50_bp)\n",
    "# Exam KnownGenes\n",
    "df_KnownGenes = annotate_with_di_tri_nucleotides(knownGene_shuffled_50_bp)"
   ]
  },
  {
   "cell_type": "markdown",
   "metadata": {},
   "source": [
    "# Data analysis & visualisation"
   ]
  },
  {
   "cell_type": "code",
   "execution_count": 10,
   "metadata": {},
   "outputs": [],
   "source": [
    "if df_True.shape[0] > df_False.shape[0]:\n",
    "    df_True_n = df_True.sample(df_False.shape[0], random_state=random_seed)\n",
    "    df_False_n = df_False\n",
    "else:\n",
    "    df_True_n = df_True\n",
    "    df_False_n = df_False.sample(df_True.shape[0], random_state=random_seed)\n",
    "    \n",
    "X = pd.concat([df_True_n, df_False_n], ignore_index=True)\n",
    "Y = pd.Series(np.append(np.full(df_True_n.shape[0], 1), \n",
    "                        np.full(df_False_n.shape[0], 0)))"
   ]
  },
  {
   "cell_type": "code",
   "execution_count": 11,
   "metadata": {},
   "outputs": [],
   "source": [
    "rf = RandomForestClassifier(n_jobs=-1, n_estimators=2000)\n",
    "folded_data = KFold(n_splits=5, random_state=random_seed, shuffle=True)"
   ]
  },
  {
   "cell_type": "code",
   "execution_count": 12,
   "metadata": {},
   "outputs": [
    {
     "name": "stderr",
     "output_type": "stream",
     "text": [
      "2019-02-26 22:11:23,944 - matplotlib.axes._base - DEBUG - update_title_pos\n",
      "2019-02-26 22:11:23,969 - matplotlib.font_manager - DEBUG - findfont: Matching :family=sans-serif:style=normal:variant=normal:weight=normal:stretch=normal:size=11.0 to DejaVu Sans ('/home/xelmar/.local/lib/python3.6/site-packages/matplotlib/mpl-data/fonts/ttf/DejaVuSans.ttf') with score of 2.050000.\n",
      "2019-02-26 22:11:24,005 - matplotlib.font_manager - DEBUG - findfont: Matching :family=sans-serif:style=normal:variant=normal:weight=normal:stretch=normal:size=12.0 to DejaVu Sans ('/home/xelmar/.local/lib/python3.6/site-packages/matplotlib/mpl-data/fonts/ttf/DejaVuSans.ttf') with score of 2.050000.\n",
      "2019-02-26 22:11:24,032 - matplotlib.font_manager - DEBUG - findfont: Matching :family=STIXGeneral:style=normal:variant=normal:weight=normal:stretch=normal:size=10.0 to STIXGeneral ('/home/xelmar/.local/lib/python3.6/site-packages/matplotlib/mpl-data/fonts/ttf/STIXGeneral.ttf') with score of 0.050000.\n",
      "2019-02-26 22:11:24,045 - matplotlib.font_manager - DEBUG - findfont: Matching :family=STIXGeneral:style=italic:variant=normal:weight=normal:stretch=normal:size=10.0 to STIXGeneral ('/home/xelmar/.local/lib/python3.6/site-packages/matplotlib/mpl-data/fonts/ttf/STIXGeneralItalic.ttf') with score of 0.050000.\n",
      "2019-02-26 22:11:24,046 - matplotlib.font_manager - DEBUG - findfont: Matching :family=STIXGeneral:style=normal:variant=normal:weight=bold:stretch=normal:size=10.0 to STIXGeneral ('/home/xelmar/.local/lib/python3.6/site-packages/matplotlib/mpl-data/fonts/ttf/STIXGeneralBol.ttf') with score of 0.000000.\n",
      "2019-02-26 22:11:24,048 - matplotlib.font_manager - DEBUG - findfont: Matching :family=STIXNonUnicode:style=normal:variant=normal:weight=normal:stretch=normal:size=10.0 to STIXNonUnicode ('/home/xelmar/.local/lib/python3.6/site-packages/matplotlib/mpl-data/fonts/ttf/STIXNonUni.ttf') with score of 0.050000.\n",
      "2019-02-26 22:11:24,051 - matplotlib.font_manager - DEBUG - findfont: Matching :family=STIXNonUnicode:style=italic:variant=normal:weight=normal:stretch=normal:size=10.0 to STIXNonUnicode ('/home/xelmar/.local/lib/python3.6/site-packages/matplotlib/mpl-data/fonts/ttf/STIXNonUniIta.ttf') with score of 0.050000.\n",
      "2019-02-26 22:11:24,052 - matplotlib.font_manager - DEBUG - findfont: Matching :family=STIXNonUnicode:style=normal:variant=normal:weight=bold:stretch=normal:size=10.0 to STIXNonUnicode ('/home/xelmar/.local/lib/python3.6/site-packages/matplotlib/mpl-data/fonts/ttf/STIXNonUniBol.ttf') with score of 0.000000.\n",
      "2019-02-26 22:11:24,054 - matplotlib.font_manager - DEBUG - findfont: Matching :family=STIXSizeOneSym:style=normal:variant=normal:weight=normal:stretch=normal:size=10.0 to STIXSizeOneSym ('/home/xelmar/.local/lib/python3.6/site-packages/matplotlib/mpl-data/fonts/ttf/STIXSizOneSymReg.ttf') with score of 0.050000.\n",
      "2019-02-26 22:11:24,056 - matplotlib.font_manager - DEBUG - findfont: Matching :family=STIXSizeTwoSym:style=normal:variant=normal:weight=normal:stretch=normal:size=10.0 to STIXSizeTwoSym ('/home/xelmar/.local/lib/python3.6/site-packages/matplotlib/mpl-data/fonts/ttf/STIXSizTwoSymReg.ttf') with score of 0.050000.\n",
      "2019-02-26 22:11:24,058 - matplotlib.font_manager - DEBUG - findfont: Matching :family=STIXSizeThreeSym:style=normal:variant=normal:weight=normal:stretch=normal:size=10.0 to STIXSizeThreeSym ('/home/xelmar/.local/lib/python3.6/site-packages/matplotlib/mpl-data/fonts/ttf/STIXSizThreeSymReg.ttf') with score of 0.050000.\n",
      "2019-02-26 22:11:24,060 - matplotlib.font_manager - DEBUG - findfont: Matching :family=STIXSizeFourSym:style=normal:variant=normal:weight=normal:stretch=normal:size=10.0 to STIXSizeFourSym ('/home/xelmar/.local/lib/python3.6/site-packages/matplotlib/mpl-data/fonts/ttf/STIXSizFourSymReg.ttf') with score of 0.050000.\n",
      "2019-02-26 22:11:24,062 - matplotlib.font_manager - DEBUG - findfont: Matching :family=STIXSizeFiveSym:style=normal:variant=normal:weight=normal:stretch=normal:size=10.0 to STIXSizeFiveSym ('/home/xelmar/.local/lib/python3.6/site-packages/matplotlib/mpl-data/fonts/ttf/STIXSizFiveSymReg.ttf') with score of 0.050000.\n",
      "2019-02-26 22:11:24,064 - matplotlib.font_manager - DEBUG - findfont: Matching :family=cmsy10:style=normal:variant=normal:weight=normal:stretch=normal:size=10.0 to cmsy10 ('/home/xelmar/.local/lib/python3.6/site-packages/matplotlib/mpl-data/fonts/ttf/cmsy10.ttf') with score of 0.050000.\n",
      "2019-02-26 22:11:24,066 - matplotlib.font_manager - DEBUG - findfont: Matching :family=cmr10:style=normal:variant=normal:weight=normal:stretch=normal:size=10.0 to cmr10 ('/home/xelmar/.local/lib/python3.6/site-packages/matplotlib/mpl-data/fonts/ttf/cmr10.ttf') with score of 0.050000.\n",
      "2019-02-26 22:11:24,068 - matplotlib.font_manager - DEBUG - findfont: Matching :family=cmtt10:style=normal:variant=normal:weight=normal:stretch=normal:size=10.0 to cmtt10 ('/home/xelmar/.local/lib/python3.6/site-packages/matplotlib/mpl-data/fonts/ttf/cmtt10.ttf') with score of 0.050000.\n",
      "2019-02-26 22:11:24,070 - matplotlib.font_manager - DEBUG - findfont: Matching :family=cmmi10:style=normal:variant=normal:weight=normal:stretch=normal:size=10.0 to cmmi10 ('/home/xelmar/.local/lib/python3.6/site-packages/matplotlib/mpl-data/fonts/ttf/cmmi10.ttf') with score of 0.050000.\n",
      "2019-02-26 22:11:24,072 - matplotlib.font_manager - DEBUG - findfont: Matching :family=cmb10:style=normal:variant=normal:weight=normal:stretch=normal:size=10.0 to cmb10 ('/home/xelmar/.local/lib/python3.6/site-packages/matplotlib/mpl-data/fonts/ttf/cmb10.ttf') with score of 0.050000.\n",
      "2019-02-26 22:11:24,074 - matplotlib.font_manager - DEBUG - findfont: Matching :family=cmss10:style=normal:variant=normal:weight=normal:stretch=normal:size=10.0 to cmss10 ('/home/xelmar/.local/lib/python3.6/site-packages/matplotlib/mpl-data/fonts/ttf/cmss10.ttf') with score of 0.050000.\n",
      "2019-02-26 22:11:24,076 - matplotlib.font_manager - DEBUG - findfont: Matching :family=cmex10:style=normal:variant=normal:weight=normal:stretch=normal:size=10.0 to cmex10 ('/home/xelmar/.local/lib/python3.6/site-packages/matplotlib/mpl-data/fonts/ttf/cmex10.ttf') with score of 0.050000.\n",
      "2019-02-26 22:11:24,078 - matplotlib.font_manager - DEBUG - findfont: Matching :family=DejaVu Sans:style=normal:variant=normal:weight=normal:stretch=normal:size=10.0 to DejaVu Sans ('/home/xelmar/.local/lib/python3.6/site-packages/matplotlib/mpl-data/fonts/ttf/DejaVuSans.ttf') with score of 0.050000.\n",
      "2019-02-26 22:11:24,080 - matplotlib.font_manager - DEBUG - findfont: Matching :family=DejaVu Sans:style=italic:variant=normal:weight=normal:stretch=normal:size=10.0 to DejaVu Sans ('/home/xelmar/.local/lib/python3.6/site-packages/matplotlib/mpl-data/fonts/ttf/DejaVuSans-Oblique.ttf') with score of 0.150000.\n",
      "2019-02-26 22:11:24,081 - matplotlib.font_manager - DEBUG - findfont: Matching :family=DejaVu Sans:style=normal:variant=normal:weight=bold:stretch=normal:size=10.0 to DejaVu Sans ('/home/xelmar/.local/lib/python3.6/site-packages/matplotlib/mpl-data/fonts/ttf/DejaVuSans-Bold.ttf') with score of 0.000000.\n",
      "2019-02-26 22:11:24,083 - matplotlib.font_manager - DEBUG - findfont: Matching :family=DejaVu Sans Mono:style=normal:variant=normal:weight=normal:stretch=normal:size=10.0 to DejaVu Sans Mono ('/home/xelmar/.local/lib/python3.6/site-packages/matplotlib/mpl-data/fonts/ttf/DejaVuSansMono.ttf') with score of 0.050000.\n",
      "2019-02-26 22:11:24,085 - matplotlib.font_manager - DEBUG - findfont: Matching :family=DejaVu Sans Display:style=normal:variant=normal:weight=normal:stretch=normal:size=10.0 to DejaVu Sans Display ('/home/xelmar/.local/lib/python3.6/site-packages/matplotlib/mpl-data/fonts/ttf/DejaVuSansDisplay.ttf') with score of 0.050000.\n",
      "2019-02-26 22:11:24,254 - matplotlib.axes._base - DEBUG - update_title_pos\n",
      "2019-02-26 22:11:24,280 - matplotlib.axes._base - DEBUG - update_title_pos\n",
      "2019-02-26 22:11:24,294 - matplotlib.axes._base - DEBUG - update_title_pos\n"
     ]
    },
    {
     "data": {
      "image/png": "[encoded data removed]",
      "text/plain": [
       "<Figure size 864x576 with 1 Axes>"
      ]
     },
     "metadata": {
      "needs_background": "light"
     },
     "output_type": "display_data"
    }
   ],
   "source": [
    "tprs = []\n",
    "aucs, acc, rec, prec = [], [], [], []\n",
    "\n",
    "mean_fpr = np.linspace(0, 1, 100)\n",
    "i = 0\n",
    "\n",
    "for k, (train, test) in enumerate(folded_data.split(X, Y)):\n",
    "    probas_ = rf.fit(X.iloc[train], Y.iloc[train]).predict_proba(X.iloc[test])\n",
    "    # Compute ROC curve and area the curve\n",
    "    fpr, tpr, thresholds = roc_curve(Y.iloc[test], probas_[:, 1])\n",
    "    tprs.append(np.interp(mean_fpr, fpr, tpr))\n",
    "    tprs[-1][0] = 0.0\n",
    "    roc_auc = auc(fpr, tpr)\n",
    "    aucs.append(roc_auc)\n",
    "    Y_pred = rf.predict(X.iloc[test])\n",
    "    acc.append(accuracy_score(Y.iloc[test], Y_pred))\n",
    "    prec.append(precision_score(Y.iloc[test], Y_pred))\n",
    "    rec.append(recall_score(Y.iloc[test], Y_pred))\n",
    "    plt.plot(\n",
    "        fpr,\n",
    "        tpr,\n",
    "        lw=1,\n",
    "        alpha=0.3,\n",
    "        label='ROC fold %d (AUC = %0.2f)' % (k, roc_auc)\n",
    "    )\n",
    "\n",
    "plt.plot(\n",
    "    [0, 1],\n",
    "    [0, 1],\n",
    "    linestyle='--',\n",
    "    lw=2,\n",
    "    color='r',\n",
    "    label='Luck',\n",
    "    alpha=.8\n",
    ")\n",
    "fpr, tpr, thresholds = roc_curve(Y.iloc[test], probas_[:, 1])\n",
    "\n",
    "mean_tpr = np.mean(tprs, axis=0)\n",
    "mean_tpr[-1] = 1.0\n",
    "mean_auc = auc(mean_fpr, mean_tpr)\n",
    "std_auc = np.std(aucs)\n",
    "plt.plot(mean_fpr, mean_tpr, color='b',\n",
    "         label=r'Mean ROC (AUC = %0.2f $\\pm$ %0.2f)' % (mean_auc, std_auc),\n",
    "         lw=2, alpha=.8)\n",
    "\n",
    "std_tpr = np.std(tprs, axis=0)\n",
    "tprs_upper = np.minimum(mean_tpr + std_tpr, 1)\n",
    "tprs_lower = np.maximum(mean_tpr - std_tpr, 0)\n",
    "plt.fill_between(\n",
    "    mean_fpr,\n",
    "    tprs_lower,\n",
    "    tprs_upper,\n",
    "    color='grey',\n",
    "    alpha=.2,\n",
    "    label=r'$\\pm$ 1 std. dev.'\n",
    ")\n",
    "\n",
    "plt.xlim([-0.05, 1.05])\n",
    "plt.ylim([-0.05, 1.05])\n",
    "plt.xlabel('False Positive Rate')\n",
    "plt.ylabel('True Positive Rate')\n",
    "plt.title('Receiver operating characteristic for transposon recognition')\n",
    "plt.legend(loc=\"lower right\")\n",
    "plt.show()"
   ]
  },
  {
   "cell_type": "code",
   "execution_count": 13,
   "metadata": {},
   "outputs": [
    {
     "name": "stderr",
     "output_type": "stream",
     "text": [
      "2019-02-26 22:11:39,483 - matplotlib.axes._base - DEBUG - update_title_pos\n",
      "2019-02-26 22:11:39,564 - matplotlib.axes._base - DEBUG - update_title_pos\n",
      "2019-02-26 22:11:39,584 - matplotlib.axes._base - DEBUG - update_title_pos\n",
      "2019-02-26 22:11:39,596 - matplotlib.axes._base - DEBUG - update_title_pos\n"
     ]
    },
    {
     "data": {
      "image/png": "[encoded data removed]",
      "text/plain": [
       "<Figure size 864x576 with 1 Axes>"
      ]
     },
     "metadata": {
      "needs_background": "light"
     },
     "output_type": "display_data"
    }
   ],
   "source": [
    "precisions = []\n",
    "\n",
    "best_precision = {\"precision_score\": 0.0, \"precision\": None, \"recall\": None}\n",
    "\n",
    "for k, (train, test) in enumerate(folded_data.split(X, Y)):\n",
    "    probas_ = rf.fit(X.iloc[train], Y.iloc[train]).predict_proba(X.iloc[test])\n",
    "    precision, recall, _ = precision_recall_curve(Y.iloc[test], probas_[:, 1])\n",
    "    average_precision = average_precision_score(Y.iloc[test], probas_[:, 1])\n",
    "    if average_precision > best_precision[\"precision_score\"]:\n",
    "        best_precision[\"precision\"] = precision\n",
    "        best_precision[\"recall\"] = recall\n",
    "        best_precision[\"precision_score\"] = average_precision\n",
    "    precisions.append(average_precision)\n",
    "    plt.step(\n",
    "        recall,\n",
    "        precision,\n",
    "        alpha=0.5,\n",
    "        where='post',\n",
    "        label='Precision-recall fold {0:0.4f}'.format(average_precision)\n",
    "    )\n",
    "average_precision = sum(precisions)/len(precisions)\n",
    "plt.xlabel('Recall')\n",
    "plt.ylabel('Precision')\n",
    "plt.ylim([0.0, 1.05])\n",
    "plt.xlim([0.0, 1.05])\n",
    "plt.title('2-class Precision-Recall curve: AP={0:0.2f}'.format(\n",
    "          average_precision))\n",
    "plt.legend(loc=\"lower right\")\n",
    "plt.show()"
   ]
  },
  {
   "cell_type": "markdown",
   "metadata": {},
   "source": [
    "# AUC, Accuracy, Precision & Recall"
   ]
  },
  {
   "cell_type": "code",
   "execution_count": 14,
   "metadata": {},
   "outputs": [
    {
     "data": {
      "text/plain": [
       "(0.9983, 0.9785, 0.9735, 0.9838)"
      ]
     },
     "execution_count": 14,
     "metadata": {},
     "output_type": "execute_result"
    }
   ],
   "source": [
    "mr = lambda x: np.round(np.mean(x), 4)\n",
    "mr(aucs), mr(acc), mr(prec), mr(rec)"
   ]
  },
  {
   "cell_type": "markdown",
   "metadata": {},
   "source": [
    "# Feature importance"
   ]
  },
  {
   "cell_type": "code",
   "execution_count": 15,
   "metadata": {},
   "outputs": [
    {
     "name": "stderr",
     "output_type": "stream",
     "text": [
      "2019-02-26 22:12:20,285 - matplotlib.axes._base - DEBUG - update_title_pos\n",
      "2019-02-26 22:12:20,354 - matplotlib.axes._base - DEBUG - update_title_pos\n",
      "2019-02-26 22:12:20,372 - matplotlib.axes._base - DEBUG - update_title_pos\n",
      "2019-02-26 22:12:20,383 - matplotlib.axes._base - DEBUG - update_title_pos\n"
     ]
    },
    {
     "data": {
      "image/png": "[encoded data removed]",
      "text/plain": [
       "<Figure size 864x576 with 1 Axes>"
      ]
     },
     "metadata": {
      "needs_background": "light"
     },
     "output_type": "display_data"
    }
   ],
   "source": [
    "N_to_print = 10\n",
    "y_pos = range(N_to_print)\n",
    "fig, ax = plt.subplots()\n",
    "\n",
    "feature_importance = rf.feature_importances_.round(4)\n",
    "feature_importance = zip(X.keys(), feature_importance)\n",
    "feature_importance = np.array(sorted(feature_importance, key=lambda x:x[1], reverse=True))\n",
    "\n",
    "ax.barh(y_pos, feature_importance[:N_to_print, 1].astype('float'), align='center', color='green')\n",
    "ax.set_yticks(np.arange(N_to_print))\n",
    "ax.set_yticklabels(feature_importance[:N_to_print, 0])\n",
    "ax.invert_yaxis()\n",
    "ax.set_xlabel('Importance score')\n",
    "\n",
    "plt.show()"
   ]
  },
  {
   "cell_type": "code",
   "execution_count": 16,
   "metadata": {},
   "outputs": [
    {
     "data": {
      "text/html": [
       "<div>\n",
       "<style scoped>\n",
       "    .dataframe tbody tr th:only-of-type {\n",
       "        vertical-align: middle;\n",
       "    }\n",
       "\n",
       "    .dataframe tbody tr th {\n",
       "        vertical-align: top;\n",
       "    }\n",
       "\n",
       "    .dataframe thead th {\n",
       "        text-align: right;\n",
       "    }\n",
       "</style>\n",
       "<table border=\"1\" class=\"dataframe\">\n",
       "  <thead>\n",
       "    <tr style=\"text-align: right;\">\n",
       "      <th></th>\n",
       "      <th>Feature_name</th>\n",
       "      <th>Feature_importance</th>\n",
       "    </tr>\n",
       "  </thead>\n",
       "  <tbody>\n",
       "    <tr>\n",
       "      <th>0</th>\n",
       "      <td>AAG</td>\n",
       "      <td>0.1073</td>\n",
       "    </tr>\n",
       "    <tr>\n",
       "      <th>1</th>\n",
       "      <td>TAC</td>\n",
       "      <td>0.0666</td>\n",
       "    </tr>\n",
       "    <tr>\n",
       "      <th>2</th>\n",
       "      <td>CCA</td>\n",
       "      <td>0.0578</td>\n",
       "    </tr>\n",
       "    <tr>\n",
       "      <th>3</th>\n",
       "      <td>AG</td>\n",
       "      <td>0.0564</td>\n",
       "    </tr>\n",
       "    <tr>\n",
       "      <th>4</th>\n",
       "      <td>AGA</td>\n",
       "      <td>0.0521</td>\n",
       "    </tr>\n",
       "    <tr>\n",
       "      <th>5</th>\n",
       "      <td>AA</td>\n",
       "      <td>0.0410</td>\n",
       "    </tr>\n",
       "    <tr>\n",
       "      <th>6</th>\n",
       "      <td>AAA</td>\n",
       "      <td>0.0401</td>\n",
       "    </tr>\n",
       "    <tr>\n",
       "      <th>7</th>\n",
       "      <td>GAA</td>\n",
       "      <td>0.0400</td>\n",
       "    </tr>\n",
       "    <tr>\n",
       "      <th>8</th>\n",
       "      <td>TG</td>\n",
       "      <td>0.0371</td>\n",
       "    </tr>\n",
       "    <tr>\n",
       "      <th>9</th>\n",
       "      <td>ATA</td>\n",
       "      <td>0.0325</td>\n",
       "    </tr>\n",
       "  </tbody>\n",
       "</table>\n",
       "</div>"
      ],
      "text/plain": [
       "  Feature_name  Feature_importance\n",
       "0          AAG              0.1073\n",
       "1          TAC              0.0666\n",
       "2          CCA              0.0578\n",
       "3           AG              0.0564\n",
       "4          AGA              0.0521\n",
       "5           AA              0.0410\n",
       "6          AAA              0.0401\n",
       "7          GAA              0.0400\n",
       "8           TG              0.0371\n",
       "9          ATA              0.0325"
      ]
     },
     "execution_count": 16,
     "metadata": {},
     "output_type": "execute_result"
    }
   ],
   "source": [
    "feature_importance = (rf.feature_importances_).round(4)\n",
    "feature_importance = zip(X.keys(), feature_importance)\n",
    "feature_importance = sorted(list(feature_importance), key=lambda x:x[1], reverse=True)\n",
    "fi = pd.DataFrame(feature_importance, columns=['Feature_name', 'Feature_importance'])\n",
    "fi.head(N_to_print)"
   ]
  },
  {
   "cell_type": "code",
   "execution_count": null,
   "metadata": {},
   "outputs": [],
   "source": []
  },
  {
   "cell_type": "markdown",
   "metadata": {},
   "source": [
    "# Further generalization analysis block"
   ]
  },
  {
   "cell_type": "code",
   "execution_count": 17,
   "metadata": {},
   "outputs": [],
   "source": [
    "CSV_FILE_SUBNAME_OBJECTS = \"L1_vs_Shuffle\" # \"True_vs_False\"\n",
    "CSV_FILE_SUBNAME_TYPE = \"50b.p._Stats\" # \"50b.p._Stats\" or \"Stem-loop_Stats\"\n",
    "CSV_FILE_SUBNAME = \"{0}__{1}\".format(CSV_FILE_SUBNAME_OBJECTS, CSV_FILE_SUBNAME_TYPE)"
   ]
  },
  {
   "cell_type": "code",
   "execution_count": 18,
   "metadata": {},
   "outputs": [],
   "source": [
    "pd.DataFrame({\"fpr\": mean_fpr, \"tpr\": mean_tpr}).to_csv(\"AUC__{0}.csv\".format(CSV_FILE_SUBNAME), index=False)\n",
    "pd.DataFrame({\"precision\": best_precision[\"precision\"],\n",
    "              \"recall\": best_precision[\"recall\"]}).to_csv(\"Precision-Recall__{0}.csv\".format(CSV_FILE_SUBNAME), index=False)\n",
    "pd.DataFrame(fi).to_csv(\"Feature_importance__{0}.csv\".format(CSV_FILE_SUBNAME), index=False)"
   ]
  },
  {
   "cell_type": "code",
   "execution_count": null,
   "metadata": {},
   "outputs": [],
   "source": []
  },
  {
   "cell_type": "markdown",
   "metadata": {},
   "source": [
    "# Pseudogen & KnownGenes test"
   ]
  },
  {
   "cell_type": "code",
   "execution_count": 64,
   "metadata": {},
   "outputs": [],
   "source": [
    "# KnownGenes test\n",
    "Y_pred_KnownGenes = rf.predict(df_KnownGenes)"
   ]
  },
  {
   "cell_type": "code",
   "execution_count": 69,
   "metadata": {},
   "outputs": [
    {
     "data": {
      "text/plain": [
       "0.9246451128759927"
      ]
     },
     "execution_count": 69,
     "metadata": {},
     "output_type": "execute_result"
    }
   ],
   "source": [
    "np.mean(Y_pred_KnownGenes)"
   ]
  },
  {
   "cell_type": "code",
   "execution_count": 65,
   "metadata": {},
   "outputs": [],
   "source": [
    "# Pseudogenes test\n",
    "Y_pred_Pseudogenes = rf.predict(df_Pseudogenes)"
   ]
  },
  {
   "cell_type": "code",
   "execution_count": 70,
   "metadata": {},
   "outputs": [
    {
     "data": {
      "text/plain": [
       "0.8892936193945309"
      ]
     },
     "execution_count": 70,
     "metadata": {},
     "output_type": "execute_result"
    }
   ],
   "source": [
    "np.mean(Y_pred_Pseudogenes)"
   ]
  },
  {
   "cell_type": "code",
   "execution_count": null,
   "metadata": {},
   "outputs": [],
   "source": []
  }
 ],
 "metadata": {
  "kernelspec": {
   "display_name": "Python 3",
   "language": "python",
   "name": "python3"
  },
  "language_info": {
   "codemirror_mode": {
    "name": "ipython",
    "version": 3
   },
   "file_extension": ".py",
   "mimetype": "text/x-python",
   "name": "python",
   "nbconvert_exporter": "python",
   "pygments_lexer": "ipython3",
   "version": "3.6.6"
  }
 },
 "nbformat": 4,
 "nbformat_minor": 2
}
