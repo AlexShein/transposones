{
 "cells": [
  {
   "cell_type": "code",
   "execution_count": 1,
   "metadata": {},
   "outputs": [],
   "source": [
    "#import xgboost\n",
    "from sklearn.ensemble import RandomForestClassifier\n",
    "from sklearn.model_selection import GridSearchCV, train_test_split\n",
    "from sklearn.metrics import roc_curve, auc, roc_auc_score, accuracy_score, precision_score, recall_score\n",
    "import matplotlib.pyplot as plt\n",
    "import numpy as np\n",
    "from itertools import product\n",
    "from collections import defaultdict\n",
    "import pandas as pd"
   ]
  },
  {
   "cell_type": "code",
   "execution_count": 2,
   "metadata": {},
   "outputs": [],
   "source": [
    "np.random.seed(7)"
   ]
  },
  {
   "cell_type": "code",
   "execution_count": 3,
   "metadata": {},
   "outputs": [],
   "source": [
    "def get_triplets(lst):\n",
    "    \"\"\"\n",
    "    '1234' -> ['123','234']\n",
    "    \"\"\"\n",
    "    res = []\n",
    "    for i in range(len(lst) - 2):\n",
    "        res.append(lst[i]+lst[i + 1]+lst[i + 2])\n",
    "    return res\n",
    "\n",
    "\n",
    "def get_dinucleotides(lst):\n",
    "    \"\"\"\n",
    "    '123' -> ['12', '23']\n",
    "    \"\"\"\n",
    "    res = []\n",
    "    for i in range(len(lst) - 1):\n",
    "        res.append(lst[i]+lst[i + 1])\n",
    "    return res"
   ]
  },
  {
   "cell_type": "code",
   "execution_count": 4,
   "metadata": {},
   "outputs": [],
   "source": [
    "#True: Last bases of Alus\n",
    "with open('/Users/alexandershein/Code/study/CourseProject/transposones/sequences/Alu_All_50_bs_2.txt','r') as f:\n",
    "    dt = np.unique(list(map(lambda x: x.strip(),f.readlines())))"
   ]
  },
  {
   "cell_type": "code",
   "execution_count": 5,
   "metadata": {},
   "outputs": [],
   "source": [
    "#False: Random genome sequences\n",
    "with open('/Users/alexandershein/Code/study/CourseProject/transposones/sequences/L1_last_50_bs_2.txt','r') as f:\n",
    "    df = np.unique(list(map(lambda x: x.strip(),f.readlines())))\n"
   ]
  },
  {
   "cell_type": "code",
   "execution_count": 6,
   "metadata": {},
   "outputs": [
    {
     "data": {
      "text/plain": [
       "(5017, 4248)"
      ]
     },
     "execution_count": 6,
     "metadata": {},
     "output_type": "execute_result"
    }
   ],
   "source": [
    "len(dt), len(df)"
   ]
  },
  {
   "cell_type": "code",
   "execution_count": 7,
   "metadata": {},
   "outputs": [],
   "source": [
    "# Balancing alternative\n",
    "# d = df if len(df) > len(dt) else dt\n",
    "p = len(df)/len(dt); m = min(p,1/p)\n",
    "np.random.seed(7)\n",
    "df = np.random.choice(df,round(len(df)*m), replace=False)\n",
    "dt = np.random.choice(dt, len(dt), replace=False)"
   ]
  },
  {
   "cell_type": "code",
   "execution_count": 8,
   "metadata": {},
   "outputs": [
    {
     "data": {
      "text/plain": [
       "(5017, 3597)"
      ]
     },
     "execution_count": 8,
     "metadata": {},
     "output_type": "execute_result"
    }
   ],
   "source": [
    "len(dt), len(df)"
   ]
  },
  {
   "cell_type": "code",
   "execution_count": 9,
   "metadata": {},
   "outputs": [],
   "source": [
    "alph = ['A','C','G','T']\n",
    "alph_dict = {'A':1,'C':2,'G':3,'T':4}\n",
    "pairs = [''.join(i) for i in product(alph, repeat=2)]\n",
    "triplets = [''.join(i) for i in product(alph, repeat=3)]"
   ]
  },
  {
   "cell_type": "code",
   "execution_count": 10,
   "metadata": {},
   "outputs": [],
   "source": [
    "x_t, y_t = [], []\n",
    "for line in dt:\n",
    "    row = {}\n",
    "    for di_n in get_dinucleotides(line)+get_triplets(line):\n",
    "        row[di_n]=row.get(di_n,0)+1\n",
    "    for pos in range(len(line)):\n",
    "        row[f'P{pos}']=alph_dict[line[pos]]\n",
    "    y_t.append(1)\n",
    "    x_t.append(row)"
   ]
  },
  {
   "cell_type": "code",
   "execution_count": 11,
   "metadata": {},
   "outputs": [],
   "source": [
    "x_f, y_f = [], []\n",
    "for line in df:\n",
    "    row = {}\n",
    "    for di_n in get_dinucleotides(line)+get_triplets(line):\n",
    "        row[di_n]=row.get(di_n,0)+1\n",
    "    for pos in range(len(line)):\n",
    "        row[f'P{pos}']=alph_dict[line[pos]]\n",
    "    y_f.append(0)\n",
    "    x_f.append(row)"
   ]
  },
  {
   "cell_type": "code",
   "execution_count": 12,
   "metadata": {},
   "outputs": [],
   "source": [
    "x_all = pd.DataFrame(x_t + x_f).fillna(0)\n",
    "y_all = np.array(y_t + y_f)"
   ]
  },
  {
   "cell_type": "code",
   "execution_count": 13,
   "metadata": {},
   "outputs": [],
   "source": [
    "x_train, x_test, y_train, y_test = train_test_split(x_all, y_all, random_state=7, test_size=0.3)"
   ]
  },
  {
   "cell_type": "code",
   "execution_count": 14,
   "metadata": {},
   "outputs": [
    {
     "data": {
      "text/plain": [
       "(0.5835130204013933, 0.5798839458413927)"
      ]
     },
     "execution_count": 14,
     "metadata": {},
     "output_type": "execute_result"
    }
   ],
   "source": [
    "np.mean(y_train), np.mean(y_test)"
   ]
  },
  {
   "cell_type": "code",
   "execution_count": 15,
   "metadata": {},
   "outputs": [],
   "source": [
    "#tr = xgboost.XGBClassifier(max_depth=5,n_estimators=100,random_state=7)\n",
    "#params = {\"max_depth\":[5,8,11,15,20], \"n_estimators\":[100,1000,2000]}"
   ]
  },
  {
   "cell_type": "code",
   "execution_count": 16,
   "metadata": {},
   "outputs": [],
   "source": [
    "tr = RandomForestClassifier(max_depth=5,n_estimators=100,random_state=7)\n",
    "params = {\"max_depth\":[5,8,11,15,20], \"n_estimators\":[100,1000,2000]}"
   ]
  },
  {
   "cell_type": "code",
   "execution_count": 17,
   "metadata": {},
   "outputs": [],
   "source": [
    "gr = GridSearchCV(tr,param_grid=params,n_jobs=6,cv=5,)"
   ]
  },
  {
   "cell_type": "code",
   "execution_count": 18,
   "metadata": {},
   "outputs": [
    {
     "data": {
      "text/plain": [
       "GridSearchCV(cv=5, error_score='raise',\n",
       "       estimator=RandomForestClassifier(bootstrap=True, class_weight=None, criterion='gini',\n",
       "            max_depth=5, max_features='auto', max_leaf_nodes=None,\n",
       "            min_impurity_decrease=0.0, min_impurity_split=None,\n",
       "            min_samples_leaf=1, min_samples_split=2,\n",
       "            min_weight_fraction_leaf=0.0, n_estimators=100, n_jobs=1,\n",
       "            oob_score=False, random_state=7, verbose=0, warm_start=False),\n",
       "       fit_params=None, iid=True, n_jobs=6,\n",
       "       param_grid={'max_depth': [5, 8, 11, 15, 20], 'n_estimators': [100, 1000, 2000]},\n",
       "       pre_dispatch='2*n_jobs', refit=True, return_train_score='warn',\n",
       "       scoring=None, verbose=0)"
      ]
     },
     "execution_count": 18,
     "metadata": {},
     "output_type": "execute_result"
    }
   ],
   "source": [
    "gr.fit(x_train,y_train)"
   ]
  },
  {
   "cell_type": "code",
   "execution_count": 19,
   "metadata": {},
   "outputs": [
    {
     "data": {
      "text/plain": [
       "(0.999668270028197, {'max_depth': 5, 'n_estimators': 1000})"
      ]
     },
     "execution_count": 19,
     "metadata": {},
     "output_type": "execute_result"
    }
   ],
   "source": [
    "gr.best_score_, gr.best_params_"
   ]
  },
  {
   "cell_type": "code",
   "execution_count": 20,
   "metadata": {},
   "outputs": [],
   "source": [
    "y_pred = gr.best_estimator_.predict(x_test)"
   ]
  },
  {
   "cell_type": "code",
   "execution_count": 21,
   "metadata": {},
   "outputs": [
    {
     "data": {
      "text/plain": [
       "0.9985389277320547"
      ]
     },
     "execution_count": 21,
     "metadata": {},
     "output_type": "execute_result"
    }
   ],
   "source": [
    "roc_auc_score(y_test,y_pred)"
   ]
  },
  {
   "cell_type": "code",
   "execution_count": 22,
   "metadata": {},
   "outputs": [],
   "source": [
    "fpr, tpr, _ = roc_curve(y_test,gr.best_estimator_.predict_proba(x_test)[:,1])"
   ]
  },
  {
   "cell_type": "code",
   "execution_count": 23,
   "metadata": {},
   "outputs": [
    {
     "data": {
      "image/png": "[encoded data removed]",
      "text/plain": [
       "<Figure size 432x288 with 1 Axes>"
      ]
     },
     "metadata": {},
     "output_type": "display_data"
    }
   ],
   "source": [
    "plt.plot(fpr,tpr);"
   ]
  },
  {
   "cell_type": "code",
   "execution_count": 24,
   "metadata": {},
   "outputs": [
    {
     "data": {
      "text/plain": [
       "0.9999981571508078"
      ]
     },
     "execution_count": 24,
     "metadata": {},
     "output_type": "execute_result"
    }
   ],
   "source": [
    "auc(fpr,tpr)"
   ]
  },
  {
   "cell_type": "code",
   "execution_count": 25,
   "metadata": {},
   "outputs": [
    {
     "data": {
      "text/plain": [
       "(0.9984526112185687, 0.9993319973279893, 0.9979986657771848)"
      ]
     },
     "execution_count": 25,
     "metadata": {},
     "output_type": "execute_result"
    }
   ],
   "source": [
    "accuracy_score(y_test,y_pred), precision_score(y_test,y_pred), recall_score(y_test,y_pred)"
   ]
  },
  {
   "cell_type": "code",
   "execution_count": 26,
   "metadata": {},
   "outputs": [
    {
     "data": {
      "text/plain": [
       "[('TA', 0.09563677122541227),\n",
       " ('CTC', 0.09494510283435768),\n",
       " ('GTA', 0.08205924007848749),\n",
       " ('GA', 0.07577998473111086),\n",
       " ('TAA', 0.05891948706237251),\n",
       " ('GAG', 0.057155671980337844),\n",
       " ('GG', 0.050747258473158134),\n",
       " ('TC', 0.04974204317646193),\n",
       " ('GGG', 0.04912073797597458),\n",
       " ('AG', 0.04148371738389562),\n",
       " ('GAC', 0.03996846999493254),\n",
       " ('AGA', 0.028305557139429345),\n",
       " ('GCC', 0.027654212492417438),\n",
       " ('TAT', 0.025842375306679797),\n",
       " ('AGC', 0.024983653529830962),\n",
       " ('TGG', 0.022013295281117947),\n",
       " ('TGT', 0.016395106684183383),\n",
       " ('AT', 0.01624857895260219),\n",
       " ('CTT', 0.015151189736899473),\n",
       " ('TTA', 0.014479967855920445),\n",
       " ('TT', 0.012629557075639423),\n",
       " ('ATG', 0.01156528443735453),\n",
       " ('AA', 0.010715608669947595),\n",
       " ('GC', 0.007667078844360829),\n",
       " ('CAG', 0.006231015898917679),\n",
       " ('AAA', 0.006217264620257557),\n",
       " ('AAC', 0.005667415523627815),\n",
       " ('P49', 0.0053954672006702046),\n",
       " ('TCC', 0.005130143266746032),\n",
       " ('CTA', 0.004380309078390651),\n",
       " ('GCG', 0.00426626283939542),\n",
       " ('TAC', 0.0039680249122962565),\n",
       " ('GAT', 0.002800231724052957),\n",
       " ('CGA', 0.00249577768781793),\n",
       " ('GTC', 0.0022642196723894545),\n",
       " ('P26', 0.002238425272905408),\n",
       " ('TCT', 0.0019386298105788838),\n",
       " ('GGC', 0.0019089266600991076),\n",
       " ('ACC', 0.0013722788718699712),\n",
       " ('P15', 0.0009454339986343957),\n",
       " ('CCA', 0.0009300789021589663),\n",
       " ('ATA', 0.0008708040741613801),\n",
       " ('GT', 0.0007265613930021241),\n",
       " ('GTT', 0.0007059620606520346),\n",
       " ('CAT', 0.0006526127177622345),\n",
       " ('P46', 0.0005962188484225452),\n",
       " ('P30', 0.0005948056950354986),\n",
       " ('CG', 0.0005626826122408137),\n",
       " ('P32', 0.0005519079831230244),\n",
       " ('AC', 0.0005405948821927421),\n",
       " ('P47', 0.0005195540711407829),\n",
       " ('CCC', 0.0004738453505990243),\n",
       " ('TG', 0.0004279297097698161),\n",
       " ('TTT', 0.00037095933794766765),\n",
       " ('CT', 0.0002748342721014175),\n",
       " ('AAT', 0.00026918957175171984),\n",
       " ('CCT', 0.0002085947940789016),\n",
       " ('TTC', 0.00018791080624987733),\n",
       " ('ACT', 0.00018779183506301101),\n",
       " ('CAC', 0.00017331722749451276),\n",
       " ('GAA', 0.00016205376710866367),\n",
       " ('P34', 0.00015079988064237588),\n",
       " ('CA', 0.00014401400067257238),\n",
       " ('P31', 0.00013550650040974888),\n",
       " ('CAA', 0.00013029760083423114),\n",
       " ('CC', 0.00012954792431630507),\n",
       " ('ACA', 0.00011408940942642122),\n",
       " ('TGC', 0.00010469102021582507),\n",
       " ('P37', 0.00010142714950176245),\n",
       " ('P43', 9.34436969528444e-05),\n",
       " ('P28', 7.956751575973344e-05),\n",
       " ('TCA', 7.760649712773664e-05),\n",
       " ('CCG', 7.269682065615169e-05),\n",
       " ('GCA', 7.244329117076581e-05),\n",
       " ('AAG', 6.949406984405996e-05),\n",
       " ('P35', 6.798710053118564e-05),\n",
       " ('P8', 6.664383324161639e-05),\n",
       " ('P16', 6.557894503791099e-05),\n",
       " ('CTG', 6.226706506691684e-05),\n",
       " ('TTG', 6.121629114800123e-05),\n",
       " ('P27', 5.916730682234827e-05),\n",
       " ('P40', 5.895661944251212e-05),\n",
       " ('P38', 5.799910339334734e-05),\n",
       " ('TCG', 5.7952890400668036e-05),\n",
       " ('P21', 5.391572250863505e-05),\n",
       " ('CGC', 5.210675090777615e-05),\n",
       " ('P14', 5.0949990712407744e-05),\n",
       " ('P41', 4.934943468121351e-05),\n",
       " ('P25', 4.831360955172647e-05),\n",
       " ('P3', 4.682173230688305e-05),\n",
       " ('ATT', 4.4402194082573085e-05),\n",
       " ('TAG', 4.3452985734872e-05),\n",
       " ('P12', 4.3194263082758446e-05),\n",
       " ('P17', 4.2119833557350566e-05),\n",
       " ('AGG', 4.03504247377699e-05),\n",
       " ('P1', 3.944714524704487e-05),\n",
       " ('P39', 3.9361623020356156e-05),\n",
       " ('P9', 3.9223955769051326e-05),\n",
       " ('AGT', 3.8986948430580467e-05),\n",
       " ('TGA', 3.894580461894988e-05),\n",
       " ('P7', 3.8887070785956593e-05),\n",
       " ('P6', 3.840981459217432e-05),\n",
       " ('P4', 3.663617242576141e-05),\n",
       " ('P36', 3.620511856228718e-05),\n",
       " ('P48', 3.592245396924735e-05),\n",
       " ('ATC', 3.494484923708868e-05),\n",
       " ('P18', 3.487201470554348e-05),\n",
       " ('P42', 3.425676823191355e-05),\n",
       " ('P24', 3.4238847371082244e-05),\n",
       " ('P22', 3.3463470504974074e-05),\n",
       " ('CGG', 3.2692184314032533e-05),\n",
       " ('P23', 3.174981426035161e-05),\n",
       " ('P33', 3.153702362730364e-05),\n",
       " ('P29', 3.1534026199074966e-05),\n",
       " ('P0', 3.133782683376509e-05),\n",
       " ('P13', 3.087467266703782e-05),\n",
       " ('GGT', 2.9554126948626025e-05),\n",
       " ('GGA', 2.9477923077417565e-05),\n",
       " ('P5', 2.872179057192354e-05),\n",
       " ('P2', 2.5352532135730307e-05),\n",
       " ('P19', 2.5321325101217926e-05),\n",
       " ('P11', 2.4281693190299747e-05),\n",
       " ('P45', 2.0043947734789828e-05),\n",
       " ('P10', 1.95628569578341e-05),\n",
       " ('P20', 1.9346638858292196e-05),\n",
       " ('ACG', 1.9344847050870004e-05),\n",
       " ('P44', 1.825274455951932e-05),\n",
       " ('GCT', 1.3209936903787098e-05),\n",
       " ('GTG', 1.2007912820181376e-05),\n",
       " ('CGT', 5.634770645298995e-06)]"
      ]
     },
     "execution_count": 26,
     "metadata": {},
     "output_type": "execute_result"
    }
   ],
   "source": [
    "top_features = list(sorted(zip(x_train.columns, gr.best_estimator_.feature_importances_), key=lambda x: x[1], reverse=True))\n",
    "top_features"
   ]
  },
  {
   "cell_type": "code",
   "execution_count": 27,
   "metadata": {},
   "outputs": [
    {
     "data": {
      "text/plain": [
       "130"
      ]
     },
     "execution_count": 27,
     "metadata": {},
     "output_type": "execute_result"
    }
   ],
   "source": [
    "len(gr.best_estimator_.feature_importances_)"
   ]
  },
  {
   "cell_type": "code",
   "execution_count": 28,
   "metadata": {},
   "outputs": [
    {
     "data": {
      "text/plain": [
       "130"
      ]
     },
     "execution_count": 28,
     "metadata": {},
     "output_type": "execute_result"
    }
   ],
   "source": [
    "len(x_train.columns)"
   ]
  },
  {
   "cell_type": "code",
   "execution_count": 29,
   "metadata": {},
   "outputs": [
    {
     "data": {
      "text/plain": [
       "{'bootstrap': True,\n",
       " 'class_weight': None,\n",
       " 'criterion': 'gini',\n",
       " 'max_depth': 5,\n",
       " 'max_features': 'auto',\n",
       " 'max_leaf_nodes': None,\n",
       " 'min_impurity_decrease': 0.0,\n",
       " 'min_impurity_split': None,\n",
       " 'min_samples_leaf': 1,\n",
       " 'min_samples_split': 2,\n",
       " 'min_weight_fraction_leaf': 0.0,\n",
       " 'n_estimators': 1000,\n",
       " 'n_jobs': 1,\n",
       " 'oob_score': False,\n",
       " 'random_state': 7,\n",
       " 'verbose': 0,\n",
       " 'warm_start': False}"
      ]
     },
     "execution_count": 29,
     "metadata": {},
     "output_type": "execute_result"
    }
   ],
   "source": [
    "gr.best_estimator_.get_params()"
   ]
  },
  {
   "cell_type": "code",
   "execution_count": 30,
   "metadata": {},
   "outputs": [
    {
     "data": {
      "text/html": [
       "<div>\n",
       "<style scoped>\n",
       "    .dataframe tbody tr th:only-of-type {\n",
       "        vertical-align: middle;\n",
       "    }\n",
       "\n",
       "    .dataframe tbody tr th {\n",
       "        vertical-align: top;\n",
       "    }\n",
       "\n",
       "    .dataframe thead th {\n",
       "        text-align: right;\n",
       "    }\n",
       "</style>\n",
       "<table border=\"1\" class=\"dataframe\">\n",
       "  <thead>\n",
       "    <tr style=\"text-align: right;\">\n",
       "      <th></th>\n",
       "      <th>AA</th>\n",
       "      <th>AC</th>\n",
       "      <th>AG</th>\n",
       "      <th>AT</th>\n",
       "      <th>CA</th>\n",
       "      <th>CC</th>\n",
       "      <th>CG</th>\n",
       "      <th>CT</th>\n",
       "      <th>GA</th>\n",
       "      <th>GC</th>\n",
       "      <th>GG</th>\n",
       "      <th>GT</th>\n",
       "      <th>TA</th>\n",
       "      <th>TC</th>\n",
       "      <th>TG</th>\n",
       "      <th>TT</th>\n",
       "    </tr>\n",
       "  </thead>\n",
       "  <tbody>\n",
       "    <tr>\n",
       "      <th>Mean t</th>\n",
       "      <td>2.4359</td>\n",
       "      <td>3.9113</td>\n",
       "      <td>4.6275</td>\n",
       "      <td>1.3349</td>\n",
       "      <td>4.7206</td>\n",
       "      <td>3.9384</td>\n",
       "      <td>2.6073</td>\n",
       "      <td>4.8051</td>\n",
       "      <td>4.2597</td>\n",
       "      <td>4.5266</td>\n",
       "      <td>2.3243</td>\n",
       "      <td>1.4927</td>\n",
       "      <td>0.2492</td>\n",
       "      <td>4.4443</td>\n",
       "      <td>2.9079</td>\n",
       "      <td>0.4144</td>\n",
       "    </tr>\n",
       "    <tr>\n",
       "      <th>Mean f</th>\n",
       "      <td>7.0778</td>\n",
       "      <td>5.2460</td>\n",
       "      <td>1.5566</td>\n",
       "      <td>4.0815</td>\n",
       "      <td>4.4532</td>\n",
       "      <td>3.1065</td>\n",
       "      <td>0.4840</td>\n",
       "      <td>3.3464</td>\n",
       "      <td>0.7520</td>\n",
       "      <td>1.8157</td>\n",
       "      <td>0.1696</td>\n",
       "      <td>3.7339</td>\n",
       "      <td>5.4295</td>\n",
       "      <td>0.7937</td>\n",
       "      <td>4.2744</td>\n",
       "      <td>2.6792</td>\n",
       "    </tr>\n",
       "    <tr>\n",
       "      <th>Std t</th>\n",
       "      <td>4.8658</td>\n",
       "      <td>1.0851</td>\n",
       "      <td>0.9679</td>\n",
       "      <td>0.9102</td>\n",
       "      <td>1.2823</td>\n",
       "      <td>1.2006</td>\n",
       "      <td>1.4550</td>\n",
       "      <td>1.0033</td>\n",
       "      <td>1.0555</td>\n",
       "      <td>1.2711</td>\n",
       "      <td>0.8393</td>\n",
       "      <td>0.9427</td>\n",
       "      <td>0.6344</td>\n",
       "      <td>0.8141</td>\n",
       "      <td>1.1641</td>\n",
       "      <td>0.6445</td>\n",
       "    </tr>\n",
       "    <tr>\n",
       "      <th>Std f</th>\n",
       "      <td>2.0768</td>\n",
       "      <td>1.2105</td>\n",
       "      <td>0.8200</td>\n",
       "      <td>1.5317</td>\n",
       "      <td>1.1419</td>\n",
       "      <td>1.1900</td>\n",
       "      <td>0.6240</td>\n",
       "      <td>0.8956</td>\n",
       "      <td>0.7065</td>\n",
       "      <td>0.7690</td>\n",
       "      <td>0.4426</td>\n",
       "      <td>1.2093</td>\n",
       "      <td>1.3904</td>\n",
       "      <td>1.0194</td>\n",
       "      <td>1.1766</td>\n",
       "      <td>1.5178</td>\n",
       "    </tr>\n",
       "  </tbody>\n",
       "</table>\n",
       "</div>"
      ],
      "text/plain": [
       "            AA      AC      AG      AT      CA      CC      CG      CT  \\\n",
       "Mean t  2.4359  3.9113  4.6275  1.3349  4.7206  3.9384  2.6073  4.8051   \n",
       "Mean f  7.0778  5.2460  1.5566  4.0815  4.4532  3.1065  0.4840  3.3464   \n",
       "Std t   4.8658  1.0851  0.9679  0.9102  1.2823  1.2006  1.4550  1.0033   \n",
       "Std f   2.0768  1.2105  0.8200  1.5317  1.1419  1.1900  0.6240  0.8956   \n",
       "\n",
       "            GA      GC      GG      GT      TA      TC      TG      TT  \n",
       "Mean t  4.2597  4.5266  2.3243  1.4927  0.2492  4.4443  2.9079  0.4144  \n",
       "Mean f  0.7520  1.8157  0.1696  3.7339  5.4295  0.7937  4.2744  2.6792  \n",
       "Std t   1.0555  1.2711  0.8393  0.9427  0.6344  0.8141  1.1641  0.6445  \n",
       "Std f   0.7065  0.7690  0.4426  1.2093  1.3904  1.0194  1.1766  1.5178  "
      ]
     },
     "execution_count": 30,
     "metadata": {},
     "output_type": "execute_result"
    }
   ],
   "source": [
    "pd.DataFrame(\n",
    "    columns=pairs, data=[\n",
    "        x_all[y_all==1][pairs].mean(),\n",
    "        x_all[y_all==0][pairs].mean(),\n",
    "        x_all[y_all==1][pairs].std(),\n",
    "        x_all[y_all==0][pairs].std()\n",
    "    ],\n",
    "    index=['Mean t', 'Mean f', 'Std t', 'Std f']\n",
    ").round(4)"
   ]
  },
  {
   "cell_type": "code",
   "execution_count": 31,
   "metadata": {},
   "outputs": [
    {
     "data": {
      "text/html": [
       "<div>\n",
       "<style scoped>\n",
       "    .dataframe tbody tr th:only-of-type {\n",
       "        vertical-align: middle;\n",
       "    }\n",
       "\n",
       "    .dataframe tbody tr th {\n",
       "        vertical-align: top;\n",
       "    }\n",
       "\n",
       "    .dataframe thead th {\n",
       "        text-align: right;\n",
       "    }\n",
       "</style>\n",
       "<table border=\"1\" class=\"dataframe\">\n",
       "  <thead>\n",
       "    <tr style=\"text-align: right;\">\n",
       "      <th></th>\n",
       "      <th>AAA</th>\n",
       "      <th>AAC</th>\n",
       "      <th>AAG</th>\n",
       "      <th>AAT</th>\n",
       "      <th>ACA</th>\n",
       "      <th>ACC</th>\n",
       "      <th>ACG</th>\n",
       "      <th>ACT</th>\n",
       "      <th>AGA</th>\n",
       "      <th>AGC</th>\n",
       "      <th>...</th>\n",
       "      <th>TCG</th>\n",
       "      <th>TCT</th>\n",
       "      <th>TGA</th>\n",
       "      <th>TGC</th>\n",
       "      <th>TGG</th>\n",
       "      <th>TGT</th>\n",
       "      <th>TTA</th>\n",
       "      <th>TTC</th>\n",
       "      <th>TTG</th>\n",
       "      <th>TTT</th>\n",
       "    </tr>\n",
       "  </thead>\n",
       "  <tbody>\n",
       "    <tr>\n",
       "      <th>Mean t</th>\n",
       "      <td>1.5</td>\n",
       "      <td>0.4</td>\n",
       "      <td>0.5</td>\n",
       "      <td>0.1</td>\n",
       "      <td>1.1</td>\n",
       "      <td>0.3</td>\n",
       "      <td>0.1</td>\n",
       "      <td>2.5</td>\n",
       "      <td>2.5</td>\n",
       "      <td>1.6</td>\n",
       "      <td>...</td>\n",
       "      <td>0.4</td>\n",
       "      <td>1.2</td>\n",
       "      <td>0.4</td>\n",
       "      <td>1.2</td>\n",
       "      <td>1.0</td>\n",
       "      <td>0.3</td>\n",
       "      <td>0.0</td>\n",
       "      <td>0.1</td>\n",
       "      <td>0.3</td>\n",
       "      <td>0.0</td>\n",
       "    </tr>\n",
       "    <tr>\n",
       "      <th>Mean f</th>\n",
       "      <td>2.9</td>\n",
       "      <td>2.4</td>\n",
       "      <td>0.9</td>\n",
       "      <td>0.9</td>\n",
       "      <td>1.9</td>\n",
       "      <td>1.7</td>\n",
       "      <td>0.4</td>\n",
       "      <td>1.3</td>\n",
       "      <td>0.5</td>\n",
       "      <td>0.1</td>\n",
       "      <td>...</td>\n",
       "      <td>0.0</td>\n",
       "      <td>0.3</td>\n",
       "      <td>0.2</td>\n",
       "      <td>1.6</td>\n",
       "      <td>0.1</td>\n",
       "      <td>2.4</td>\n",
       "      <td>1.0</td>\n",
       "      <td>0.3</td>\n",
       "      <td>0.7</td>\n",
       "      <td>0.4</td>\n",
       "    </tr>\n",
       "    <tr>\n",
       "      <th>Std t</th>\n",
       "      <td>4.2</td>\n",
       "      <td>0.7</td>\n",
       "      <td>0.7</td>\n",
       "      <td>0.6</td>\n",
       "      <td>0.6</td>\n",
       "      <td>0.5</td>\n",
       "      <td>0.3</td>\n",
       "      <td>0.7</td>\n",
       "      <td>0.8</td>\n",
       "      <td>0.7</td>\n",
       "      <td>...</td>\n",
       "      <td>0.5</td>\n",
       "      <td>0.5</td>\n",
       "      <td>0.6</td>\n",
       "      <td>0.7</td>\n",
       "      <td>0.3</td>\n",
       "      <td>0.5</td>\n",
       "      <td>0.1</td>\n",
       "      <td>0.3</td>\n",
       "      <td>0.5</td>\n",
       "      <td>0.2</td>\n",
       "    </tr>\n",
       "    <tr>\n",
       "      <th>Std f</th>\n",
       "      <td>1.6</td>\n",
       "      <td>0.9</td>\n",
       "      <td>0.5</td>\n",
       "      <td>1.1</td>\n",
       "      <td>0.9</td>\n",
       "      <td>0.8</td>\n",
       "      <td>0.6</td>\n",
       "      <td>0.7</td>\n",
       "      <td>0.6</td>\n",
       "      <td>0.3</td>\n",
       "      <td>...</td>\n",
       "      <td>0.1</td>\n",
       "      <td>0.6</td>\n",
       "      <td>0.4</td>\n",
       "      <td>0.7</td>\n",
       "      <td>0.3</td>\n",
       "      <td>1.0</td>\n",
       "      <td>0.5</td>\n",
       "      <td>0.5</td>\n",
       "      <td>0.6</td>\n",
       "      <td>1.0</td>\n",
       "    </tr>\n",
       "  </tbody>\n",
       "</table>\n",
       "<p>4 rows × 64 columns</p>\n",
       "</div>"
      ],
      "text/plain": [
       "        AAA  AAC  AAG  AAT  ACA  ACC  ACG  ACT  AGA  AGC ...   TCG  TCT  TGA  \\\n",
       "Mean t  1.5  0.4  0.5  0.1  1.1  0.3  0.1  2.5  2.5  1.6 ...   0.4  1.2  0.4   \n",
       "Mean f  2.9  2.4  0.9  0.9  1.9  1.7  0.4  1.3  0.5  0.1 ...   0.0  0.3  0.2   \n",
       "Std t   4.2  0.7  0.7  0.6  0.6  0.5  0.3  0.7  0.8  0.7 ...   0.5  0.5  0.6   \n",
       "Std f   1.6  0.9  0.5  1.1  0.9  0.8  0.6  0.7  0.6  0.3 ...   0.1  0.6  0.4   \n",
       "\n",
       "        TGC  TGG  TGT  TTA  TTC  TTG  TTT  \n",
       "Mean t  1.2  1.0  0.3  0.0  0.1  0.3  0.0  \n",
       "Mean f  1.6  0.1  2.4  1.0  0.3  0.7  0.4  \n",
       "Std t   0.7  0.3  0.5  0.1  0.3  0.5  0.2  \n",
       "Std f   0.7  0.3  1.0  0.5  0.5  0.6  1.0  \n",
       "\n",
       "[4 rows x 64 columns]"
      ]
     },
     "execution_count": 31,
     "metadata": {},
     "output_type": "execute_result"
    }
   ],
   "source": [
    "pd.DataFrame(\n",
    "    columns=triplets, data=[\n",
    "        x_all[y_all==1][triplets].mean(),\n",
    "        x_all[y_all==0][triplets].mean(),\n",
    "        x_all[y_all==1][triplets].std(),\n",
    "        x_all[y_all==0][triplets].std()\n",
    "    ],\n",
    "    index=['Mean t', 'Mean f', 'Std t', 'Std f']\n",
    ").round(1)"
   ]
  },
  {
   "cell_type": "code",
   "execution_count": 32,
   "metadata": {},
   "outputs": [
    {
     "data": {
      "text/html": [
       "<div>\n",
       "<style scoped>\n",
       "    .dataframe tbody tr th:only-of-type {\n",
       "        vertical-align: middle;\n",
       "    }\n",
       "\n",
       "    .dataframe tbody tr th {\n",
       "        vertical-align: top;\n",
       "    }\n",
       "\n",
       "    .dataframe thead th {\n",
       "        text-align: right;\n",
       "    }\n",
       "</style>\n",
       "<table border=\"1\" class=\"dataframe\">\n",
       "  <thead>\n",
       "    <tr style=\"text-align: right;\">\n",
       "      <th></th>\n",
       "      <th>TA</th>\n",
       "      <th>CTC</th>\n",
       "      <th>GTA</th>\n",
       "      <th>GA</th>\n",
       "      <th>TAA</th>\n",
       "      <th>GAG</th>\n",
       "      <th>GG</th>\n",
       "      <th>TC</th>\n",
       "      <th>GGG</th>\n",
       "      <th>AG</th>\n",
       "      <th>GAC</th>\n",
       "      <th>AGA</th>\n",
       "      <th>GCC</th>\n",
       "      <th>TAT</th>\n",
       "      <th>AGC</th>\n",
       "      <th>TGG</th>\n",
       "      <th>TGT</th>\n",
       "      <th>AT</th>\n",
       "      <th>CTT</th>\n",
       "      <th>TTA</th>\n",
       "    </tr>\n",
       "  </thead>\n",
       "  <tbody>\n",
       "    <tr>\n",
       "      <th>Mean t</th>\n",
       "      <td>0.25</td>\n",
       "      <td>2.68</td>\n",
       "      <td>0.03</td>\n",
       "      <td>4.26</td>\n",
       "      <td>0.08</td>\n",
       "      <td>1.67</td>\n",
       "      <td>2.32</td>\n",
       "      <td>4.44</td>\n",
       "      <td>1.03</td>\n",
       "      <td>4.63</td>\n",
       "      <td>1.60</td>\n",
       "      <td>2.54</td>\n",
       "      <td>1.70</td>\n",
       "      <td>0.02</td>\n",
       "      <td>1.59</td>\n",
       "      <td>1.03</td>\n",
       "      <td>0.28</td>\n",
       "      <td>1.33</td>\n",
       "      <td>0.05</td>\n",
       "      <td>0.01</td>\n",
       "    </tr>\n",
       "    <tr>\n",
       "      <th>Mean f</th>\n",
       "      <td>5.43</td>\n",
       "      <td>0.12</td>\n",
       "      <td>1.95</td>\n",
       "      <td>0.75</td>\n",
       "      <td>2.61</td>\n",
       "      <td>0.03</td>\n",
       "      <td>0.17</td>\n",
       "      <td>0.79</td>\n",
       "      <td>0.01</td>\n",
       "      <td>1.56</td>\n",
       "      <td>0.05</td>\n",
       "      <td>0.52</td>\n",
       "      <td>0.06</td>\n",
       "      <td>1.38</td>\n",
       "      <td>0.11</td>\n",
       "      <td>0.08</td>\n",
       "      <td>2.36</td>\n",
       "      <td>4.08</td>\n",
       "      <td>0.97</td>\n",
       "      <td>0.96</td>\n",
       "    </tr>\n",
       "    <tr>\n",
       "      <th>Std t</th>\n",
       "      <td>0.63</td>\n",
       "      <td>0.61</td>\n",
       "      <td>0.18</td>\n",
       "      <td>1.06</td>\n",
       "      <td>0.50</td>\n",
       "      <td>0.76</td>\n",
       "      <td>0.84</td>\n",
       "      <td>0.81</td>\n",
       "      <td>0.51</td>\n",
       "      <td>0.97</td>\n",
       "      <td>0.65</td>\n",
       "      <td>0.83</td>\n",
       "      <td>0.69</td>\n",
       "      <td>0.15</td>\n",
       "      <td>0.65</td>\n",
       "      <td>0.34</td>\n",
       "      <td>0.50</td>\n",
       "      <td>0.91</td>\n",
       "      <td>0.22</td>\n",
       "      <td>0.12</td>\n",
       "    </tr>\n",
       "    <tr>\n",
       "      <th>Std f</th>\n",
       "      <td>1.39</td>\n",
       "      <td>0.37</td>\n",
       "      <td>0.72</td>\n",
       "      <td>0.71</td>\n",
       "      <td>1.22</td>\n",
       "      <td>0.18</td>\n",
       "      <td>0.44</td>\n",
       "      <td>1.02</td>\n",
       "      <td>0.12</td>\n",
       "      <td>0.82</td>\n",
       "      <td>0.22</td>\n",
       "      <td>0.56</td>\n",
       "      <td>0.25</td>\n",
       "      <td>0.94</td>\n",
       "      <td>0.32</td>\n",
       "      <td>0.27</td>\n",
       "      <td>0.96</td>\n",
       "      <td>1.53</td>\n",
       "      <td>0.51</td>\n",
       "      <td>0.54</td>\n",
       "    </tr>\n",
       "  </tbody>\n",
       "</table>\n",
       "</div>"
      ],
      "text/plain": [
       "          TA   CTC   GTA    GA   TAA   GAG    GG    TC   GGG    AG   GAC  \\\n",
       "Mean t  0.25  2.68  0.03  4.26  0.08  1.67  2.32  4.44  1.03  4.63  1.60   \n",
       "Mean f  5.43  0.12  1.95  0.75  2.61  0.03  0.17  0.79  0.01  1.56  0.05   \n",
       "Std t   0.63  0.61  0.18  1.06  0.50  0.76  0.84  0.81  0.51  0.97  0.65   \n",
       "Std f   1.39  0.37  0.72  0.71  1.22  0.18  0.44  1.02  0.12  0.82  0.22   \n",
       "\n",
       "         AGA   GCC   TAT   AGC   TGG   TGT    AT   CTT   TTA  \n",
       "Mean t  2.54  1.70  0.02  1.59  1.03  0.28  1.33  0.05  0.01  \n",
       "Mean f  0.52  0.06  1.38  0.11  0.08  2.36  4.08  0.97  0.96  \n",
       "Std t   0.83  0.69  0.15  0.65  0.34  0.50  0.91  0.22  0.12  \n",
       "Std f   0.56  0.25  0.94  0.32  0.27  0.96  1.53  0.51  0.54  "
      ]
     },
     "execution_count": 32,
     "metadata": {},
     "output_type": "execute_result"
    }
   ],
   "source": [
    "pd.DataFrame(\n",
    "    columns=x_all.columns, data=[\n",
    "        x_all[y_all==1].mean(),\n",
    "        x_all[y_all==0].mean(),\n",
    "        x_all[y_all==1].std(),\n",
    "        x_all[y_all==0].std()\n",
    "    ],\n",
    "    index=['Mean t', 'Mean f', 'Std t', 'Std f']\n",
    ").round(2)[list(filter(bool, map(lambda x: x[0] in pairs+triplets and x[0] or None, top_features)))[:20]]"
   ]
  },
  {
   "cell_type": "code",
   "execution_count": null,
   "metadata": {},
   "outputs": [],
   "source": []
  },
  {
   "cell_type": "code",
   "execution_count": null,
   "metadata": {},
   "outputs": [],
   "source": []
  }
 ],
 "metadata": {
  "kernelspec": {
   "display_name": "Python 3",
   "language": "python",
   "name": "python3"
  },
  "language_info": {
   "codemirror_mode": {
    "name": "ipython",
    "version": 3
   },
   "file_extension": ".py",
   "mimetype": "text/x-python",
   "name": "python",
   "nbconvert_exporter": "python",
   "pygments_lexer": "ipython3",
   "version": "3.6.5"
  }
 },
 "nbformat": 4,
 "nbformat_minor": 2
}
