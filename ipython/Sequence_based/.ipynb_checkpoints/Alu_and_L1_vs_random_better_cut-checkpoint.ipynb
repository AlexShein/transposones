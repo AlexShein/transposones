{
 "cells": [
  {
   "cell_type": "code",
   "execution_count": 1,
   "metadata": {},
   "outputs": [],
   "source": [
    "#import xgboost\n",
    "from sklearn.ensemble import RandomForestClassifier\n",
    "from sklearn.model_selection import GridSearchCV, train_test_split\n",
    "from sklearn.metrics import roc_curve, auc, roc_auc_score, accuracy_score, precision_score, recall_score\n",
    "import matplotlib.pyplot as plt\n",
    "import numpy as np\n",
    "from itertools import product\n",
    "from collections import defaultdict\n",
    "import pandas as pd"
   ]
  },
  {
   "cell_type": "code",
   "execution_count": 2,
   "metadata": {},
   "outputs": [],
   "source": [
    "np.random.seed(7)"
   ]
  },
  {
   "cell_type": "code",
   "execution_count": 3,
   "metadata": {},
   "outputs": [],
   "source": [
    "def get_triplets(lst):\n",
    "    \"\"\"\n",
    "    '1234' -> ['123','234']\n",
    "    \"\"\"\n",
    "    res = []\n",
    "    for i in range(len(lst) - 2):\n",
    "        res.append(lst[i]+lst[i + 1]+lst[i + 2])\n",
    "    return res\n",
    "\n",
    "\n",
    "def get_dinucleotides(lst):\n",
    "    \"\"\"\n",
    "    '123' -> ['12', '23']\n",
    "    \"\"\"\n",
    "    res = []\n",
    "    for i in range(len(lst) - 1):\n",
    "        res.append(lst[i]+lst[i + 1])\n",
    "    return res"
   ]
  },
  {
   "cell_type": "code",
   "execution_count": 4,
   "metadata": {},
   "outputs": [],
   "source": [
    "#True: Last bases of Alus\n",
    "with open('/Users/alexandershein/Code/study/CourseProject/transposones/sequences/Alu_All_50_bs_2.txt','r') as f:\n",
    "    dt = np.unique(list(map(lambda x: x.strip(),f.readlines())))\n",
    "# Last bases of L1    \n",
    "\n",
    "with open('/Users/alexandershein/Code/study/CourseProject/transposones/sequences/L1_last_50_bs_2.txt','r') as f:\n",
    "    dt = np.append(dt, np.unique(list(map(lambda x: x.strip(),f.readlines()))))"
   ]
  },
  {
   "cell_type": "code",
   "execution_count": 5,
   "metadata": {},
   "outputs": [],
   "source": [
    "#False: Random genome sequences\n",
    "with open('/Users/alexandershein/Code/study/CourseProject/transposones/sequences/random_nt_seq.txt','r') as f:\n",
    "    df = np.unique(list(map(lambda x: x.strip(),f.readlines())))\n"
   ]
  },
  {
   "cell_type": "code",
   "execution_count": 6,
   "metadata": {},
   "outputs": [
    {
     "data": {
      "text/plain": [
       "(9265, 19999)"
      ]
     },
     "execution_count": 6,
     "metadata": {},
     "output_type": "execute_result"
    }
   ],
   "source": [
    "len(dt), len(df)"
   ]
  },
  {
   "cell_type": "code",
   "execution_count": 7,
   "metadata": {},
   "outputs": [],
   "source": [
    "# Balancing alternative\n",
    "# d = df if len(df) > len(dt) else dt\n",
    "p = len(df)/len(dt); m = min(p,1/p)\n",
    "np.random.seed(7)\n",
    "df = np.random.choice(df,round(len(df)*m), replace=False)\n",
    "dt = np.random.choice(dt, len(dt), replace=False)"
   ]
  },
  {
   "cell_type": "code",
   "execution_count": 8,
   "metadata": {},
   "outputs": [
    {
     "data": {
      "text/plain": [
       "(9265, 9265)"
      ]
     },
     "execution_count": 8,
     "metadata": {},
     "output_type": "execute_result"
    }
   ],
   "source": [
    "len(dt), len(df)"
   ]
  },
  {
   "cell_type": "code",
   "execution_count": 9,
   "metadata": {},
   "outputs": [],
   "source": [
    "alph = ['A','C','G','T']\n",
    "alph_dict = {'A':1,'C':2,'G':3,'T':4}\n",
    "pairs = [''.join(i) for i in product(alph, repeat=2)]\n",
    "triplets = [''.join(i) for i in product(alph, repeat=3)]"
   ]
  },
  {
   "cell_type": "code",
   "execution_count": 10,
   "metadata": {},
   "outputs": [],
   "source": [
    "x_t, y_t = [], []\n",
    "for line in dt:\n",
    "    row = {}\n",
    "    for di_n in get_dinucleotides(line)+get_triplets(line):\n",
    "        row[di_n]=row.get(di_n,0)+1\n",
    "    for pos in range(len(line)):\n",
    "        row[f'P{pos}']=alph_dict[line[pos]]\n",
    "    y_t.append(1)\n",
    "    x_t.append(row)"
   ]
  },
  {
   "cell_type": "code",
   "execution_count": 11,
   "metadata": {},
   "outputs": [],
   "source": [
    "x_f, y_f = [], []\n",
    "for line in df:\n",
    "    row = {}\n",
    "    for di_n in get_dinucleotides(line)+get_triplets(line):\n",
    "        row[di_n]=row.get(di_n,0)+1\n",
    "    for pos in range(len(line)):\n",
    "        row[f'P{pos}']=alph_dict[line[pos]]\n",
    "    y_f.append(0)\n",
    "    x_f.append(row)"
   ]
  },
  {
   "cell_type": "code",
   "execution_count": 12,
   "metadata": {},
   "outputs": [],
   "source": [
    "x_all = pd.DataFrame(x_t + x_f).fillna(0)\n",
    "y_all = np.array(y_t + y_f)"
   ]
  },
  {
   "cell_type": "code",
   "execution_count": 13,
   "metadata": {},
   "outputs": [],
   "source": [
    "x_train, x_test, y_train, y_test = train_test_split(x_all, y_all, random_state=7, test_size=0.3)"
   ]
  },
  {
   "cell_type": "code",
   "execution_count": 14,
   "metadata": {},
   "outputs": [
    {
     "data": {
      "text/plain": [
       "(0.49865083648138153, 0.5031480482101097)"
      ]
     },
     "execution_count": 14,
     "metadata": {},
     "output_type": "execute_result"
    }
   ],
   "source": [
    "np.mean(y_train), np.mean(y_test)"
   ]
  },
  {
   "cell_type": "code",
   "execution_count": 15,
   "metadata": {},
   "outputs": [],
   "source": [
    "#tr = xgboost.XGBClassifier(max_depth=5,n_estimators=100,random_state=7)\n",
    "#params = {\"max_depth\":[5,8,11,15,20], \"n_estimators\":[100,1000,2000]}"
   ]
  },
  {
   "cell_type": "code",
   "execution_count": 16,
   "metadata": {},
   "outputs": [],
   "source": [
    "tr = RandomForestClassifier(max_depth=5,n_estimators=100,random_state=7)\n",
    "params = {\"max_depth\":[5,8,11,15,20], \"n_estimators\":[100,1000,2000]}"
   ]
  },
  {
   "cell_type": "code",
   "execution_count": 17,
   "metadata": {},
   "outputs": [],
   "source": [
    "gr = GridSearchCV(tr,param_grid=params,n_jobs=6,cv=5,)"
   ]
  },
  {
   "cell_type": "code",
   "execution_count": 18,
   "metadata": {},
   "outputs": [
    {
     "data": {
      "text/plain": [
       "GridSearchCV(cv=5, error_score='raise',\n",
       "       estimator=RandomForestClassifier(bootstrap=True, class_weight=None, criterion='gini',\n",
       "            max_depth=5, max_features='auto', max_leaf_nodes=None,\n",
       "            min_impurity_decrease=0.0, min_impurity_split=None,\n",
       "            min_samples_leaf=1, min_samples_split=2,\n",
       "            min_weight_fraction_leaf=0.0, n_estimators=100, n_jobs=1,\n",
       "            oob_score=False, random_state=7, verbose=0, warm_start=False),\n",
       "       fit_params=None, iid=True, n_jobs=6,\n",
       "       param_grid={'max_depth': [5, 8, 11, 15, 20], 'n_estimators': [100, 1000, 2000]},\n",
       "       pre_dispatch='2*n_jobs', refit=True, return_train_score='warn',\n",
       "       scoring=None, verbose=0)"
      ]
     },
     "execution_count": 18,
     "metadata": {},
     "output_type": "execute_result"
    }
   ],
   "source": [
    "gr.fit(x_train,y_train)"
   ]
  },
  {
   "cell_type": "code",
   "execution_count": 19,
   "metadata": {},
   "outputs": [
    {
     "data": {
      "text/plain": [
       "(0.9883586462107778, {'max_depth': 20, 'n_estimators': 1000})"
      ]
     },
     "execution_count": 19,
     "metadata": {},
     "output_type": "execute_result"
    }
   ],
   "source": [
    "gr.best_score_, gr.best_params_"
   ]
  },
  {
   "cell_type": "code",
   "execution_count": 20,
   "metadata": {},
   "outputs": [],
   "source": [
    "y_pred = gr.best_estimator_.predict(x_test)"
   ]
  },
  {
   "cell_type": "code",
   "execution_count": 21,
   "metadata": {},
   "outputs": [
    {
     "data": {
      "text/plain": [
       "0.9856763103739213"
      ]
     },
     "execution_count": 21,
     "metadata": {},
     "output_type": "execute_result"
    }
   ],
   "source": [
    "roc_auc_score(y_test,y_pred)"
   ]
  },
  {
   "cell_type": "code",
   "execution_count": 22,
   "metadata": {},
   "outputs": [],
   "source": [
    "fpr, tpr, _ = roc_curve(y_test,gr.best_estimator_.predict_proba(x_test)[:,1])"
   ]
  },
  {
   "cell_type": "code",
   "execution_count": 23,
   "metadata": {},
   "outputs": [
    {
     "data": {
      "image/png": "[encoded data removed]",
      "text/plain": [
       "<Figure size 432x288 with 1 Axes>"
      ]
     },
     "metadata": {},
     "output_type": "display_data"
    }
   ],
   "source": [
    "plt.plot(fpr,tpr);"
   ]
  },
  {
   "cell_type": "code",
   "execution_count": 24,
   "metadata": {},
   "outputs": [
    {
     "data": {
      "text/plain": [
       "0.9981372925424132"
      ]
     },
     "execution_count": 24,
     "metadata": {},
     "output_type": "execute_result"
    }
   ],
   "source": [
    "auc(fpr,tpr)"
   ]
  },
  {
   "cell_type": "code",
   "execution_count": 25,
   "metadata": {},
   "outputs": [
    {
     "data": {
      "text/plain": [
       "(0.9856089224680697, 0.9963463646328097, 0.9749731855559528)"
      ]
     },
     "execution_count": 25,
     "metadata": {},
     "output_type": "execute_result"
    }
   ],
   "source": [
    "accuracy_score(y_test,y_pred), precision_score(y_test,y_pred), recall_score(y_test,y_pred)"
   ]
  },
  {
   "cell_type": "code",
   "execution_count": 26,
   "metadata": {},
   "outputs": [
    {
     "data": {
      "text/plain": [
       "[('AC', 0.06555667463213188),\n",
       " ('P48', 0.05658305388226826),\n",
       " ('TT', 0.050340771773990566),\n",
       " ('P38', 0.046469417067343755),\n",
       " ('TTT', 0.04561590289242951),\n",
       " ('CAC', 0.039909076594842864),\n",
       " ('ACT', 0.0360367050979811),\n",
       " ('P40', 0.03515122747021669),\n",
       " ('AGG', 0.03355508401869096),\n",
       " ('P49', 0.025769464854306246),\n",
       " ('GCA', 0.023808120985816014),\n",
       " ('CCT', 0.02287824141771057),\n",
       " ('TGC', 0.022530716632908274),\n",
       " ('GGA', 0.02243070571131373),\n",
       " ('GCT', 0.022390074150154607),\n",
       " ('CC', 0.021960138885648423),\n",
       " ('TTC', 0.02063233056558418),\n",
       " ('GTA', 0.01929512544148753),\n",
       " ('GG', 0.0140295160885116),\n",
       " ('TCA', 0.013816661358311147),\n",
       " ('GCG', 0.01363764916334954),\n",
       " ('AAC', 0.013583028728426049),\n",
       " ('TA', 0.013511998409121425),\n",
       " ('CTC', 0.011183142609222771),\n",
       " ('AA', 0.010175562126037334),\n",
       " ('GA', 0.009948143708361189),\n",
       " ('CG', 0.009861468300773514),\n",
       " ('AAA', 0.009089488309531326),\n",
       " ('P47', 0.008958350161348489),\n",
       " ('ACA', 0.008744749230936181),\n",
       " ('TC', 0.008166526072569685),\n",
       " ('CA', 0.007552704816990467),\n",
       " ('CT', 0.0070061174991533125),\n",
       " ('TGA', 0.006995078111653232),\n",
       " ('CGA', 0.006634578657624637),\n",
       " ('ACC', 0.006596827045790297),\n",
       " ('CGT', 0.006249600816354353),\n",
       " ('P46', 0.005960617390859707),\n",
       " ('AG', 0.005839887684467726),\n",
       " ('TGT', 0.0057166736890546166),\n",
       " ('CCC', 0.005704691752700254),\n",
       " ('CTG', 0.005679356175100304),\n",
       " ('P41', 0.00567134914968193),\n",
       " ('GC', 0.005500441909935959),\n",
       " ('TAA', 0.005135304352164663),\n",
       " ('P34', 0.0048239575359183984),\n",
       " ('P39', 0.0045368944471152),\n",
       " ('AGA', 0.00441294077884596),\n",
       " ('P24', 0.0043549946892520435),\n",
       " ('P32', 0.004239877776543356),\n",
       " ('AAT', 0.004091198576267753),\n",
       " ('GAC', 0.003953637002180747),\n",
       " ('GAA', 0.003621979121643816),\n",
       " ('TTA', 0.0035744320038518774),\n",
       " ('CTT', 0.0035000796075004485),\n",
       " ('P33', 0.0033455033034658927),\n",
       " ('AT', 0.0032852521240339634),\n",
       " ('P45', 0.0026994932080371264),\n",
       " ('ATG', 0.002683898453530732),\n",
       " ('P25', 0.002576634123620958),\n",
       " ('TG', 0.00255233981204803),\n",
       " ('GAT', 0.002476566595324162),\n",
       " ('TGG', 0.0024298702406669124),\n",
       " ('TCT', 0.002417102826395834),\n",
       " ('GT', 0.002351929124501941),\n",
       " ('GCC', 0.0023218463240399193),\n",
       " ('P8', 0.0022598872194542906),\n",
       " ('P43', 0.002210111096295698),\n",
       " ('GAG', 0.0022016224176386406),\n",
       " ('GGG', 0.002172015101918631),\n",
       " ('P42', 0.0021295940692262743),\n",
       " ('CCA', 0.002094173905308894),\n",
       " ('GGT', 0.0020641434462643814),\n",
       " ('ATT', 0.0020569383743349145),\n",
       " ('TCC', 0.002019821500011709),\n",
       " ('P11', 0.0019589768933400108),\n",
       " ('TAT', 0.001945630848023601),\n",
       " ('CAT', 0.0018943574915331444),\n",
       " ('TAC', 0.0018805786975454617),\n",
       " ('P18', 0.0018453386357797467),\n",
       " ('CAG', 0.001775454608838455),\n",
       " ('P31', 0.0017614001634674087),\n",
       " ('AGC', 0.0016270178132652725),\n",
       " ('P35', 0.0015995488223490702),\n",
       " ('P30', 0.0015669893614401343),\n",
       " ('ATA', 0.0015282244451018518),\n",
       " ('TAG', 0.0015044856732370718),\n",
       " ('CGC', 0.0014911554588435659),\n",
       " ('TTG', 0.001466928463903018),\n",
       " ('CCG', 0.0014636941559771654),\n",
       " ('AAG', 0.0014287401796582166),\n",
       " ('P27', 0.001406268231467402),\n",
       " ('GGC', 0.0013778971193060096),\n",
       " ('P26', 0.0013721626931165092),\n",
       " ('GTT', 0.001371906865390818),\n",
       " ('P44', 0.0012951359479738424),\n",
       " ('CAA', 0.0012721385297231897),\n",
       " ('P14', 0.0012689872424527452),\n",
       " ('P19', 0.0012631974962668225),\n",
       " ('P1', 0.0012526862005475283),\n",
       " ('GTC', 0.0012525621976478567),\n",
       " ('P22', 0.0012484861735642032),\n",
       " ('P37', 0.0012361940912260763),\n",
       " ('P17', 0.0012239666784634431),\n",
       " ('P0', 0.0012221391870013),\n",
       " ('P36', 0.0011638282708541974),\n",
       " ('P3', 0.0011607748227231882),\n",
       " ('P15', 0.0011397571926667106),\n",
       " ('P16', 0.0011350798465311058),\n",
       " ('CTA', 0.001111845897156771),\n",
       " ('P20', 0.0011013185122229442),\n",
       " ('P29', 0.0010926422312279663),\n",
       " ('P12', 0.0010860959524555402),\n",
       " ('P9', 0.001072601811564878),\n",
       " ('P23', 0.0010597402499950505),\n",
       " ('P28', 0.0010517445481730702),\n",
       " ('P10', 0.0010503586697277886),\n",
       " ('P2', 0.001023346008590165),\n",
       " ('P13', 0.0009860771079940656),\n",
       " ('P6', 0.000940863754548158),\n",
       " ('P21', 0.000936727611799007),\n",
       " ('P5', 0.0009149347891197763),\n",
       " ('P7', 0.0008965616771503206),\n",
       " ('P4', 0.0008775500666118985),\n",
       " ('AGT', 0.0008565362671508743),\n",
       " ('ATC', 0.0008252731557690645),\n",
       " ('ACG', 0.000817560637507259),\n",
       " ('GTG', 0.0008021340969723583),\n",
       " ('CGG', 0.0004184659373659489),\n",
       " ('TCG', 0.0003548503195756185)]"
      ]
     },
     "execution_count": 26,
     "metadata": {},
     "output_type": "execute_result"
    }
   ],
   "source": [
    "top_features = list(sorted(zip(x_train.columns, gr.best_estimator_.feature_importances_), key=lambda x: x[1], reverse=True))\n",
    "top_features"
   ]
  },
  {
   "cell_type": "code",
   "execution_count": 27,
   "metadata": {},
   "outputs": [
    {
     "data": {
      "text/plain": [
       "130"
      ]
     },
     "execution_count": 27,
     "metadata": {},
     "output_type": "execute_result"
    }
   ],
   "source": [
    "len(gr.best_estimator_.feature_importances_)"
   ]
  },
  {
   "cell_type": "code",
   "execution_count": 28,
   "metadata": {},
   "outputs": [
    {
     "data": {
      "text/plain": [
       "130"
      ]
     },
     "execution_count": 28,
     "metadata": {},
     "output_type": "execute_result"
    }
   ],
   "source": [
    "len(x_train.columns)"
   ]
  },
  {
   "cell_type": "code",
   "execution_count": 29,
   "metadata": {},
   "outputs": [
    {
     "data": {
      "text/plain": [
       "{'bootstrap': True,\n",
       " 'class_weight': None,\n",
       " 'criterion': 'gini',\n",
       " 'max_depth': 20,\n",
       " 'max_features': 'auto',\n",
       " 'max_leaf_nodes': None,\n",
       " 'min_impurity_decrease': 0.0,\n",
       " 'min_impurity_split': None,\n",
       " 'min_samples_leaf': 1,\n",
       " 'min_samples_split': 2,\n",
       " 'min_weight_fraction_leaf': 0.0,\n",
       " 'n_estimators': 1000,\n",
       " 'n_jobs': 1,\n",
       " 'oob_score': False,\n",
       " 'random_state': 7,\n",
       " 'verbose': 0,\n",
       " 'warm_start': False}"
      ]
     },
     "execution_count": 29,
     "metadata": {},
     "output_type": "execute_result"
    }
   ],
   "source": [
    "gr.best_estimator_.get_params()"
   ]
  },
  {
   "cell_type": "code",
   "execution_count": 30,
   "metadata": {},
   "outputs": [
    {
     "data": {
      "text/html": [
       "<div>\n",
       "<style scoped>\n",
       "    .dataframe tbody tr th:only-of-type {\n",
       "        vertical-align: middle;\n",
       "    }\n",
       "\n",
       "    .dataframe tbody tr th {\n",
       "        vertical-align: top;\n",
       "    }\n",
       "\n",
       "    .dataframe thead th {\n",
       "        text-align: right;\n",
       "    }\n",
       "</style>\n",
       "<table border=\"1\" class=\"dataframe\">\n",
       "  <thead>\n",
       "    <tr style=\"text-align: right;\">\n",
       "      <th></th>\n",
       "      <th>AA</th>\n",
       "      <th>AC</th>\n",
       "      <th>AG</th>\n",
       "      <th>AT</th>\n",
       "      <th>CA</th>\n",
       "      <th>CC</th>\n",
       "      <th>CG</th>\n",
       "      <th>CT</th>\n",
       "      <th>GA</th>\n",
       "      <th>GC</th>\n",
       "      <th>GG</th>\n",
       "      <th>GT</th>\n",
       "      <th>TA</th>\n",
       "      <th>TC</th>\n",
       "      <th>TG</th>\n",
       "      <th>TT</th>\n",
       "    </tr>\n",
       "  </thead>\n",
       "  <tbody>\n",
       "    <tr>\n",
       "      <th>Mean t</th>\n",
       "      <td>4.5616</td>\n",
       "      <td>4.5292</td>\n",
       "      <td>3.2199</td>\n",
       "      <td>2.5890</td>\n",
       "      <td>4.6038</td>\n",
       "      <td>3.5521</td>\n",
       "      <td>1.6346</td>\n",
       "      <td>4.1371</td>\n",
       "      <td>2.6512</td>\n",
       "      <td>3.2832</td>\n",
       "      <td>1.3362</td>\n",
       "      <td>2.5252</td>\n",
       "      <td>2.6204</td>\n",
       "      <td>2.7717</td>\n",
       "      <td>3.5383</td>\n",
       "      <td>1.4466</td>\n",
       "    </tr>\n",
       "    <tr>\n",
       "      <th>Mean f</th>\n",
       "      <td>4.7250</td>\n",
       "      <td>2.4508</td>\n",
       "      <td>3.4928</td>\n",
       "      <td>3.7937</td>\n",
       "      <td>3.5444</td>\n",
       "      <td>2.5809</td>\n",
       "      <td>0.4562</td>\n",
       "      <td>3.4500</td>\n",
       "      <td>2.9474</td>\n",
       "      <td>2.0614</td>\n",
       "      <td>2.5770</td>\n",
       "      <td>2.4555</td>\n",
       "      <td>3.2575</td>\n",
       "      <td>2.9377</td>\n",
       "      <td>3.5134</td>\n",
       "      <td>4.7561</td>\n",
       "    </tr>\n",
       "    <tr>\n",
       "      <th>Std t</th>\n",
       "      <td>4.4891</td>\n",
       "      <td>1.3275</td>\n",
       "      <td>1.7765</td>\n",
       "      <td>1.8319</td>\n",
       "      <td>1.2241</td>\n",
       "      <td>1.2633</td>\n",
       "      <td>1.5636</td>\n",
       "      <td>1.1999</td>\n",
       "      <td>1.9711</td>\n",
       "      <td>1.7236</td>\n",
       "      <td>1.2748</td>\n",
       "      <td>1.5517</td>\n",
       "      <td>2.7820</td>\n",
       "      <td>2.0357</td>\n",
       "      <td>1.3550</td>\n",
       "      <td>1.5844</td>\n",
       "    </tr>\n",
       "    <tr>\n",
       "      <th>Std f</th>\n",
       "      <td>3.3664</td>\n",
       "      <td>1.6410</td>\n",
       "      <td>2.0377</td>\n",
       "      <td>2.3188</td>\n",
       "      <td>1.8926</td>\n",
       "      <td>2.5041</td>\n",
       "      <td>0.9038</td>\n",
       "      <td>2.0273</td>\n",
       "      <td>1.9051</td>\n",
       "      <td>1.6225</td>\n",
       "      <td>2.5202</td>\n",
       "      <td>1.6656</td>\n",
       "      <td>2.3022</td>\n",
       "      <td>1.9178</td>\n",
       "      <td>1.8734</td>\n",
       "      <td>3.4192</td>\n",
       "    </tr>\n",
       "  </tbody>\n",
       "</table>\n",
       "</div>"
      ],
      "text/plain": [
       "            AA      AC      AG      AT      CA      CC      CG      CT  \\\n",
       "Mean t  4.5616  4.5292  3.2199  2.5890  4.6038  3.5521  1.6346  4.1371   \n",
       "Mean f  4.7250  2.4508  3.4928  3.7937  3.5444  2.5809  0.4562  3.4500   \n",
       "Std t   4.4891  1.3275  1.7765  1.8319  1.2241  1.2633  1.5636  1.1999   \n",
       "Std f   3.3664  1.6410  2.0377  2.3188  1.8926  2.5041  0.9038  2.0273   \n",
       "\n",
       "            GA      GC      GG      GT      TA      TC      TG      TT  \n",
       "Mean t  2.6512  3.2832  1.3362  2.5252  2.6204  2.7717  3.5383  1.4466  \n",
       "Mean f  2.9474  2.0614  2.5770  2.4555  3.2575  2.9377  3.5134  4.7561  \n",
       "Std t   1.9711  1.7236  1.2748  1.5517  2.7820  2.0357  1.3550  1.5844  \n",
       "Std f   1.9051  1.6225  2.5202  1.6656  2.3022  1.9178  1.8734  3.4192  "
      ]
     },
     "execution_count": 30,
     "metadata": {},
     "output_type": "execute_result"
    }
   ],
   "source": [
    "pd.DataFrame(\n",
    "    columns=pairs, data=[\n",
    "        x_all[y_all==1][pairs].mean(),\n",
    "        x_all[y_all==0][pairs].mean(),\n",
    "        x_all[y_all==1][pairs].std(),\n",
    "        x_all[y_all==0][pairs].std()\n",
    "    ],\n",
    "    index=['Mean t', 'Mean f', 'Std t', 'Std f']\n",
    ").round(4)"
   ]
  },
  {
   "cell_type": "code",
   "execution_count": 31,
   "metadata": {},
   "outputs": [
    {
     "data": {
      "text/html": [
       "<div>\n",
       "<style scoped>\n",
       "    .dataframe tbody tr th:only-of-type {\n",
       "        vertical-align: middle;\n",
       "    }\n",
       "\n",
       "    .dataframe tbody tr th {\n",
       "        vertical-align: top;\n",
       "    }\n",
       "\n",
       "    .dataframe thead th {\n",
       "        text-align: right;\n",
       "    }\n",
       "</style>\n",
       "<table border=\"1\" class=\"dataframe\">\n",
       "  <thead>\n",
       "    <tr style=\"text-align: right;\">\n",
       "      <th></th>\n",
       "      <th>AAA</th>\n",
       "      <th>AAC</th>\n",
       "      <th>AAG</th>\n",
       "      <th>AAT</th>\n",
       "      <th>ACA</th>\n",
       "      <th>ACC</th>\n",
       "      <th>ACG</th>\n",
       "      <th>ACT</th>\n",
       "      <th>AGA</th>\n",
       "      <th>AGC</th>\n",
       "      <th>...</th>\n",
       "      <th>TCG</th>\n",
       "      <th>TCT</th>\n",
       "      <th>TGA</th>\n",
       "      <th>TGC</th>\n",
       "      <th>TGG</th>\n",
       "      <th>TGT</th>\n",
       "      <th>TTA</th>\n",
       "      <th>TTC</th>\n",
       "      <th>TTG</th>\n",
       "      <th>TTT</th>\n",
       "    </tr>\n",
       "  </thead>\n",
       "  <tbody>\n",
       "    <tr>\n",
       "      <th>Mean t</th>\n",
       "      <td>2.1</td>\n",
       "      <td>1.3</td>\n",
       "      <td>0.7</td>\n",
       "      <td>0.5</td>\n",
       "      <td>1.5</td>\n",
       "      <td>0.9</td>\n",
       "      <td>0.2</td>\n",
       "      <td>1.9</td>\n",
       "      <td>1.6</td>\n",
       "      <td>0.9</td>\n",
       "      <td>...</td>\n",
       "      <td>0.2</td>\n",
       "      <td>0.8</td>\n",
       "      <td>0.3</td>\n",
       "      <td>1.4</td>\n",
       "      <td>0.6</td>\n",
       "      <td>1.2</td>\n",
       "      <td>0.4</td>\n",
       "      <td>0.2</td>\n",
       "      <td>0.4</td>\n",
       "      <td>0.2</td>\n",
       "    </tr>\n",
       "    <tr>\n",
       "      <th>Mean f</th>\n",
       "      <td>1.7</td>\n",
       "      <td>0.7</td>\n",
       "      <td>1.0</td>\n",
       "      <td>1.2</td>\n",
       "      <td>1.0</td>\n",
       "      <td>0.5</td>\n",
       "      <td>0.1</td>\n",
       "      <td>0.8</td>\n",
       "      <td>1.1</td>\n",
       "      <td>0.7</td>\n",
       "      <td>...</td>\n",
       "      <td>0.1</td>\n",
       "      <td>1.1</td>\n",
       "      <td>0.9</td>\n",
       "      <td>0.7</td>\n",
       "      <td>0.8</td>\n",
       "      <td>1.0</td>\n",
       "      <td>1.1</td>\n",
       "      <td>1.0</td>\n",
       "      <td>0.9</td>\n",
       "      <td>1.7</td>\n",
       "    </tr>\n",
       "    <tr>\n",
       "      <th>Std t</th>\n",
       "      <td>3.3</td>\n",
       "      <td>1.3</td>\n",
       "      <td>0.7</td>\n",
       "      <td>0.9</td>\n",
       "      <td>0.9</td>\n",
       "      <td>0.9</td>\n",
       "      <td>0.5</td>\n",
       "      <td>0.9</td>\n",
       "      <td>1.2</td>\n",
       "      <td>0.9</td>\n",
       "      <td>...</td>\n",
       "      <td>0.4</td>\n",
       "      <td>0.7</td>\n",
       "      <td>0.5</td>\n",
       "      <td>0.7</td>\n",
       "      <td>0.6</td>\n",
       "      <td>1.3</td>\n",
       "      <td>0.6</td>\n",
       "      <td>0.4</td>\n",
       "      <td>0.6</td>\n",
       "      <td>0.7</td>\n",
       "    </tr>\n",
       "    <tr>\n",
       "      <th>Std f</th>\n",
       "      <td>2.1</td>\n",
       "      <td>0.9</td>\n",
       "      <td>1.0</td>\n",
       "      <td>1.2</td>\n",
       "      <td>1.2</td>\n",
       "      <td>0.8</td>\n",
       "      <td>0.3</td>\n",
       "      <td>0.9</td>\n",
       "      <td>1.2</td>\n",
       "      <td>0.9</td>\n",
       "      <td>...</td>\n",
       "      <td>0.3</td>\n",
       "      <td>1.2</td>\n",
       "      <td>0.9</td>\n",
       "      <td>0.9</td>\n",
       "      <td>1.0</td>\n",
       "      <td>1.2</td>\n",
       "      <td>1.1</td>\n",
       "      <td>1.1</td>\n",
       "      <td>0.9</td>\n",
       "      <td>2.1</td>\n",
       "    </tr>\n",
       "  </tbody>\n",
       "</table>\n",
       "<p>4 rows × 64 columns</p>\n",
       "</div>"
      ],
      "text/plain": [
       "        AAA  AAC  AAG  AAT  ACA  ACC  ACG  ACT  AGA  AGC ...   TCG  TCT  TGA  \\\n",
       "Mean t  2.1  1.3  0.7  0.5  1.5  0.9  0.2  1.9  1.6  0.9 ...   0.2  0.8  0.3   \n",
       "Mean f  1.7  0.7  1.0  1.2  1.0  0.5  0.1  0.8  1.1  0.7 ...   0.1  1.1  0.9   \n",
       "Std t   3.3  1.3  0.7  0.9  0.9  0.9  0.5  0.9  1.2  0.9 ...   0.4  0.7  0.5   \n",
       "Std f   2.1  0.9  1.0  1.2  1.2  0.8  0.3  0.9  1.2  0.9 ...   0.3  1.2  0.9   \n",
       "\n",
       "        TGC  TGG  TGT  TTA  TTC  TTG  TTT  \n",
       "Mean t  1.4  0.6  1.2  0.4  0.2  0.4  0.2  \n",
       "Mean f  0.7  0.8  1.0  1.1  1.0  0.9  1.7  \n",
       "Std t   0.7  0.6  1.3  0.6  0.4  0.6  0.7  \n",
       "Std f   0.9  1.0  1.2  1.1  1.1  0.9  2.1  \n",
       "\n",
       "[4 rows x 64 columns]"
      ]
     },
     "execution_count": 31,
     "metadata": {},
     "output_type": "execute_result"
    }
   ],
   "source": [
    "pd.DataFrame(\n",
    "    columns=triplets, data=[\n",
    "        x_all[y_all==1][triplets].mean(),\n",
    "        x_all[y_all==0][triplets].mean(),\n",
    "        x_all[y_all==1][triplets].std(),\n",
    "        x_all[y_all==0][triplets].std()\n",
    "    ],\n",
    "    index=['Mean t', 'Mean f', 'Std t', 'Std f']\n",
    ").round(1)"
   ]
  },
  {
   "cell_type": "code",
   "execution_count": 32,
   "metadata": {},
   "outputs": [
    {
     "data": {
      "text/html": [
       "<div>\n",
       "<style scoped>\n",
       "    .dataframe tbody tr th:only-of-type {\n",
       "        vertical-align: middle;\n",
       "    }\n",
       "\n",
       "    .dataframe tbody tr th {\n",
       "        vertical-align: top;\n",
       "    }\n",
       "\n",
       "    .dataframe thead th {\n",
       "        text-align: right;\n",
       "    }\n",
       "</style>\n",
       "<table border=\"1\" class=\"dataframe\">\n",
       "  <thead>\n",
       "    <tr style=\"text-align: right;\">\n",
       "      <th></th>\n",
       "      <th>AC</th>\n",
       "      <th>TT</th>\n",
       "      <th>TTT</th>\n",
       "      <th>CAC</th>\n",
       "      <th>ACT</th>\n",
       "      <th>AGG</th>\n",
       "      <th>GCA</th>\n",
       "      <th>CCT</th>\n",
       "      <th>TGC</th>\n",
       "      <th>GGA</th>\n",
       "      <th>GCT</th>\n",
       "      <th>CC</th>\n",
       "      <th>TTC</th>\n",
       "      <th>GTA</th>\n",
       "      <th>GG</th>\n",
       "      <th>TCA</th>\n",
       "      <th>GCG</th>\n",
       "      <th>AAC</th>\n",
       "      <th>TA</th>\n",
       "      <th>CTC</th>\n",
       "    </tr>\n",
       "  </thead>\n",
       "  <tbody>\n",
       "    <tr>\n",
       "      <th>Mean t</th>\n",
       "      <td>4.53</td>\n",
       "      <td>1.45</td>\n",
       "      <td>0.20</td>\n",
       "      <td>1.77</td>\n",
       "      <td>1.91</td>\n",
       "      <td>0.10</td>\n",
       "      <td>1.51</td>\n",
       "      <td>1.31</td>\n",
       "      <td>1.39</td>\n",
       "      <td>0.11</td>\n",
       "      <td>0.08</td>\n",
       "      <td>3.55</td>\n",
       "      <td>0.18</td>\n",
       "      <td>0.91</td>\n",
       "      <td>1.34</td>\n",
       "      <td>0.23</td>\n",
       "      <td>0.73</td>\n",
       "      <td>1.30</td>\n",
       "      <td>2.62</td>\n",
       "      <td>1.51</td>\n",
       "    </tr>\n",
       "    <tr>\n",
       "      <th>Mean f</th>\n",
       "      <td>2.45</td>\n",
       "      <td>4.76</td>\n",
       "      <td>1.74</td>\n",
       "      <td>0.70</td>\n",
       "      <td>0.76</td>\n",
       "      <td>0.87</td>\n",
       "      <td>0.70</td>\n",
       "      <td>0.87</td>\n",
       "      <td>0.69</td>\n",
       "      <td>0.76</td>\n",
       "      <td>0.66</td>\n",
       "      <td>2.58</td>\n",
       "      <td>0.99</td>\n",
       "      <td>0.53</td>\n",
       "      <td>2.58</td>\n",
       "      <td>0.94</td>\n",
       "      <td>0.10</td>\n",
       "      <td>0.70</td>\n",
       "      <td>3.26</td>\n",
       "      <td>0.79</td>\n",
       "    </tr>\n",
       "    <tr>\n",
       "      <th>Std t</th>\n",
       "      <td>1.33</td>\n",
       "      <td>1.58</td>\n",
       "      <td>0.71</td>\n",
       "      <td>0.86</td>\n",
       "      <td>0.93</td>\n",
       "      <td>0.32</td>\n",
       "      <td>0.76</td>\n",
       "      <td>0.66</td>\n",
       "      <td>0.72</td>\n",
       "      <td>0.33</td>\n",
       "      <td>0.29</td>\n",
       "      <td>1.26</td>\n",
       "      <td>0.42</td>\n",
       "      <td>1.08</td>\n",
       "      <td>1.27</td>\n",
       "      <td>0.46</td>\n",
       "      <td>0.94</td>\n",
       "      <td>1.29</td>\n",
       "      <td>2.78</td>\n",
       "      <td>1.37</td>\n",
       "    </tr>\n",
       "    <tr>\n",
       "      <th>Std f</th>\n",
       "      <td>1.64</td>\n",
       "      <td>3.42</td>\n",
       "      <td>2.11</td>\n",
       "      <td>1.03</td>\n",
       "      <td>0.86</td>\n",
       "      <td>1.05</td>\n",
       "      <td>0.85</td>\n",
       "      <td>1.04</td>\n",
       "      <td>0.85</td>\n",
       "      <td>0.96</td>\n",
       "      <td>0.83</td>\n",
       "      <td>2.50</td>\n",
       "      <td>1.06</td>\n",
       "      <td>0.76</td>\n",
       "      <td>2.52</td>\n",
       "      <td>0.96</td>\n",
       "      <td>0.40</td>\n",
       "      <td>0.86</td>\n",
       "      <td>2.30</td>\n",
       "      <td>1.10</td>\n",
       "    </tr>\n",
       "  </tbody>\n",
       "</table>\n",
       "</div>"
      ],
      "text/plain": [
       "          AC    TT   TTT   CAC   ACT   AGG   GCA   CCT   TGC   GGA   GCT  \\\n",
       "Mean t  4.53  1.45  0.20  1.77  1.91  0.10  1.51  1.31  1.39  0.11  0.08   \n",
       "Mean f  2.45  4.76  1.74  0.70  0.76  0.87  0.70  0.87  0.69  0.76  0.66   \n",
       "Std t   1.33  1.58  0.71  0.86  0.93  0.32  0.76  0.66  0.72  0.33  0.29   \n",
       "Std f   1.64  3.42  2.11  1.03  0.86  1.05  0.85  1.04  0.85  0.96  0.83   \n",
       "\n",
       "          CC   TTC   GTA    GG   TCA   GCG   AAC    TA   CTC  \n",
       "Mean t  3.55  0.18  0.91  1.34  0.23  0.73  1.30  2.62  1.51  \n",
       "Mean f  2.58  0.99  0.53  2.58  0.94  0.10  0.70  3.26  0.79  \n",
       "Std t   1.26  0.42  1.08  1.27  0.46  0.94  1.29  2.78  1.37  \n",
       "Std f   2.50  1.06  0.76  2.52  0.96  0.40  0.86  2.30  1.10  "
      ]
     },
     "execution_count": 32,
     "metadata": {},
     "output_type": "execute_result"
    }
   ],
   "source": [
    "pd.DataFrame(\n",
    "    columns=x_all.columns, data=[\n",
    "        x_all[y_all==1].mean(),\n",
    "        x_all[y_all==0].mean(),\n",
    "        x_all[y_all==1].std(),\n",
    "        x_all[y_all==0].std()\n",
    "    ],\n",
    "    index=['Mean t', 'Mean f', 'Std t', 'Std f']\n",
    ").round(2)[list(filter(bool, map(lambda x: x[0] in pairs+triplets and x[0] or None, top_features)))[:20]]"
   ]
  },
  {
   "cell_type": "code",
   "execution_count": null,
   "metadata": {},
   "outputs": [],
   "source": []
  },
  {
   "cell_type": "code",
   "execution_count": null,
   "metadata": {},
   "outputs": [],
   "source": []
  }
 ],
 "metadata": {
  "kernelspec": {
   "display_name": "Python 3",
   "language": "python",
   "name": "python3"
  },
  "language_info": {
   "codemirror_mode": {
    "name": "ipython",
    "version": 3
   },
   "file_extension": ".py",
   "mimetype": "text/x-python",
   "name": "python",
   "nbconvert_exporter": "python",
   "pygments_lexer": "ipython3",
   "version": "3.5.2"
  }
 },
 "nbformat": 4,
 "nbformat_minor": 2
}
