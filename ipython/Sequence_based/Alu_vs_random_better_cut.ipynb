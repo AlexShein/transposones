{
 "cells": [
  {
   "cell_type": "code",
   "execution_count": 1,
   "metadata": {},
   "outputs": [],
   "source": [
    "#import xgboost\n",
    "from sklearn.ensemble import RandomForestClassifier\n",
    "from sklearn.model_selection import GridSearchCV, train_test_split\n",
    "from sklearn.metrics import roc_curve, auc, roc_auc_score, accuracy_score, precision_score, recall_score\n",
    "import matplotlib.pyplot as plt\n",
    "import numpy as np\n",
    "from itertools import product\n",
    "from collections import defaultdict\n",
    "import pandas as pd"
   ]
  },
  {
   "cell_type": "code",
   "execution_count": 2,
   "metadata": {},
   "outputs": [],
   "source": [
    "np.random.seed(7)"
   ]
  },
  {
   "cell_type": "code",
   "execution_count": 3,
   "metadata": {},
   "outputs": [],
   "source": [
    "def get_triplets(lst):\n",
    "    \"\"\"\n",
    "    '1234' -> ['123','234']\n",
    "    \"\"\"\n",
    "    res = []\n",
    "    for i in range(len(lst) - 2):\n",
    "        res.append(lst[i]+lst[i + 1]+lst[i + 2])\n",
    "    return res\n",
    "\n",
    "\n",
    "def get_dinucleotides(lst):\n",
    "    \"\"\"\n",
    "    '123' -> ['12', '23']\n",
    "    \"\"\"\n",
    "    res = []\n",
    "    for i in range(len(lst) - 1):\n",
    "        res.append(lst[i]+lst[i + 1])\n",
    "    return res"
   ]
  },
  {
   "cell_type": "code",
   "execution_count": 4,
   "metadata": {},
   "outputs": [],
   "source": [
    "#True: Last bases of Alus\n",
    "with open('/Users/alexandershein/Code/study/CourseProject/transposones/sequences/Alu_All_50_bs_2.txt','r') as f:\n",
    "    dt = np.unique(list(map(lambda x: x.strip(),f.readlines())))"
   ]
  },
  {
   "cell_type": "code",
   "execution_count": 5,
   "metadata": {},
   "outputs": [],
   "source": [
    "#False: Random genome sequences\n",
    "with open('/Users/alexandershein/Code/study/CourseProject/transposones/sequences/random_nt_seq.txt','r') as f:\n",
    "    df = np.unique(list(map(lambda x: x.strip(),f.readlines())))\n"
   ]
  },
  {
   "cell_type": "code",
   "execution_count": 6,
   "metadata": {},
   "outputs": [
    {
     "data": {
      "text/plain": [
       "(5017, 19999)"
      ]
     },
     "execution_count": 6,
     "metadata": {},
     "output_type": "execute_result"
    }
   ],
   "source": [
    "len(dt), len(df)"
   ]
  },
  {
   "cell_type": "code",
   "execution_count": 7,
   "metadata": {},
   "outputs": [],
   "source": [
    "# Balancing alternative\n",
    "# d = df if len(df) > len(dt) else dt\n",
    "p = len(df)/len(dt); m = min(p,1/p)\n",
    "np.random.seed(7)\n",
    "df = np.random.choice(df,round(len(df)*m), replace=False)\n",
    "dt = np.random.choice(dt, len(dt), replace=False)"
   ]
  },
  {
   "cell_type": "code",
   "execution_count": 8,
   "metadata": {},
   "outputs": [
    {
     "data": {
      "text/plain": [
       "(5017, 5017)"
      ]
     },
     "execution_count": 8,
     "metadata": {},
     "output_type": "execute_result"
    }
   ],
   "source": [
    "len(dt), len(df)"
   ]
  },
  {
   "cell_type": "code",
   "execution_count": 9,
   "metadata": {},
   "outputs": [],
   "source": [
    "alph = ['A','C','G','T']\n",
    "alph_dict = {'A':1,'C':2,'G':3,'T':4}\n",
    "pairs = [''.join(i) for i in product(alph, repeat=2)]\n",
    "triplets = [''.join(i) for i in product(alph, repeat=3)]"
   ]
  },
  {
   "cell_type": "code",
   "execution_count": 10,
   "metadata": {},
   "outputs": [],
   "source": [
    "x_t, y_t = [], []\n",
    "for line in dt:\n",
    "    row = {}\n",
    "    for di_n in get_dinucleotides(line)+get_triplets(line):\n",
    "        row[di_n]=row.get(di_n,0)+1\n",
    "    for pos in range(len(line)):\n",
    "        row[f'P{pos}']=alph_dict[line[pos]]\n",
    "    y_t.append(1)\n",
    "    x_t.append(row)"
   ]
  },
  {
   "cell_type": "code",
   "execution_count": 11,
   "metadata": {},
   "outputs": [],
   "source": [
    "x_f, y_f = [], []\n",
    "for line in df:\n",
    "    row = {}\n",
    "    for di_n in get_dinucleotides(line)+get_triplets(line):\n",
    "        row[di_n]=row.get(di_n,0)+1\n",
    "    for pos in range(len(line)):\n",
    "        row[f'P{pos}']=alph_dict[line[pos]]\n",
    "    y_f.append(0)\n",
    "    x_f.append(row)"
   ]
  },
  {
   "cell_type": "code",
   "execution_count": 12,
   "metadata": {},
   "outputs": [],
   "source": [
    "x_all = pd.DataFrame(x_t + x_f).fillna(0)\n",
    "y_all = np.array(y_t + y_f)"
   ]
  },
  {
   "cell_type": "code",
   "execution_count": 13,
   "metadata": {},
   "outputs": [],
   "source": [
    "x_train, x_test, y_train, y_test = train_test_split(x_all, y_all, random_state=7, test_size=0.3)"
   ]
  },
  {
   "cell_type": "code",
   "execution_count": 14,
   "metadata": {},
   "outputs": [
    {
     "data": {
      "text/plain": [
       "(0.49935924818453653, 0.5014945200929923)"
      ]
     },
     "execution_count": 14,
     "metadata": {},
     "output_type": "execute_result"
    }
   ],
   "source": [
    "np.mean(y_train), np.mean(y_test)"
   ]
  },
  {
   "cell_type": "code",
   "execution_count": 15,
   "metadata": {},
   "outputs": [],
   "source": [
    "#tr = xgboost.XGBClassifier(max_depth=5,n_estimators=100,random_state=7)\n",
    "#params = {\"max_depth\":[5,8,11,15,20], \"n_estimators\":[100,1000,2000]}"
   ]
  },
  {
   "cell_type": "code",
   "execution_count": 16,
   "metadata": {},
   "outputs": [],
   "source": [
    "tr = RandomForestClassifier(max_depth=5,n_estimators=100,random_state=7)\n",
    "params = {\"max_depth\":[5,8,11,15,20], \"n_estimators\":[100,1000,2000]}"
   ]
  },
  {
   "cell_type": "code",
   "execution_count": 17,
   "metadata": {},
   "outputs": [],
   "source": [
    "gr = GridSearchCV(tr,param_grid=params,n_jobs=6,cv=5,)"
   ]
  },
  {
   "cell_type": "code",
   "execution_count": 18,
   "metadata": {},
   "outputs": [
    {
     "data": {
      "text/plain": [
       "GridSearchCV(cv=5, error_score='raise',\n",
       "       estimator=RandomForestClassifier(bootstrap=True, class_weight=None, criterion='gini',\n",
       "            max_depth=5, max_features='auto', max_leaf_nodes=None,\n",
       "            min_impurity_decrease=0.0, min_impurity_split=None,\n",
       "            min_samples_leaf=1, min_samples_split=2,\n",
       "            min_weight_fraction_leaf=0.0, n_estimators=100, n_jobs=1,\n",
       "            oob_score=False, random_state=7, verbose=0, warm_start=False),\n",
       "       fit_params=None, iid=True, n_jobs=6,\n",
       "       param_grid={'max_depth': [5, 8, 11, 15, 20], 'n_estimators': [100, 1000, 2000]},\n",
       "       pre_dispatch='2*n_jobs', refit=True, return_train_score='warn',\n",
       "       scoring=None, verbose=0)"
      ]
     },
     "execution_count": 18,
     "metadata": {},
     "output_type": "execute_result"
    }
   ],
   "source": [
    "gr.fit(x_train,y_train)"
   ]
  },
  {
   "cell_type": "code",
   "execution_count": 19,
   "metadata": {},
   "outputs": [
    {
     "data": {
      "text/plain": [
       "(0.9964402676918696, {'max_depth': 11, 'n_estimators': 1000})"
      ]
     },
     "execution_count": 19,
     "metadata": {},
     "output_type": "execute_result"
    }
   ],
   "source": [
    "gr.best_score_, gr.best_params_"
   ]
  },
  {
   "cell_type": "code",
   "execution_count": 20,
   "metadata": {},
   "outputs": [],
   "source": [
    "y_pred = gr.best_estimator_.predict(x_test)"
   ]
  },
  {
   "cell_type": "code",
   "execution_count": 21,
   "metadata": {},
   "outputs": [
    {
     "data": {
      "text/plain": [
       "0.99767616291126"
      ]
     },
     "execution_count": 21,
     "metadata": {},
     "output_type": "execute_result"
    }
   ],
   "source": [
    "roc_auc_score(y_test,y_pred)"
   ]
  },
  {
   "cell_type": "code",
   "execution_count": 22,
   "metadata": {},
   "outputs": [],
   "source": [
    "fpr, tpr, _ = roc_curve(y_test,gr.best_estimator_.predict_proba(x_test)[:,1])"
   ]
  },
  {
   "cell_type": "code",
   "execution_count": 23,
   "metadata": {},
   "outputs": [
    {
     "data": {
      "image/png": "[encoded data removed]",
      "text/plain": [
       "<Figure size 432x288 with 1 Axes>"
      ]
     },
     "metadata": {},
     "output_type": "display_data"
    }
   ],
   "source": [
    "plt.plot(fpr,tpr);"
   ]
  },
  {
   "cell_type": "code",
   "execution_count": 24,
   "metadata": {},
   "outputs": [
    {
     "data": {
      "text/plain": [
       "0.9999466139571411"
      ]
     },
     "execution_count": 24,
     "metadata": {},
     "output_type": "execute_result"
    }
   ],
   "source": [
    "auc(fpr,tpr)"
   ]
  },
  {
   "cell_type": "code",
   "execution_count": 25,
   "metadata": {},
   "outputs": [
    {
     "data": {
      "text/plain": [
       "(0.9976751909664563, 0.9980119284294234, 0.9973509933774835)"
      ]
     },
     "execution_count": 25,
     "metadata": {},
     "output_type": "execute_result"
    }
   ],
   "source": [
    "accuracy_score(y_test,y_pred), precision_score(y_test,y_pred), recall_score(y_test,y_pred)"
   ]
  },
  {
   "cell_type": "code",
   "execution_count": 47,
   "metadata": {},
   "outputs": [
    {
     "data": {
      "text/plain": [
       "[('CTC', 0.10468749611225996),\n",
       " ('TT', 0.0901874456246408),\n",
       " ('ACT', 0.06820996622505929),\n",
       " ('TA', 0.06809115315677902),\n",
       " ('GCG', 0.05142353639966344),\n",
       " ('CG', 0.03552223834689339),\n",
       " ('TTT', 0.03535384500669685),\n",
       " ('AGA', 0.03459106538604727),\n",
       " ('CGA', 0.029378460572030408),\n",
       " ('TTA', 0.027692364711967673),\n",
       " ('CTT', 0.026724835297351722),\n",
       " ('P38', 0.026101018497244135),\n",
       " ('GC', 0.02342582561598461),\n",
       " ('TC', 0.02067520695395388),\n",
       " ('GAC', 0.018794150409938433),\n",
       " ('AT', 0.017366737661729942),\n",
       " ('P40', 0.017164811253708334),\n",
       " ('P48', 0.015350248225857852),\n",
       " ('GGG', 0.014946909573650071),\n",
       " ('P32', 0.01330949916436087),\n",
       " ('CCA', 0.012971609249349982),\n",
       " ('GCC', 0.012950911109069532),\n",
       " ('TTC', 0.011496762479021731),\n",
       " ('TAA', 0.009959334080444653),\n",
       " ('CAC', 0.009349885469734706),\n",
       " ('AA', 0.00864586626076358),\n",
       " ('AAA', 0.008532950473523898),\n",
       " ('TCC', 0.007793346882734612),\n",
       " ('AGG', 0.007312786204998085),\n",
       " ('P34', 0.007234805664352757),\n",
       " ('TAT', 0.007025253768197661),\n",
       " ('P46', 0.006875851189995488),\n",
       " ('CT', 0.006557366519837316),\n",
       " ('CC', 0.006143184246499627),\n",
       " ('AAT', 0.005828887065229253),\n",
       " ('TCT', 0.005599265140515978),\n",
       " ('GTT', 0.00545700177211878),\n",
       " ('AGC', 0.0053337222336688325),\n",
       " ('AC', 0.00502031414875322),\n",
       " ('GA', 0.004916296586332155),\n",
       " ('GCT', 0.00484838413394101),\n",
       " ('GGA', 0.004794880734632537),\n",
       " ('GG', 0.00419281848893746),\n",
       " ('P42', 0.0040818469636010515),\n",
       " ('P49', 0.0039091403763299795),\n",
       " ('CTG', 0.0036395065339475596),\n",
       " ('GAG', 0.003450324387261238),\n",
       " ('AG', 0.002928883779168404),\n",
       " ('CCC', 0.0029146568407853023),\n",
       " ('TGG', 0.002768638994472443),\n",
       " ('P47', 0.002595204886991161),\n",
       " ('CGC', 0.0025502222504875734),\n",
       " ('CCT', 0.0025145355547348714),\n",
       " ('GAA', 0.002489102265666541),\n",
       " ('P43', 0.0023647545196942782),\n",
       " ('P30', 0.002359377552705911),\n",
       " ('TCA', 0.002285023477918912),\n",
       " ('GCA', 0.0021648998915770484),\n",
       " ('ATG', 0.002145925516150607),\n",
       " ('CCG', 0.001892355502106259),\n",
       " ('P39', 0.0018711841558374787),\n",
       " ('CGT', 0.0015953800097464848),\n",
       " ('P31', 0.0015306598373379763),\n",
       " ('CTA', 0.0014364130578625911),\n",
       " ('CA', 0.0013687430251601179),\n",
       " ('P41', 0.001338385695344946),\n",
       " ('TG', 0.0011584974235115302),\n",
       " ('P33', 0.0010831623632525918),\n",
       " ('ACA', 0.0009731002989692853),\n",
       " ('TAC', 0.0009633553903285797),\n",
       " ('GT', 0.0009547369698253376),\n",
       " ('P24', 0.0008957224763774331),\n",
       " ('GTA', 0.0008819210629556574),\n",
       " ('P25', 0.0008707147588137476),\n",
       " ('P26', 0.0008477709764872031),\n",
       " ('P37', 0.0008245665626252442),\n",
       " ('CAG', 0.0007993316638745866),\n",
       " ('P35', 0.000783559075798836),\n",
       " ('CAA', 0.0007544438190374394),\n",
       " ('P9', 0.0007210676293168555),\n",
       " ('P8', 0.0007111937256626385),\n",
       " ('TGC', 0.0006914729141040513),\n",
       " ('GTC', 0.0006880453919840901),\n",
       " ('ATA', 0.0006859985091440839),\n",
       " ('AAG', 0.0006749817333380623),\n",
       " ('TAG', 0.0006360376646207743),\n",
       " ('P15', 0.0006327819754915901),\n",
       " ('P36', 0.000625327380729111),\n",
       " ('P18', 0.0005850222447334944),\n",
       " ('P3', 0.0005745576586310847),\n",
       " ('AAC', 0.000573636847895271),\n",
       " ('P19', 0.0005521683334513754),\n",
       " ('P45', 0.0005510896615883907),\n",
       " ('ACC', 0.0005489957895732435),\n",
       " ('P44', 0.000544388896190773),\n",
       " ('P29', 0.000544081521248038),\n",
       " ('TTG', 0.0005294093770218928),\n",
       " ('P27', 0.0005251526703857136),\n",
       " ('GAT', 0.0005188873134499178),\n",
       " ('P2', 0.0005161523558035307),\n",
       " ('P17', 0.0005131928505436882),\n",
       " ('P10', 0.0004943343130296453),\n",
       " ('P23', 0.0004888988924190102),\n",
       " ('TGA', 0.0004809716671523599),\n",
       " ('P22', 0.00047362057339177813),\n",
       " ('ATT', 0.00046902224434665053),\n",
       " ('P0', 0.0004674081352338907),\n",
       " ('P1', 0.0004615746239663773),\n",
       " ('P12', 0.0004550156163049033),\n",
       " ('P13', 0.00044939321718101517),\n",
       " ('GGC', 0.00044784059649207835),\n",
       " ('P11', 0.00044635514412264395),\n",
       " ('P14', 0.0004393357268160119),\n",
       " ('P20', 0.00043617398815481593),\n",
       " ('P7', 0.0004107614978246805),\n",
       " ('CAT', 0.0004092698831166826),\n",
       " ('P21', 0.0003879867698032559),\n",
       " ('P28', 0.00038192283967483095),\n",
       " ('CGG', 0.0003566504105024943),\n",
       " ('P16', 0.0003445262161263329),\n",
       " ('TGT', 0.0003410404293133989),\n",
       " ('GTG', 0.00030327708399283197),\n",
       " ('P4', 0.0002992003307327343),\n",
       " ('P5', 0.0002962566112593321),\n",
       " ('GGT', 0.00028338176154406086),\n",
       " ('TCG', 0.0002787843142615636),\n",
       " ('ATC', 0.00026514607516016467),\n",
       " ('P6', 0.000254017723087184),\n",
       " ('AGT', 0.000244771243495478),\n",
       " ('ACG', 0.00016507361136902692)]"
      ]
     },
     "execution_count": 47,
     "metadata": {},
     "output_type": "execute_result"
    }
   ],
   "source": [
    "top_features = list(sorted(zip(x_train.columns, gr.best_estimator_.feature_importances_), key=lambda x: x[1], reverse=True))\n",
    "top_features"
   ]
  },
  {
   "cell_type": "code",
   "execution_count": 27,
   "metadata": {},
   "outputs": [
    {
     "data": {
      "text/plain": [
       "130"
      ]
     },
     "execution_count": 27,
     "metadata": {},
     "output_type": "execute_result"
    }
   ],
   "source": [
    "len(gr.best_estimator_.feature_importances_)"
   ]
  },
  {
   "cell_type": "code",
   "execution_count": 28,
   "metadata": {},
   "outputs": [
    {
     "data": {
      "text/plain": [
       "130"
      ]
     },
     "execution_count": 28,
     "metadata": {},
     "output_type": "execute_result"
    }
   ],
   "source": [
    "len(x_train.columns)"
   ]
  },
  {
   "cell_type": "code",
   "execution_count": 29,
   "metadata": {},
   "outputs": [
    {
     "data": {
      "text/plain": [
       "{'bootstrap': True,\n",
       " 'class_weight': None,\n",
       " 'criterion': 'gini',\n",
       " 'max_depth': 11,\n",
       " 'max_features': 'auto',\n",
       " 'max_leaf_nodes': None,\n",
       " 'min_impurity_decrease': 0.0,\n",
       " 'min_impurity_split': None,\n",
       " 'min_samples_leaf': 1,\n",
       " 'min_samples_split': 2,\n",
       " 'min_weight_fraction_leaf': 0.0,\n",
       " 'n_estimators': 1000,\n",
       " 'n_jobs': 1,\n",
       " 'oob_score': False,\n",
       " 'random_state': 7,\n",
       " 'verbose': 0,\n",
       " 'warm_start': False}"
      ]
     },
     "execution_count": 29,
     "metadata": {},
     "output_type": "execute_result"
    }
   ],
   "source": [
    "gr.best_estimator_.get_params()"
   ]
  },
  {
   "cell_type": "code",
   "execution_count": 34,
   "metadata": {},
   "outputs": [
    {
     "data": {
      "text/html": [
       "<div>\n",
       "<style scoped>\n",
       "    .dataframe tbody tr th:only-of-type {\n",
       "        vertical-align: middle;\n",
       "    }\n",
       "\n",
       "    .dataframe tbody tr th {\n",
       "        vertical-align: top;\n",
       "    }\n",
       "\n",
       "    .dataframe thead th {\n",
       "        text-align: right;\n",
       "    }\n",
       "</style>\n",
       "<table border=\"1\" class=\"dataframe\">\n",
       "  <thead>\n",
       "    <tr style=\"text-align: right;\">\n",
       "      <th></th>\n",
       "      <th>AA</th>\n",
       "      <th>AC</th>\n",
       "      <th>AG</th>\n",
       "      <th>AT</th>\n",
       "      <th>CA</th>\n",
       "      <th>CC</th>\n",
       "      <th>CG</th>\n",
       "      <th>CT</th>\n",
       "      <th>GA</th>\n",
       "      <th>GC</th>\n",
       "      <th>GG</th>\n",
       "      <th>GT</th>\n",
       "      <th>TA</th>\n",
       "      <th>TC</th>\n",
       "      <th>TG</th>\n",
       "      <th>TT</th>\n",
       "    </tr>\n",
       "  </thead>\n",
       "  <tbody>\n",
       "    <tr>\n",
       "      <th>Mean t</th>\n",
       "      <td>2.4359</td>\n",
       "      <td>3.9113</td>\n",
       "      <td>4.6275</td>\n",
       "      <td>1.3349</td>\n",
       "      <td>4.7206</td>\n",
       "      <td>3.9384</td>\n",
       "      <td>2.6073</td>\n",
       "      <td>4.8051</td>\n",
       "      <td>4.2597</td>\n",
       "      <td>4.5266</td>\n",
       "      <td>2.3243</td>\n",
       "      <td>1.4927</td>\n",
       "      <td>0.2492</td>\n",
       "      <td>4.4443</td>\n",
       "      <td>2.9079</td>\n",
       "      <td>0.4144</td>\n",
       "    </tr>\n",
       "    <tr>\n",
       "      <th>Mean f</th>\n",
       "      <td>4.6879</td>\n",
       "      <td>2.4246</td>\n",
       "      <td>3.5166</td>\n",
       "      <td>3.7534</td>\n",
       "      <td>3.5270</td>\n",
       "      <td>2.5878</td>\n",
       "      <td>0.4495</td>\n",
       "      <td>3.4776</td>\n",
       "      <td>2.9241</td>\n",
       "      <td>2.0734</td>\n",
       "      <td>2.5996</td>\n",
       "      <td>2.4770</td>\n",
       "      <td>3.2621</td>\n",
       "      <td>2.9575</td>\n",
       "      <td>3.5023</td>\n",
       "      <td>4.7797</td>\n",
       "    </tr>\n",
       "    <tr>\n",
       "      <th>Std t</th>\n",
       "      <td>4.8658</td>\n",
       "      <td>1.0851</td>\n",
       "      <td>0.9679</td>\n",
       "      <td>0.9102</td>\n",
       "      <td>1.2823</td>\n",
       "      <td>1.2006</td>\n",
       "      <td>1.4550</td>\n",
       "      <td>1.0033</td>\n",
       "      <td>1.0555</td>\n",
       "      <td>1.2711</td>\n",
       "      <td>0.8393</td>\n",
       "      <td>0.9427</td>\n",
       "      <td>0.6344</td>\n",
       "      <td>0.8141</td>\n",
       "      <td>1.1641</td>\n",
       "      <td>0.6445</td>\n",
       "    </tr>\n",
       "    <tr>\n",
       "      <th>Std f</th>\n",
       "      <td>3.3512</td>\n",
       "      <td>1.6205</td>\n",
       "      <td>2.0335</td>\n",
       "      <td>2.3221</td>\n",
       "      <td>1.8726</td>\n",
       "      <td>2.5217</td>\n",
       "      <td>0.9020</td>\n",
       "      <td>2.0437</td>\n",
       "      <td>1.8870</td>\n",
       "      <td>1.6370</td>\n",
       "      <td>2.5552</td>\n",
       "      <td>1.6673</td>\n",
       "      <td>2.3264</td>\n",
       "      <td>1.9451</td>\n",
       "      <td>1.8757</td>\n",
       "      <td>3.4293</td>\n",
       "    </tr>\n",
       "  </tbody>\n",
       "</table>\n",
       "</div>"
      ],
      "text/plain": [
       "            AA      AC      AG      AT      CA      CC      CG      CT  \\\n",
       "Mean t  2.4359  3.9113  4.6275  1.3349  4.7206  3.9384  2.6073  4.8051   \n",
       "Mean f  4.6879  2.4246  3.5166  3.7534  3.5270  2.5878  0.4495  3.4776   \n",
       "Std t   4.8658  1.0851  0.9679  0.9102  1.2823  1.2006  1.4550  1.0033   \n",
       "Std f   3.3512  1.6205  2.0335  2.3221  1.8726  2.5217  0.9020  2.0437   \n",
       "\n",
       "            GA      GC      GG      GT      TA      TC      TG      TT  \n",
       "Mean t  4.2597  4.5266  2.3243  1.4927  0.2492  4.4443  2.9079  0.4144  \n",
       "Mean f  2.9241  2.0734  2.5996  2.4770  3.2621  2.9575  3.5023  4.7797  \n",
       "Std t   1.0555  1.2711  0.8393  0.9427  0.6344  0.8141  1.1641  0.6445  \n",
       "Std f   1.8870  1.6370  2.5552  1.6673  2.3264  1.9451  1.8757  3.4293  "
      ]
     },
     "execution_count": 34,
     "metadata": {},
     "output_type": "execute_result"
    }
   ],
   "source": [
    "pd.DataFrame(\n",
    "    columns=pairs, data=[\n",
    "        x_all[y_all==1][pairs].mean(),\n",
    "        x_all[y_all==0][pairs].mean(),\n",
    "        x_all[y_all==1][pairs].std(),\n",
    "        x_all[y_all==0][pairs].std()\n",
    "    ],\n",
    "    index=['Mean t', 'Mean f', 'Std t', 'Std f']\n",
    ").round(4)"
   ]
  },
  {
   "cell_type": "code",
   "execution_count": 57,
   "metadata": {},
   "outputs": [
    {
     "data": {
      "text/html": [
       "<div>\n",
       "<style scoped>\n",
       "    .dataframe tbody tr th:only-of-type {\n",
       "        vertical-align: middle;\n",
       "    }\n",
       "\n",
       "    .dataframe tbody tr th {\n",
       "        vertical-align: top;\n",
       "    }\n",
       "\n",
       "    .dataframe thead th {\n",
       "        text-align: right;\n",
       "    }\n",
       "</style>\n",
       "<table border=\"1\" class=\"dataframe\">\n",
       "  <thead>\n",
       "    <tr style=\"text-align: right;\">\n",
       "      <th></th>\n",
       "      <th>AAA</th>\n",
       "      <th>AAC</th>\n",
       "      <th>AAG</th>\n",
       "      <th>AAT</th>\n",
       "      <th>ACA</th>\n",
       "      <th>ACC</th>\n",
       "      <th>ACG</th>\n",
       "      <th>ACT</th>\n",
       "      <th>AGA</th>\n",
       "      <th>AGC</th>\n",
       "      <th>...</th>\n",
       "      <th>TCG</th>\n",
       "      <th>TCT</th>\n",
       "      <th>TGA</th>\n",
       "      <th>TGC</th>\n",
       "      <th>TGG</th>\n",
       "      <th>TGT</th>\n",
       "      <th>TTA</th>\n",
       "      <th>TTC</th>\n",
       "      <th>TTG</th>\n",
       "      <th>TTT</th>\n",
       "    </tr>\n",
       "  </thead>\n",
       "  <tbody>\n",
       "    <tr>\n",
       "      <th>Mean t</th>\n",
       "      <td>1.5</td>\n",
       "      <td>0.4</td>\n",
       "      <td>0.5</td>\n",
       "      <td>0.1</td>\n",
       "      <td>1.1</td>\n",
       "      <td>0.3</td>\n",
       "      <td>0.1</td>\n",
       "      <td>2.5</td>\n",
       "      <td>2.5</td>\n",
       "      <td>1.6</td>\n",
       "      <td>...</td>\n",
       "      <td>0.4</td>\n",
       "      <td>1.2</td>\n",
       "      <td>0.4</td>\n",
       "      <td>1.2</td>\n",
       "      <td>1.0</td>\n",
       "      <td>0.3</td>\n",
       "      <td>0.0</td>\n",
       "      <td>0.1</td>\n",
       "      <td>0.3</td>\n",
       "      <td>0.0</td>\n",
       "    </tr>\n",
       "    <tr>\n",
       "      <th>Mean f</th>\n",
       "      <td>1.7</td>\n",
       "      <td>0.7</td>\n",
       "      <td>1.0</td>\n",
       "      <td>1.2</td>\n",
       "      <td>1.0</td>\n",
       "      <td>0.5</td>\n",
       "      <td>0.1</td>\n",
       "      <td>0.8</td>\n",
       "      <td>1.1</td>\n",
       "      <td>0.7</td>\n",
       "      <td>...</td>\n",
       "      <td>0.1</td>\n",
       "      <td>1.1</td>\n",
       "      <td>0.9</td>\n",
       "      <td>0.7</td>\n",
       "      <td>0.8</td>\n",
       "      <td>1.0</td>\n",
       "      <td>1.0</td>\n",
       "      <td>1.0</td>\n",
       "      <td>0.9</td>\n",
       "      <td>1.8</td>\n",
       "    </tr>\n",
       "    <tr>\n",
       "      <th>Std t</th>\n",
       "      <td>4.2</td>\n",
       "      <td>0.7</td>\n",
       "      <td>0.7</td>\n",
       "      <td>0.6</td>\n",
       "      <td>0.6</td>\n",
       "      <td>0.5</td>\n",
       "      <td>0.3</td>\n",
       "      <td>0.7</td>\n",
       "      <td>0.8</td>\n",
       "      <td>0.7</td>\n",
       "      <td>...</td>\n",
       "      <td>0.5</td>\n",
       "      <td>0.5</td>\n",
       "      <td>0.6</td>\n",
       "      <td>0.7</td>\n",
       "      <td>0.3</td>\n",
       "      <td>0.5</td>\n",
       "      <td>0.1</td>\n",
       "      <td>0.3</td>\n",
       "      <td>0.5</td>\n",
       "      <td>0.2</td>\n",
       "    </tr>\n",
       "    <tr>\n",
       "      <th>Std f</th>\n",
       "      <td>2.1</td>\n",
       "      <td>0.9</td>\n",
       "      <td>1.0</td>\n",
       "      <td>1.2</td>\n",
       "      <td>1.2</td>\n",
       "      <td>0.8</td>\n",
       "      <td>0.3</td>\n",
       "      <td>0.9</td>\n",
       "      <td>1.2</td>\n",
       "      <td>0.8</td>\n",
       "      <td>...</td>\n",
       "      <td>0.3</td>\n",
       "      <td>1.2</td>\n",
       "      <td>0.9</td>\n",
       "      <td>0.9</td>\n",
       "      <td>0.9</td>\n",
       "      <td>1.2</td>\n",
       "      <td>1.1</td>\n",
       "      <td>1.1</td>\n",
       "      <td>0.9</td>\n",
       "      <td>2.1</td>\n",
       "    </tr>\n",
       "  </tbody>\n",
       "</table>\n",
       "<p>4 rows × 64 columns</p>\n",
       "</div>"
      ],
      "text/plain": [
       "        AAA  AAC  AAG  AAT  ACA  ACC  ACG  ACT  AGA  AGC ...   TCG  TCT  TGA  \\\n",
       "Mean t  1.5  0.4  0.5  0.1  1.1  0.3  0.1  2.5  2.5  1.6 ...   0.4  1.2  0.4   \n",
       "Mean f  1.7  0.7  1.0  1.2  1.0  0.5  0.1  0.8  1.1  0.7 ...   0.1  1.1  0.9   \n",
       "Std t   4.2  0.7  0.7  0.6  0.6  0.5  0.3  0.7  0.8  0.7 ...   0.5  0.5  0.6   \n",
       "Std f   2.1  0.9  1.0  1.2  1.2  0.8  0.3  0.9  1.2  0.8 ...   0.3  1.2  0.9   \n",
       "\n",
       "        TGC  TGG  TGT  TTA  TTC  TTG  TTT  \n",
       "Mean t  1.2  1.0  0.3  0.0  0.1  0.3  0.0  \n",
       "Mean f  0.7  0.8  1.0  1.0  1.0  0.9  1.8  \n",
       "Std t   0.7  0.3  0.5  0.1  0.3  0.5  0.2  \n",
       "Std f   0.9  0.9  1.2  1.1  1.1  0.9  2.1  \n",
       "\n",
       "[4 rows x 64 columns]"
      ]
     },
     "execution_count": 57,
     "metadata": {},
     "output_type": "execute_result"
    }
   ],
   "source": [
    "pd.DataFrame(\n",
    "    columns=triplets, data=[\n",
    "        x_all[y_all==1][triplets].mean(),\n",
    "        x_all[y_all==0][triplets].mean(),\n",
    "        x_all[y_all==1][triplets].std(),\n",
    "        x_all[y_all==0][triplets].std()\n",
    "    ],\n",
    "    index=['Mean t', 'Mean f', 'Std t', 'Std f']\n",
    ").round(1)"
   ]
  },
  {
   "cell_type": "code",
   "execution_count": 61,
   "metadata": {},
   "outputs": [
    {
     "data": {
      "text/html": [
       "<div>\n",
       "<style scoped>\n",
       "    .dataframe tbody tr th:only-of-type {\n",
       "        vertical-align: middle;\n",
       "    }\n",
       "\n",
       "    .dataframe tbody tr th {\n",
       "        vertical-align: top;\n",
       "    }\n",
       "\n",
       "    .dataframe thead th {\n",
       "        text-align: right;\n",
       "    }\n",
       "</style>\n",
       "<table border=\"1\" class=\"dataframe\">\n",
       "  <thead>\n",
       "    <tr style=\"text-align: right;\">\n",
       "      <th></th>\n",
       "      <th>CTC</th>\n",
       "      <th>TT</th>\n",
       "      <th>ACT</th>\n",
       "      <th>TA</th>\n",
       "      <th>GCG</th>\n",
       "      <th>CG</th>\n",
       "      <th>TTT</th>\n",
       "      <th>AGA</th>\n",
       "      <th>CGA</th>\n",
       "      <th>TTA</th>\n",
       "      <th>CTT</th>\n",
       "      <th>GC</th>\n",
       "      <th>TC</th>\n",
       "      <th>GAC</th>\n",
       "      <th>AT</th>\n",
       "      <th>GGG</th>\n",
       "      <th>CCA</th>\n",
       "      <th>GCC</th>\n",
       "      <th>TTC</th>\n",
       "      <th>TAA</th>\n",
       "    </tr>\n",
       "  </thead>\n",
       "  <tbody>\n",
       "    <tr>\n",
       "      <th>Mean t</th>\n",
       "      <td>2.68</td>\n",
       "      <td>0.41</td>\n",
       "      <td>2.45</td>\n",
       "      <td>0.25</td>\n",
       "      <td>1.32</td>\n",
       "      <td>2.61</td>\n",
       "      <td>0.02</td>\n",
       "      <td>2.54</td>\n",
       "      <td>1.06</td>\n",
       "      <td>0.01</td>\n",
       "      <td>0.05</td>\n",
       "      <td>4.53</td>\n",
       "      <td>4.44</td>\n",
       "      <td>1.60</td>\n",
       "      <td>1.33</td>\n",
       "      <td>1.03</td>\n",
       "      <td>1.97</td>\n",
       "      <td>1.70</td>\n",
       "      <td>0.09</td>\n",
       "      <td>0.08</td>\n",
       "    </tr>\n",
       "    <tr>\n",
       "      <th>Mean f</th>\n",
       "      <td>0.80</td>\n",
       "      <td>4.78</td>\n",
       "      <td>0.77</td>\n",
       "      <td>3.26</td>\n",
       "      <td>0.10</td>\n",
       "      <td>0.45</td>\n",
       "      <td>1.76</td>\n",
       "      <td>1.08</td>\n",
       "      <td>0.10</td>\n",
       "      <td>1.04</td>\n",
       "      <td>1.03</td>\n",
       "      <td>2.07</td>\n",
       "      <td>2.96</td>\n",
       "      <td>0.47</td>\n",
       "      <td>3.75</td>\n",
       "      <td>0.70</td>\n",
       "      <td>0.84</td>\n",
       "      <td>0.55</td>\n",
       "      <td>1.01</td>\n",
       "      <td>1.03</td>\n",
       "    </tr>\n",
       "    <tr>\n",
       "      <th>Std t</th>\n",
       "      <td>0.61</td>\n",
       "      <td>0.64</td>\n",
       "      <td>0.73</td>\n",
       "      <td>0.63</td>\n",
       "      <td>0.91</td>\n",
       "      <td>1.45</td>\n",
       "      <td>0.16</td>\n",
       "      <td>0.83</td>\n",
       "      <td>0.80</td>\n",
       "      <td>0.12</td>\n",
       "      <td>0.22</td>\n",
       "      <td>1.27</td>\n",
       "      <td>0.81</td>\n",
       "      <td>0.65</td>\n",
       "      <td>0.91</td>\n",
       "      <td>0.51</td>\n",
       "      <td>0.79</td>\n",
       "      <td>0.69</td>\n",
       "      <td>0.30</td>\n",
       "      <td>0.50</td>\n",
       "    </tr>\n",
       "    <tr>\n",
       "      <th>Std f</th>\n",
       "      <td>1.12</td>\n",
       "      <td>3.43</td>\n",
       "      <td>0.85</td>\n",
       "      <td>2.33</td>\n",
       "      <td>0.41</td>\n",
       "      <td>0.90</td>\n",
       "      <td>2.12</td>\n",
       "      <td>1.18</td>\n",
       "      <td>0.34</td>\n",
       "      <td>1.13</td>\n",
       "      <td>1.06</td>\n",
       "      <td>1.64</td>\n",
       "      <td>1.95</td>\n",
       "      <td>0.70</td>\n",
       "      <td>2.32</td>\n",
       "      <td>1.32</td>\n",
       "      <td>0.97</td>\n",
       "      <td>0.82</td>\n",
       "      <td>1.06</td>\n",
       "      <td>1.15</td>\n",
       "    </tr>\n",
       "  </tbody>\n",
       "</table>\n",
       "</div>"
      ],
      "text/plain": [
       "         CTC    TT   ACT    TA   GCG    CG   TTT   AGA   CGA   TTA   CTT  \\\n",
       "Mean t  2.68  0.41  2.45  0.25  1.32  2.61  0.02  2.54  1.06  0.01  0.05   \n",
       "Mean f  0.80  4.78  0.77  3.26  0.10  0.45  1.76  1.08  0.10  1.04  1.03   \n",
       "Std t   0.61  0.64  0.73  0.63  0.91  1.45  0.16  0.83  0.80  0.12  0.22   \n",
       "Std f   1.12  3.43  0.85  2.33  0.41  0.90  2.12  1.18  0.34  1.13  1.06   \n",
       "\n",
       "          GC    TC   GAC    AT   GGG   CCA   GCC   TTC   TAA  \n",
       "Mean t  4.53  4.44  1.60  1.33  1.03  1.97  1.70  0.09  0.08  \n",
       "Mean f  2.07  2.96  0.47  3.75  0.70  0.84  0.55  1.01  1.03  \n",
       "Std t   1.27  0.81  0.65  0.91  0.51  0.79  0.69  0.30  0.50  \n",
       "Std f   1.64  1.95  0.70  2.32  1.32  0.97  0.82  1.06  1.15  "
      ]
     },
     "execution_count": 61,
     "metadata": {},
     "output_type": "execute_result"
    }
   ],
   "source": [
    "pd.DataFrame(\n",
    "    columns=x_all.columns, data=[\n",
    "        x_all[y_all==1].mean(),\n",
    "        x_all[y_all==0].mean(),\n",
    "        x_all[y_all==1].std(),\n",
    "        x_all[y_all==0].std()\n",
    "    ],\n",
    "    index=['Mean t', 'Mean f', 'Std t', 'Std f']\n",
    ").round(2)[list(filter(bool, map(lambda x: x[0] in pairs+triplets and x[0] or None, top_features)))[:20]]"
   ]
  },
  {
   "cell_type": "code",
   "execution_count": null,
   "metadata": {},
   "outputs": [],
   "source": []
  },
  {
   "cell_type": "code",
   "execution_count": null,
   "metadata": {},
   "outputs": [],
   "source": []
  }
 ],
 "metadata": {
  "kernelspec": {
   "display_name": "Python 3",
   "language": "python",
   "name": "python3"
  },
  "language_info": {
   "codemirror_mode": {
    "name": "ipython",
    "version": 3
   },
   "file_extension": ".py",
   "mimetype": "text/x-python",
   "name": "python",
   "nbconvert_exporter": "python",
   "pygments_lexer": "ipython3",
   "version": "3.6.6"
  }
 },
 "nbformat": 4,
 "nbformat_minor": 2
}
