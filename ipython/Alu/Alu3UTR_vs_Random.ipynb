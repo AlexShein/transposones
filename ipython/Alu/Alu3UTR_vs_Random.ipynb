{
 "cells": [
  {
   "cell_type": "code",
   "execution_count": 1,
   "metadata": {},
   "outputs": [],
   "source": [
    "from sklearn.ensemble import RandomForestClassifier\n",
    "from sklearn.model_selection import KFold, train_test_split\n",
    "from sklearn.metrics import roc_curve, auc, accuracy_score, precision_score, recall_score, precision_recall_curve, average_precision_score\n",
    "\n",
    "import numpy as np\n",
    "import pandas as pd\n",
    "\n",
    "import matplotlib.pyplot as plt\n",
    "import seaborn as sns\n",
    "sns.set()"
   ]
  },
  {
   "cell_type": "code",
   "execution_count": 52,
   "metadata": {},
   "outputs": [],
   "source": [
    "from pylab import rcParams\n",
    "rcParams['figure.figsize'] = 12, 8"
   ]
  },
  {
   "cell_type": "code",
   "execution_count": 3,
   "metadata": {},
   "outputs": [],
   "source": [
    "from link.src.py_scripts.process_pals import begin_processing"
   ]
  },
  {
   "cell_type": "code",
   "execution_count": 4,
   "metadata": {},
   "outputs": [],
   "source": [
    "random_seed = 17"
   ]
  },
  {
   "cell_type": "markdown",
   "metadata": {},
   "source": [
    "# Data preparation"
   ]
  },
  {
   "cell_type": "code",
   "execution_count": 9,
   "metadata": {},
   "outputs": [],
   "source": [
    "# True positive data\n",
    "# AluS\n",
    "PATH = '../../data/Alu/AluS/S10-20_L0-8_M5/'\n",
    "LINES = 'last'\n",
    "OMIT = ''\n",
    "OUTPUT_FILE = 'AluS3UTR.csv'\n",
    "N_LINES = 0"
   ]
  },
  {
   "cell_type": "code",
   "execution_count": 10,
   "metadata": {},
   "outputs": [
    {
     "name": "stderr",
     "output_type": "stream",
     "text": [
      "2018-11-27 13:32:24,833 - process_pals.py - INFO - Got 722 files\n",
      "2018-11-27 13:32:25,035 - process_pals.py - INFO - Got 722 lines\n",
      "2018-11-27 13:32:25,036 - process_pals.py - INFO - Processing with chunk_size = 91. Starting 8 workers\n",
      "2018-11-27 13:32:25,071 - link.src.py_scripts.process_line-28057 - INFO - Started new worker\n",
      "2018-11-27 13:32:25,071 - link.src.py_scripts.process_line-28056 - INFO - Started new worker\n",
      "2018-11-27 13:32:25,071 - link.src.py_scripts.process_line-28055 - INFO - Started new worker\n",
      "2018-11-27 13:32:25,072 - link.src.py_scripts.process_line-28062 - INFO - Started new worker\n",
      "2018-11-27 13:32:25,071 - link.src.py_scripts.process_line-28058 - INFO - Started new worker\n",
      "2018-11-27 13:32:25,072 - link.src.py_scripts.process_line-28061 - INFO - Started new worker\n",
      "2018-11-27 13:32:25,071 - link.src.py_scripts.process_line-28059 - INFO - Started new worker\n",
      "2018-11-27 13:32:25,071 - link.src.py_scripts.process_line-28060 - INFO - Started new worker\n",
      "2018-11-27 13:32:27,087 - link.src.py_scripts.process_line-28062 - INFO - Job finished, execution time 1.99 seconds\n",
      "2018-11-27 13:32:27,227 - link.src.py_scripts.process_line-28058 - INFO - Job finished, execution time 2.15 seconds\n",
      "2018-11-27 13:32:27,239 - link.src.py_scripts.process_line-28059 - INFO - Job finished, execution time 2.14 seconds\n",
      "2018-11-27 13:32:27,250 - link.src.py_scripts.process_line-28057 - INFO - Job finished, execution time 2.17 seconds\n",
      "2018-11-27 13:32:27,254 - link.src.py_scripts.process_line-28061 - INFO - Job finished, execution time 2.17 seconds\n",
      "2018-11-27 13:32:27,255 - link.src.py_scripts.process_line-28060 - INFO - Job finished, execution time 2.16 seconds\n",
      "2018-11-27 13:32:27,287 - link.src.py_scripts.process_line-28055 - INFO - Job finished, execution time 2.21 seconds\n",
      "2018-11-27 13:32:27,301 - link.src.py_scripts.process_line-28056 - INFO - Job finished, execution time 2.22 seconds\n",
      "2018-11-27 13:32:27,381 - process_pals.py - INFO - Combining results into single dict\n",
      "2018-11-27 13:32:27,382 - process_pals.py - INFO - Creating df\n",
      "2018-11-27 13:32:27,427 - process_pals.py - INFO - Writing df to AluS3UTR.csv\n",
      "2018-11-27 13:32:27,639 - process_pals.py - INFO - Done! Execution time 2.80 seconds\n"
     ]
    }
   ],
   "source": [
    "df_True_AluS = begin_processing(\n",
    "    PATH,\n",
    "    LINES,\n",
    "    OMIT,\n",
    "    output_file=OUTPUT_FILE,\n",
    "    n_lines=N_LINES,\n",
    "    write_to_csv=True,\n",
    ")"
   ]
  },
  {
   "cell_type": "code",
   "execution_count": 11,
   "metadata": {},
   "outputs": [],
   "source": [
    "# True positive data\n",
    "# AluY\n",
    "PATH = '../../data/Alu/AluY/S10-20_L0-8_M5/'\n",
    "LINES = 'last'\n",
    "OMIT = ''\n",
    "OUTPUT_FILE = 'AluY3UTR.csv'\n",
    "N_LINES = 0"
   ]
  },
  {
   "cell_type": "code",
   "execution_count": 12,
   "metadata": {},
   "outputs": [
    {
     "name": "stderr",
     "output_type": "stream",
     "text": [
      "2018-11-27 13:32:35,438 - process_pals.py - INFO - Got 11707 files\n",
      "2018-11-27 13:33:39,792 - process_pals.py - INFO - Got 11707 lines\n",
      "2018-11-27 13:33:39,793 - process_pals.py - INFO - Processing with chunk_size = 1464. Starting 8 workers\n",
      "2018-11-27 13:33:39,831 - link.src.py_scripts.process_line-28126 - INFO - Started new worker\n",
      "2018-11-27 13:33:39,831 - link.src.py_scripts.process_line-28127 - INFO - Started new worker\n",
      "2018-11-27 13:33:39,832 - link.src.py_scripts.process_line-28129 - INFO - Started new worker\n",
      "2018-11-27 13:33:39,832 - link.src.py_scripts.process_line-28130 - INFO - Started new worker\n",
      "2018-11-27 13:33:39,831 - link.src.py_scripts.process_line-28128 - INFO - Started new worker\n",
      "2018-11-27 13:33:39,833 - link.src.py_scripts.process_line-28131 - INFO - Started new worker\n",
      "2018-11-27 13:33:39,834 - link.src.py_scripts.process_line-28132 - INFO - Started new worker\n",
      "2018-11-27 13:33:39,836 - link.src.py_scripts.process_line-28133 - INFO - Started new worker\n",
      "2018-11-27 13:34:14,202 - link.src.py_scripts.process_line-28133 - INFO - Job finished, execution time 34.36 seconds\n",
      "2018-11-27 13:34:14,342 - link.src.py_scripts.process_line-28130 - INFO - Job finished, execution time 34.50 seconds\n",
      "2018-11-27 13:34:14,366 - link.src.py_scripts.process_line-28126 - INFO - Job finished, execution time 34.53 seconds\n",
      "2018-11-27 13:34:14,609 - link.src.py_scripts.process_line-28132 - INFO - Job finished, execution time 34.77 seconds\n",
      "2018-11-27 13:34:14,613 - link.src.py_scripts.process_line-28129 - INFO - Job finished, execution time 34.77 seconds\n",
      "2018-11-27 13:34:14,675 - link.src.py_scripts.process_line-28131 - INFO - Job finished, execution time 34.83 seconds\n",
      "2018-11-27 13:34:15,030 - link.src.py_scripts.process_line-28127 - INFO - Job finished, execution time 35.19 seconds\n",
      "2018-11-27 13:34:15,414 - link.src.py_scripts.process_line-28128 - INFO - Job finished, execution time 35.57 seconds\n",
      "2018-11-27 13:34:15,637 - process_pals.py - INFO - Combining results into single dict\n",
      "2018-11-27 13:34:15,639 - process_pals.py - INFO - Creating df\n",
      "2018-11-27 13:34:16,228 - process_pals.py - INFO - Writing df to AluY3UTR.csv\n",
      "2018-11-27 13:34:18,707 - process_pals.py - INFO - Done! Execution time 103.28 seconds\n"
     ]
    }
   ],
   "source": [
    "df_True_AluY = begin_processing(\n",
    "    PATH,\n",
    "    LINES,\n",
    "    OMIT,\n",
    "    output_file=OUTPUT_FILE,\n",
    "    n_lines=N_LINES,\n",
    "    write_to_csv=True,\n",
    ")"
   ]
  },
  {
   "cell_type": "code",
   "execution_count": 14,
   "metadata": {},
   "outputs": [],
   "source": [
    "df_True = pd.concat([df_True_AluS, df_True_AluY]).reset_index(drop=True)"
   ]
  },
  {
   "cell_type": "code",
   "execution_count": 17,
   "metadata": {},
   "outputs": [],
   "source": [
    "# True negative data\n",
    "PATH = '../../data/shuffle/S10-20_L0-8_M5/'\n",
    "LINES = 'rand'\n",
    "OMIT = ''\n",
    "OUTPUT_FILE = 'Random_non_transposon.csv'\n",
    "N_LINES = df_True.shape[0]"
   ]
  },
  {
   "cell_type": "code",
   "execution_count": 18,
   "metadata": {},
   "outputs": [
    {
     "name": "stderr",
     "output_type": "stream",
     "text": [
      "2018-11-27 13:36:10,717 - process_pals.py - INFO - Got 63870 files\n",
      "2018-11-27 13:43:36,557 - process_pals.py - INFO - Got 63870 lines\n",
      "2018-11-27 13:43:36,558 - process_pals.py - INFO - Processing with chunk_size = 7984. Starting 8 workers\n",
      "2018-11-27 13:43:36,680 - link.src.py_scripts.process_line-28315 - INFO - Started new worker\n",
      "2018-11-27 13:43:36,720 - link.src.py_scripts.process_line-28316 - INFO - Started new worker\n",
      "2018-11-27 13:43:36,771 - link.src.py_scripts.process_line-28317 - INFO - Started new worker\n",
      "2018-11-27 13:43:36,797 - link.src.py_scripts.process_line-28318 - INFO - Started new worker\n",
      "2018-11-27 13:43:36,877 - link.src.py_scripts.process_line-28319 - INFO - Started new worker\n",
      "2018-11-27 13:43:36,940 - link.src.py_scripts.process_line-28320 - INFO - Started new worker\n",
      "2018-11-27 13:43:37,012 - link.src.py_scripts.process_line-28321 - INFO - Started new worker\n",
      "2018-11-27 13:43:37,079 - link.src.py_scripts.process_line-28322 - INFO - Started new worker\n",
      "2018-11-27 13:46:45,178 - link.src.py_scripts.process_line-28317 - INFO - Job finished, execution time 188.40 seconds\n",
      "2018-11-27 13:46:45,408 - link.src.py_scripts.process_line-28321 - INFO - Job finished, execution time 188.39 seconds\n",
      "2018-11-27 13:46:46,037 - link.src.py_scripts.process_line-28318 - INFO - Job finished, execution time 189.23 seconds\n",
      "2018-11-27 13:46:46,517 - link.src.py_scripts.process_line-28322 - INFO - Job finished, execution time 189.42 seconds\n",
      "2018-11-27 13:46:47,368 - link.src.py_scripts.process_line-28320 - INFO - Job finished, execution time 190.42 seconds\n",
      "2018-11-27 13:46:47,682 - link.src.py_scripts.process_line-28315 - INFO - Job finished, execution time 191.25 seconds\n",
      "2018-11-27 13:46:48,527 - link.src.py_scripts.process_line-28316 - INFO - Job finished, execution time 191.80 seconds\n",
      "2018-11-27 13:46:50,183 - link.src.py_scripts.process_line-28319 - INFO - Job finished, execution time 193.30 seconds\n",
      "2018-11-27 13:46:51,034 - process_pals.py - INFO - Combining results into single dict\n",
      "2018-11-27 13:46:51,037 - process_pals.py - INFO - Creating df\n",
      "2018-11-27 13:46:55,245 - process_pals.py - INFO - Writing df to Random_non_transposon.csv\n",
      "2018-11-27 13:47:09,235 - process_pals.py - INFO - Done! Execution time 658.60 seconds\n"
     ]
    }
   ],
   "source": [
    "df_False = begin_processing(\n",
    "    PATH,\n",
    "    LINES,\n",
    "    OMIT,\n",
    "    output_file=OUTPUT_FILE,\n",
    "    n_lines=N_LINES,\n",
    "    write_to_csv=True,\n",
    "\n",
    ")"
   ]
  },
  {
   "cell_type": "markdown",
   "metadata": {},
   "source": [
    "# Data analysis & visualisation"
   ]
  },
  {
   "cell_type": "code",
   "execution_count": 93,
   "metadata": {},
   "outputs": [],
   "source": [
    "if df_True.shape[0] > df_False.shape[0]:\n",
    "    df_True_n = df_True.sample(df_False.shape[0], random_state=random_seed)\n",
    "    df_False_n = df_False\n",
    "else:\n",
    "    df_True_n = df_True\n",
    "    df_False_n = df_False.sample(df_True.shape[0], random_state=random_seed)\n",
    "    \n",
    "X = pd.concat([df_True_n, df_False_n], ignore_index=True)\n",
    "Y = pd.Series(np.append(np.full(df_True_n.shape[0], 1), \n",
    "                        np.full(df_False_n.shape[0], 0)))\n",
    "\n",
    "# Getting rid of unneeded columns\n",
    "X = X[X.columns[np.array(X.columns.map(lambda x: len(x) > 4 and 'GC' not in x), dtype='bool')]]"
   ]
  },
  {
   "cell_type": "code",
   "execution_count": 94,
   "metadata": {},
   "outputs": [],
   "source": [
    "rf = RandomForestClassifier(n_jobs=6, n_estimators=2000)\n",
    "folded_data = KFold(n_splits=5, random_state=random_seed, shuffle=True)"
   ]
  },
  {
   "cell_type": "code",
   "execution_count": 95,
   "metadata": {},
   "outputs": [
    {
     "name": "stderr",
     "output_type": "stream",
     "text": [
      "2018-11-27 15:39:06,714 - matplotlib.axes._base - DEBUG - update_title_pos\n",
      "2018-11-27 15:39:06,798 - matplotlib.axes._base - DEBUG - update_title_pos\n",
      "2018-11-27 15:39:06,819 - matplotlib.axes._base - DEBUG - update_title_pos\n",
      "2018-11-27 15:39:06,832 - matplotlib.axes._base - DEBUG - update_title_pos\n"
     ]
    },
    {
     "data": {
      "image/png": "[encoded data removed]",
      "text/plain": [
       "<Figure size 720x504 with 1 Axes>"
      ]
     },
     "metadata": {
      "needs_background": "light"
     },
     "output_type": "display_data"
    }
   ],
   "source": [
    "tprs = []\n",
    "aucs, acc, rec, prec = [], [], [], []\n",
    "\n",
    "mean_fpr = np.linspace(0, 1, 100)\n",
    "i = 0\n",
    "\n",
    "plt.figure(figsize=(10,7))\n",
    "for k, (train, test) in enumerate(folded_data.split(X, Y)):\n",
    "    probas_ = rf.fit(X.iloc[train], Y.iloc[train]).predict_proba(X.iloc[test])\n",
    "    # Compute ROC curve and area the curve\n",
    "    fpr, tpr, thresholds = roc_curve(Y.iloc[test], probas_[:, 1])\n",
    "    tprs.append(np.interp(mean_fpr, fpr, tpr))\n",
    "    tprs[-1][0] = 0.0\n",
    "    roc_auc = auc(fpr, tpr)\n",
    "    aucs.append(roc_auc)\n",
    "    Y_pred = rf.predict(X.iloc[test])\n",
    "    acc.append(accuracy_score(Y.iloc[test], Y_pred))\n",
    "    prec.append(precision_score(Y.iloc[test], Y_pred))\n",
    "    rec.append(recall_score(Y.iloc[test], Y_pred))\n",
    "    plt.plot(\n",
    "        fpr,\n",
    "        tpr,\n",
    "        lw=1,\n",
    "        alpha=0.3,\n",
    "        label='ROC fold %d (AUC = %0.2f)' % (k, roc_auc)\n",
    "    )\n",
    "\n",
    "plt.plot(\n",
    "    [0, 1],\n",
    "    [0, 1],\n",
    "    linestyle='--',\n",
    "    lw=2,\n",
    "    color='r',\n",
    "    label='Luck',\n",
    "    alpha=.8\n",
    ")\n",
    "fpr, tpr, thresholds = roc_curve(Y.iloc[test], probas_[:, 1])\n",
    "\n",
    "mean_tpr = np.mean(tprs, axis=0)\n",
    "mean_tpr[-1] = 1.0\n",
    "mean_auc = auc(mean_fpr, mean_tpr)\n",
    "std_auc = np.std(aucs)\n",
    "plt.plot(mean_fpr, mean_tpr, color='b',\n",
    "         label=r'Mean ROC (AUC = %0.2f $\\pm$ %0.2f)' % (mean_auc, std_auc),\n",
    "         lw=2, alpha=.8)\n",
    "\n",
    "std_tpr = np.std(tprs, axis=0)\n",
    "tprs_upper = np.minimum(mean_tpr + std_tpr, 1)\n",
    "tprs_lower = np.maximum(mean_tpr - std_tpr, 0)\n",
    "plt.fill_between(\n",
    "    mean_fpr,\n",
    "    tprs_lower,\n",
    "    tprs_upper,\n",
    "    color='grey',\n",
    "    alpha=.2,\n",
    "    label=r'$\\pm$ 1 std. dev.'\n",
    ")\n",
    "\n",
    "plt.xlim([-0.05, 1.05])\n",
    "plt.ylim([-0.05, 1.05])\n",
    "plt.xlabel('False Positive Rate')\n",
    "plt.ylabel('True Positive Rate')\n",
    "plt.title('Receiver operating characteristic for transposon recognition')\n",
    "plt.legend(loc=\"lower right\")\n",
    "plt.show()"
   ]
  },
  {
   "cell_type": "code",
   "execution_count": 96,
   "metadata": {},
   "outputs": [
    {
     "name": "stderr",
     "output_type": "stream",
     "text": [
      "2018-11-27 15:40:12,116 - matplotlib.axes._base - DEBUG - update_title_pos\n",
      "2018-11-27 15:40:12,183 - matplotlib.axes._base - DEBUG - update_title_pos\n",
      "2018-11-27 15:40:12,206 - matplotlib.axes._base - DEBUG - update_title_pos\n",
      "2018-11-27 15:40:12,218 - matplotlib.axes._base - DEBUG - update_title_pos\n"
     ]
    },
    {
     "data": {
      "image/png": "[encoded data removed]",
      "text/plain": [
       "<Figure size 720x504 with 1 Axes>"
      ]
     },
     "metadata": {
      "needs_background": "light"
     },
     "output_type": "display_data"
    }
   ],
   "source": [
    "precisions = []\n",
    "plt.figure(figsize=(10,7))\n",
    "for k, (train, test) in enumerate(folded_data.split(X, Y)):\n",
    "    probas_ = rf.fit(X.iloc[train], Y.iloc[train]).predict_proba(X.iloc[test])\n",
    "    precision, recall, _ = precision_recall_curve(Y.iloc[test], probas_[:, 1])\n",
    "    precisions.append(average_precision_score(Y.iloc[test], probas_[:, 1]))\n",
    "    plt.step(\n",
    "        recall,\n",
    "        precision,\n",
    "        alpha=0.5,\n",
    "        where='post',\n",
    "        label='Precision-recall fold {}'.format(k)\n",
    "    )\n",
    "average_precision = sum(precisions)/len(precisions)\n",
    "plt.xlabel('Recall')\n",
    "plt.ylabel('Precision')\n",
    "plt.ylim([0.0, 1.05])\n",
    "plt.xlim([0.0, 1.05])\n",
    "plt.title('2-class Precision-Recall curve: AP={0:0.2f}'.format(\n",
    "          average_precision))\n",
    "plt.legend(loc=\"lower right\")\n",
    "plt.show()"
   ]
  },
  {
   "cell_type": "markdown",
   "metadata": {},
   "source": [
    "# AUC, Accuracy, Precision & Recall"
   ]
  },
  {
   "cell_type": "code",
   "execution_count": 97,
   "metadata": {},
   "outputs": [
    {
     "data": {
      "text/plain": [
       "(0.9862, 0.957, 0.9652, 0.9482)"
      ]
     },
     "execution_count": 97,
     "metadata": {},
     "output_type": "execute_result"
    }
   ],
   "source": [
    "mr = lambda x: np.round(np.mean(x), 4)\n",
    "mr(aucs), mr(acc), mr(prec), mr(rec)"
   ]
  },
  {
   "cell_type": "markdown",
   "metadata": {},
   "source": [
    "# Feature importance"
   ]
  },
  {
   "cell_type": "code",
   "execution_count": 98,
   "metadata": {},
   "outputs": [
    {
     "name": "stderr",
     "output_type": "stream",
     "text": [
      "2018-11-27 15:40:12,814 - matplotlib.axes._base - DEBUG - update_title_pos\n",
      "2018-11-27 15:40:12,887 - matplotlib.axes._base - DEBUG - update_title_pos\n",
      "2018-11-27 15:40:12,905 - matplotlib.axes._base - DEBUG - update_title_pos\n",
      "2018-11-27 15:40:12,916 - matplotlib.axes._base - DEBUG - update_title_pos\n"
     ]
    },
    {
     "data": {
      "image/png": "[encoded data removed]",
      "text/plain": [
       "<Figure size 864x576 with 1 Axes>"
      ]
     },
     "metadata": {
      "needs_background": "light"
     },
     "output_type": "display_data"
    },
    {
     "data": {
      "text/plain": [
       "<Figure size 720x504 with 0 Axes>"
      ]
     },
     "metadata": {},
     "output_type": "display_data"
    }
   ],
   "source": [
    "N_to_print = 10\n",
    "y_pos = range(N_to_print)\n",
    "fig, ax = plt.subplots()\n",
    "plt.figure(figsize=(10,7))\n",
    "\n",
    "feature_importance = rf.feature_importances_.round(4)\n",
    "feature_importance = zip(X.keys(), feature_importance)\n",
    "feature_importance = np.array(sorted(feature_importance, key=lambda x:x[1], reverse=True))\n",
    "\n",
    "ax.barh(y_pos, feature_importance[:N_to_print, 1].astype('float'), align='center', color='green')\n",
    "ax.set_yticks(np.arange(N_to_print))\n",
    "ax.set_yticklabels(feature_importance[:N_to_print, 0])\n",
    "ax.invert_yaxis()\n",
    "ax.set_xlabel('Importance score')\n",
    "\n",
    "plt.show()"
   ]
  },
  {
   "cell_type": "code",
   "execution_count": 99,
   "metadata": {},
   "outputs": [
    {
     "data": {
      "text/html": [
       "<div>\n",
       "<style scoped>\n",
       "    .dataframe tbody tr th:only-of-type {\n",
       "        vertical-align: middle;\n",
       "    }\n",
       "\n",
       "    .dataframe tbody tr th {\n",
       "        vertical-align: top;\n",
       "    }\n",
       "\n",
       "    .dataframe thead th {\n",
       "        text-align: right;\n",
       "    }\n",
       "</style>\n",
       "<table border=\"1\" class=\"dataframe\">\n",
       "  <thead>\n",
       "    <tr style=\"text-align: right;\">\n",
       "      <th></th>\n",
       "      <th>Feature_name</th>\n",
       "      <th>Feature_importance</th>\n",
       "    </tr>\n",
       "  </thead>\n",
       "  <tbody>\n",
       "    <tr>\n",
       "      <th>0</th>\n",
       "      <td>RS0_Hydrophilicity</td>\n",
       "      <td>0.0552</td>\n",
       "    </tr>\n",
       "    <tr>\n",
       "      <th>1</th>\n",
       "      <td>RS6_Hydrophilicity</td>\n",
       "      <td>0.0460</td>\n",
       "    </tr>\n",
       "    <tr>\n",
       "      <th>2</th>\n",
       "      <td>RS0_Rise</td>\n",
       "      <td>0.0395</td>\n",
       "    </tr>\n",
       "    <tr>\n",
       "      <th>3</th>\n",
       "      <td>LS0_Hydrophilicity</td>\n",
       "      <td>0.0375</td>\n",
       "    </tr>\n",
       "    <tr>\n",
       "      <th>4</th>\n",
       "      <td>RS0_Tilt</td>\n",
       "      <td>0.0316</td>\n",
       "    </tr>\n",
       "    <tr>\n",
       "      <th>5</th>\n",
       "      <td>LS6_Hydrophilicity</td>\n",
       "      <td>0.0265</td>\n",
       "    </tr>\n",
       "    <tr>\n",
       "      <th>6</th>\n",
       "      <td>LS0_Twist</td>\n",
       "      <td>0.0256</td>\n",
       "    </tr>\n",
       "    <tr>\n",
       "      <th>7</th>\n",
       "      <td>RS0_Slide</td>\n",
       "      <td>0.0226</td>\n",
       "    </tr>\n",
       "    <tr>\n",
       "      <th>8</th>\n",
       "      <td>RS0_Free energy</td>\n",
       "      <td>0.0203</td>\n",
       "    </tr>\n",
       "    <tr>\n",
       "      <th>9</th>\n",
       "      <td>LS6_Tilt</td>\n",
       "      <td>0.0175</td>\n",
       "    </tr>\n",
       "  </tbody>\n",
       "</table>\n",
       "</div>"
      ],
      "text/plain": [
       "         Feature_name  Feature_importance\n",
       "0  RS0_Hydrophilicity              0.0552\n",
       "1  RS6_Hydrophilicity              0.0460\n",
       "2            RS0_Rise              0.0395\n",
       "3  LS0_Hydrophilicity              0.0375\n",
       "4            RS0_Tilt              0.0316\n",
       "5  LS6_Hydrophilicity              0.0265\n",
       "6           LS0_Twist              0.0256\n",
       "7           RS0_Slide              0.0226\n",
       "8     RS0_Free energy              0.0203\n",
       "9            LS6_Tilt              0.0175"
      ]
     },
     "execution_count": 99,
     "metadata": {},
     "output_type": "execute_result"
    }
   ],
   "source": [
    "feature_importance = (rf.feature_importances_).round(4)\n",
    "feature_importance = zip(X.keys(), feature_importance)\n",
    "feature_importance = sorted(list(feature_importance), key=lambda x:x[1], reverse=True)\n",
    "pd.DataFrame(feature_importance, columns=['Feature_name', 'Feature_importance']).head(N_to_print)"
   ]
  },
  {
   "cell_type": "markdown",
   "metadata": {},
   "source": [
    "# Further generalization analysis block"
   ]
  },
  {
   "cell_type": "code",
   "execution_count": 2,
   "metadata": {},
   "outputs": [],
   "source": [
    "CSV_FILE_SUBNAME_OBJECTS = \"Alu_vs_Shuffle\" # \"True_vs_False\"\n",
    "CSV_FILE_SUBNAME_TYPE = \"Phys-Chem-Struct\" # \"50b.p._Stats\" or \"Stem-loop_Stats\"\n",
    "CSV_FILE_SUBNAME = \"{0}__{1}.csv\".format(CSV_FILE_SUBNAME_OBJECTS, CSV_FILE_SUBNAME_TYPE)"
   ]
  },
  {
   "cell_type": "code",
   "execution_count": null,
   "metadata": {},
   "outputs": [],
   "source": [
    "pd.DataFrame({\"fpr\": fpr, \"tpr\": tpr}).to_csv(\"AUC__{0}\".format(CSV_FILE_SUBNAME))\n",
    "pd.DataFrame({\"precision\": precision, \"recall\": recall}).to_csv(\"Prec-Recall__{0}\".format(CSV_FILE_SUBNAME))\n",
    "pd.DataFrame(fi).to_csv(\"Feature_importance__{0}.csv\".format(CSV_FILE_SUBNAME))"
   ]
  }
 ],
 "metadata": {
  "kernelspec": {
   "display_name": "Python 3",
   "language": "python",
   "name": "python3"
  },
  "language_info": {
   "codemirror_mode": {
    "name": "ipython",
    "version": 3
   },
   "file_extension": ".py",
   "mimetype": "text/x-python",
   "name": "python",
   "nbconvert_exporter": "python",
   "pygments_lexer": "ipython3",
   "version": "3.6.5"
  }
 },
 "nbformat": 4,
 "nbformat_minor": 2
}
