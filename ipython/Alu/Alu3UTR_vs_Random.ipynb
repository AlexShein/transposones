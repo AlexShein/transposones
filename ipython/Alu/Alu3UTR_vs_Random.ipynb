{
 "cells": [
  {
   "cell_type": "code",
   "execution_count": 1,
   "metadata": {},
   "outputs": [],
   "source": [
    "from sklearn.ensemble import RandomForestClassifier\n",
    "from sklearn.model_selection import KFold, train_test_split\n",
    "from sklearn.metrics import roc_curve, auc, accuracy_score, precision_score, recall_score, precision_recall_curve, average_precision_score\n",
    "\n",
    "import numpy as np\n",
    "import pandas as pd\n",
    "\n",
    "import matplotlib.pyplot as plt\n",
    "import seaborn as sns\n",
    "sns.set()"
   ]
  },
  {
   "cell_type": "code",
   "execution_count": 2,
   "metadata": {},
   "outputs": [],
   "source": [
    "from pylab import rcParams\n",
    "rcParams['figure.figsize'] = 12, 8"
   ]
  },
  {
   "cell_type": "code",
   "execution_count": 3,
   "metadata": {},
   "outputs": [],
   "source": [
    "from link.src.py_scripts.process_pals import begin_processing"
   ]
  },
  {
   "cell_type": "code",
   "execution_count": 4,
   "metadata": {},
   "outputs": [],
   "source": [
    "random_seed = 17"
   ]
  },
  {
   "cell_type": "markdown",
   "metadata": {},
   "source": [
    "# Data preparation"
   ]
  },
  {
   "cell_type": "code",
   "execution_count": 5,
   "metadata": {},
   "outputs": [],
   "source": [
    "# True positive data\n",
    "# AluS\n",
    "PATH = '../../data/Alu/AluS/S10-20_L0-8_M5/'\n",
    "LINES = 'last'\n",
    "OMIT = ''\n",
    "OUTPUT_FILE = 'AluS3UTR.csv'\n",
    "N_LINES = 0"
   ]
  },
  {
   "cell_type": "code",
   "execution_count": 6,
   "metadata": {},
   "outputs": [
    {
     "name": "stderr",
     "output_type": "stream",
     "text": [
      "2018-12-05 16:32:08,344 - process_pals.py - INFO - Got 722 files\n",
      "2018-12-05 16:32:08,547 - process_pals.py - INFO - Got 722 lines\n",
      "2018-12-05 16:32:08,548 - process_pals.py - INFO - Processing with chunk_size = 91. Starting 8 workers\n",
      "2018-12-05 16:32:08,582 - link.src.py_scripts.process_line-3900 - INFO - Started new worker\n",
      "2018-12-05 16:32:08,582 - link.src.py_scripts.process_line-3904 - INFO - Started new worker\n",
      "2018-12-05 16:32:08,582 - link.src.py_scripts.process_line-3905 - INFO - Started new worker\n",
      "2018-12-05 16:32:08,582 - link.src.py_scripts.process_line-3903 - INFO - Started new worker\n",
      "2018-12-05 16:32:08,582 - link.src.py_scripts.process_line-3902 - INFO - Started new worker\n",
      "2018-12-05 16:32:08,582 - link.src.py_scripts.process_line-3906 - INFO - Started new worker\n",
      "2018-12-05 16:32:08,582 - link.src.py_scripts.process_line-3901 - INFO - Started new worker\n",
      "2018-12-05 16:32:08,582 - link.src.py_scripts.process_line-3907 - INFO - Started new worker\n",
      "2018-12-05 16:32:09,608 - link.src.py_scripts.process_line-3907 - INFO - Job finished, execution time 1.11 seconds\n",
      "2018-12-05 16:32:09,644 - link.src.py_scripts.process_line-3901 - INFO - Job finished, execution time 1.59 seconds\n",
      "2018-12-05 16:32:09,662 - link.src.py_scripts.process_line-3906 - INFO - Job finished, execution time 1.76 seconds\n",
      "2018-12-05 16:32:09,668 - link.src.py_scripts.process_line-3905 - INFO - Job finished, execution time 1.75 seconds\n",
      "2018-12-05 16:32:09,670 - link.src.py_scripts.process_line-3903 - INFO - Job finished, execution time 1.85 seconds\n",
      "2018-12-05 16:32:09,675 - link.src.py_scripts.process_line-3902 - INFO - Job finished, execution time 1.90 seconds\n",
      "2018-12-05 16:32:09,678 - link.src.py_scripts.process_line-3900 - INFO - Job finished, execution time 1.94 seconds\n",
      "2018-12-05 16:32:09,678 - link.src.py_scripts.process_line-3904 - INFO - Job finished, execution time 1.93 seconds\n",
      "2018-12-05 16:32:09,794 - process_pals.py - INFO - Combining results into single dict\n",
      "2018-12-05 16:32:09,794 - process_pals.py - INFO - Creating df\n",
      "2018-12-05 16:32:09,828 - process_pals.py - INFO - Writing df to AluS3UTR.csv\n",
      "2018-12-05 16:32:09,937 - process_pals.py - INFO - Done! Execution time 1.59 seconds\n"
     ]
    }
   ],
   "source": [
    "df_True_AluS = begin_processing(\n",
    "    PATH,\n",
    "    LINES,\n",
    "    OMIT,\n",
    "    output_file=OUTPUT_FILE,\n",
    "    n_lines=N_LINES,\n",
    "    write_to_csv=True,\n",
    ")"
   ]
  },
  {
   "cell_type": "code",
   "execution_count": 7,
   "metadata": {},
   "outputs": [],
   "source": [
    "# True positive data\n",
    "# AluY\n",
    "PATH = '../../data/Alu/AluY/S10-20_L0-8_M5/'\n",
    "LINES = 'last'\n",
    "OMIT = ''\n",
    "OUTPUT_FILE = 'AluY3UTR.csv'\n",
    "N_LINES = 0"
   ]
  },
  {
   "cell_type": "code",
   "execution_count": 8,
   "metadata": {},
   "outputs": [
    {
     "name": "stderr",
     "output_type": "stream",
     "text": [
      "2018-12-05 16:32:10,066 - process_pals.py - INFO - Got 11707 files\n",
      "2018-12-05 16:32:15,140 - process_pals.py - INFO - Got 11707 lines\n",
      "2018-12-05 16:32:15,140 - process_pals.py - INFO - Processing with chunk_size = 1464. Starting 8 workers\n",
      "2018-12-05 16:32:15,173 - link.src.py_scripts.process_line-3954 - INFO - Started new worker\n",
      "2018-12-05 16:32:15,173 - link.src.py_scripts.process_line-3955 - INFO - Started new worker\n",
      "2018-12-05 16:32:15,174 - link.src.py_scripts.process_line-3957 - INFO - Started new worker\n",
      "2018-12-05 16:32:15,175 - link.src.py_scripts.process_line-3958 - INFO - Started new worker\n",
      "2018-12-05 16:32:15,174 - link.src.py_scripts.process_line-3956 - INFO - Started new worker\n",
      "2018-12-05 16:32:15,175 - link.src.py_scripts.process_line-3959 - INFO - Started new worker\n",
      "2018-12-05 16:32:15,176 - link.src.py_scripts.process_line-3960 - INFO - Started new worker\n",
      "2018-12-05 16:32:15,184 - link.src.py_scripts.process_line-3961 - INFO - Started new worker\n",
      "2018-12-05 16:32:32,207 - link.src.py_scripts.process_line-3959 - INFO - Job finished, execution time 17.29 seconds\n",
      "2018-12-05 16:32:32,211 - link.src.py_scripts.process_line-3954 - INFO - Job finished, execution time 17.35 seconds\n",
      "2018-12-05 16:32:32,294 - link.src.py_scripts.process_line-3955 - INFO - Job finished, execution time 17.11 seconds\n",
      "2018-12-05 16:32:32,338 - link.src.py_scripts.process_line-3960 - INFO - Job finished, execution time 17.15 seconds\n",
      "2018-12-05 16:32:32,379 - link.src.py_scripts.process_line-3961 - INFO - Job finished, execution time 17.18 seconds\n",
      "2018-12-05 16:32:32,397 - link.src.py_scripts.process_line-3958 - INFO - Job finished, execution time 17.20 seconds\n",
      "2018-12-05 16:32:32,404 - link.src.py_scripts.process_line-3957 - INFO - Job finished, execution time 17.22 seconds\n",
      "2018-12-05 16:32:32,420 - link.src.py_scripts.process_line-3956 - INFO - Job finished, execution time 17.24 seconds\n",
      "2018-12-05 16:32:32,692 - process_pals.py - INFO - Combining results into single dict\n",
      "2018-12-05 16:32:32,693 - process_pals.py - INFO - Creating df\n",
      "2018-12-05 16:32:33,106 - process_pals.py - INFO - Writing df to AluY3UTR.csv\n",
      "2018-12-05 16:32:34,728 - process_pals.py - INFO - Done! Execution time 24.67 seconds\n"
     ]
    }
   ],
   "source": [
    "df_True_AluY = begin_processing(\n",
    "    PATH,\n",
    "    LINES,\n",
    "    OMIT,\n",
    "    output_file=OUTPUT_FILE,\n",
    "    n_lines=N_LINES,\n",
    "    write_to_csv=True,\n",
    ")"
   ]
  },
  {
   "cell_type": "code",
   "execution_count": 9,
   "metadata": {},
   "outputs": [],
   "source": [
    "df_True = pd.concat([df_True_AluS, df_True_AluY]).reset_index(drop=True)"
   ]
  },
  {
   "cell_type": "code",
   "execution_count": 10,
   "metadata": {},
   "outputs": [],
   "source": [
    "# True negative data\n",
    "PATH = '../../data/shuffle/S10-20_L0-8_M5/'\n",
    "LINES = 'rand'\n",
    "OMIT = ''\n",
    "OUTPUT_FILE = 'Random_non_transposon.csv'\n",
    "N_LINES = df_True.shape[0]"
   ]
  },
  {
   "cell_type": "code",
   "execution_count": 11,
   "metadata": {},
   "outputs": [
    {
     "name": "stderr",
     "output_type": "stream",
     "text": [
      "2018-12-05 16:32:35,094 - process_pals.py - INFO - Got 63870 files\n",
      "2018-12-05 16:33:03,234 - process_pals.py - INFO - Got 63870 lines\n",
      "2018-12-05 16:33:03,235 - process_pals.py - INFO - Processing with chunk_size = 7984. Starting 8 workers\n",
      "2018-12-05 16:33:03,342 - link.src.py_scripts.process_line-4008 - INFO - Started new worker\n",
      "2018-12-05 16:33:03,391 - link.src.py_scripts.process_line-4009 - INFO - Started new worker\n",
      "2018-12-05 16:33:03,447 - link.src.py_scripts.process_line-4010 - INFO - Started new worker\n",
      "2018-12-05 16:33:03,483 - link.src.py_scripts.process_line-4011 - INFO - Started new worker\n",
      "2018-12-05 16:33:03,547 - link.src.py_scripts.process_line-4012 - INFO - Started new worker\n",
      "2018-12-05 16:33:03,609 - link.src.py_scripts.process_line-4013 - INFO - Started new worker\n",
      "2018-12-05 16:33:03,680 - link.src.py_scripts.process_line-4014 - INFO - Started new worker\n",
      "2018-12-05 16:33:03,747 - link.src.py_scripts.process_line-4015 - INFO - Started new worker\n",
      "2018-12-05 16:34:37,015 - link.src.py_scripts.process_line-4009 - INFO - Job finished, execution time 93.62 seconds\n",
      "2018-12-05 16:34:37,185 - link.src.py_scripts.process_line-4010 - INFO - Job finished, execution time 93.73 seconds\n",
      "2018-12-05 16:34:37,355 - link.src.py_scripts.process_line-4013 - INFO - Job finished, execution time 93.74 seconds\n",
      "2018-12-05 16:34:37,531 - link.src.py_scripts.process_line-4012 - INFO - Job finished, execution time 93.98 seconds\n",
      "2018-12-05 16:34:37,567 - link.src.py_scripts.process_line-4008 - INFO - Job finished, execution time 94.22 seconds\n",
      "2018-12-05 16:34:37,941 - link.src.py_scripts.process_line-4011 - INFO - Job finished, execution time 94.45 seconds\n",
      "2018-12-05 16:34:38,059 - link.src.py_scripts.process_line-4014 - INFO - Job finished, execution time 94.37 seconds\n",
      "2018-12-05 16:34:38,285 - link.src.py_scripts.process_line-4015 - INFO - Job finished, execution time 94.52 seconds\n",
      "2018-12-05 16:34:39,266 - process_pals.py - INFO - Combining results into single dict\n",
      "2018-12-05 16:34:39,268 - process_pals.py - INFO - Creating df\n",
      "2018-12-05 16:34:42,046 - process_pals.py - INFO - Writing df to Random_non_transposon.csv\n",
      "2018-12-05 16:34:51,095 - process_pals.py - INFO - Done! Execution time 136.77 seconds\n"
     ]
    }
   ],
   "source": [
    "df_False = begin_processing(\n",
    "    PATH,\n",
    "    LINES,\n",
    "    OMIT,\n",
    "    output_file=OUTPUT_FILE,\n",
    "    n_lines=N_LINES,\n",
    "    write_to_csv=True,\n",
    "\n",
    ")"
   ]
  },
  {
   "cell_type": "markdown",
   "metadata": {},
   "source": [
    "# Data analysis & visualisation"
   ]
  },
  {
   "cell_type": "code",
   "execution_count": 12,
   "metadata": {},
   "outputs": [],
   "source": [
    "if df_True.shape[0] > df_False.shape[0]:\n",
    "    df_True_n = df_True.sample(df_False.shape[0], random_state=random_seed)\n",
    "    df_False_n = df_False\n",
    "else:\n",
    "    df_True_n = df_True\n",
    "    df_False_n = df_False.sample(df_True.shape[0], random_state=random_seed)\n",
    "    \n",
    "X = pd.concat([df_True_n, df_False_n], ignore_index=True)\n",
    "Y = pd.Series(np.append(np.full(df_True_n.shape[0], 1), \n",
    "                        np.full(df_False_n.shape[0], 0)))\n",
    "\n",
    "# Getting rid of unneeded columns\n",
    "X = X[X.columns[np.array(X.columns.map(lambda x: (len(x) > 4 or 'LP' in x or 'LB' in x or 'RB' in x) and 'GC' not in x), dtype='bool')]]"
   ]
  },
  {
   "cell_type": "code",
   "execution_count": 13,
   "metadata": {},
   "outputs": [],
   "source": [
    "rf = RandomForestClassifier(n_jobs=6, n_estimators=2000)\n",
    "folded_data = KFold(n_splits=5, random_state=random_seed, shuffle=True)"
   ]
  },
  {
   "cell_type": "code",
   "execution_count": 14,
   "metadata": {},
   "outputs": [
    {
     "name": "stderr",
     "output_type": "stream",
     "text": [
      "2018-12-05 16:35:42,182 - matplotlib.axes._base - DEBUG - update_title_pos\n",
      "2018-12-05 16:35:42,188 - matplotlib.font_manager - DEBUG - findfont: Matching :family=sans-serif:style=normal:variant=normal:weight=normal:stretch=normal:size=11.0 to DejaVu Sans ('/home/alexshein/.local/lib/python3.6/site-packages/matplotlib/mpl-data/fonts/ttf/DejaVuSans.ttf') with score of 2.050000.\n",
      "2018-12-05 16:35:42,200 - matplotlib.font_manager - DEBUG - findfont: Matching :family=sans-serif:style=normal:variant=normal:weight=normal:stretch=normal:size=12.0 to DejaVu Sans ('/home/alexshein/.local/lib/python3.6/site-packages/matplotlib/mpl-data/fonts/ttf/DejaVuSans.ttf') with score of 2.050000.\n",
      "2018-12-05 16:35:42,226 - matplotlib.font_manager - DEBUG - findfont: Matching :family=STIXGeneral:style=normal:variant=normal:weight=normal:stretch=normal:size=10.0 to STIXGeneral ('/home/alexshein/.local/lib/python3.6/site-packages/matplotlib/mpl-data/fonts/ttf/STIXGeneral.ttf') with score of 0.050000.\n",
      "2018-12-05 16:35:42,229 - matplotlib.font_manager - DEBUG - findfont: Matching :family=STIXGeneral:style=italic:variant=normal:weight=normal:stretch=normal:size=10.0 to STIXGeneral ('/home/alexshein/.local/lib/python3.6/site-packages/matplotlib/mpl-data/fonts/ttf/STIXGeneralItalic.ttf') with score of 0.050000.\n",
      "2018-12-05 16:35:42,232 - matplotlib.font_manager - DEBUG - findfont: Matching :family=STIXGeneral:style=normal:variant=normal:weight=bold:stretch=normal:size=10.0 to STIXGeneral ('/home/alexshein/.local/lib/python3.6/site-packages/matplotlib/mpl-data/fonts/ttf/STIXGeneralBol.ttf') with score of 0.000000.\n",
      "2018-12-05 16:35:42,235 - matplotlib.font_manager - DEBUG - findfont: Matching :family=STIXNonUnicode:style=normal:variant=normal:weight=normal:stretch=normal:size=10.0 to STIXNonUnicode ('/home/alexshein/.local/lib/python3.6/site-packages/matplotlib/mpl-data/fonts/ttf/STIXNonUni.ttf') with score of 0.050000.\n",
      "2018-12-05 16:35:42,241 - matplotlib.font_manager - DEBUG - findfont: Matching :family=STIXNonUnicode:style=italic:variant=normal:weight=normal:stretch=normal:size=10.0 to STIXNonUnicode ('/home/alexshein/.local/lib/python3.6/site-packages/matplotlib/mpl-data/fonts/ttf/STIXNonUniIta.ttf') with score of 0.050000.\n",
      "2018-12-05 16:35:42,242 - matplotlib.font_manager - DEBUG - findfont: Matching :family=STIXNonUnicode:style=normal:variant=normal:weight=bold:stretch=normal:size=10.0 to STIXNonUnicode ('/home/alexshein/.local/lib/python3.6/site-packages/matplotlib/mpl-data/fonts/ttf/STIXNonUniBol.ttf') with score of 0.000000.\n",
      "2018-12-05 16:35:42,247 - matplotlib.font_manager - DEBUG - findfont: Matching :family=STIXSizeOneSym:style=normal:variant=normal:weight=normal:stretch=normal:size=10.0 to STIXSizeOneSym ('/home/alexshein/.local/lib/python3.6/site-packages/matplotlib/mpl-data/fonts/ttf/STIXSizOneSymReg.ttf') with score of 0.050000.\n",
      "2018-12-05 16:35:42,250 - matplotlib.font_manager - DEBUG - findfont: Matching :family=STIXSizeTwoSym:style=normal:variant=normal:weight=normal:stretch=normal:size=10.0 to STIXSizeTwoSym ('/home/alexshein/.local/lib/python3.6/site-packages/matplotlib/mpl-data/fonts/ttf/STIXSizTwoSymReg.ttf') with score of 0.050000.\n",
      "2018-12-05 16:35:42,255 - matplotlib.font_manager - DEBUG - findfont: Matching :family=STIXSizeThreeSym:style=normal:variant=normal:weight=normal:stretch=normal:size=10.0 to STIXSizeThreeSym ('/home/alexshein/.local/lib/python3.6/site-packages/matplotlib/mpl-data/fonts/ttf/STIXSizThreeSymReg.ttf') with score of 0.050000.\n",
      "2018-12-05 16:35:42,258 - matplotlib.font_manager - DEBUG - findfont: Matching :family=STIXSizeFourSym:style=normal:variant=normal:weight=normal:stretch=normal:size=10.0 to STIXSizeFourSym ('/home/alexshein/.local/lib/python3.6/site-packages/matplotlib/mpl-data/fonts/ttf/STIXSizFourSymReg.ttf') with score of 0.050000.\n",
      "2018-12-05 16:35:42,261 - matplotlib.font_manager - DEBUG - findfont: Matching :family=STIXSizeFiveSym:style=normal:variant=normal:weight=normal:stretch=normal:size=10.0 to STIXSizeFiveSym ('/home/alexshein/.local/lib/python3.6/site-packages/matplotlib/mpl-data/fonts/ttf/STIXSizFiveSymReg.ttf') with score of 0.050000.\n",
      "2018-12-05 16:35:42,263 - matplotlib.font_manager - DEBUG - findfont: Matching :family=cmsy10:style=normal:variant=normal:weight=normal:stretch=normal:size=10.0 to cmsy10 ('/home/alexshein/.local/lib/python3.6/site-packages/matplotlib/mpl-data/fonts/ttf/cmsy10.ttf') with score of 0.050000.\n",
      "2018-12-05 16:35:42,265 - matplotlib.font_manager - DEBUG - findfont: Matching :family=cmr10:style=normal:variant=normal:weight=normal:stretch=normal:size=10.0 to cmr10 ('/home/alexshein/.local/lib/python3.6/site-packages/matplotlib/mpl-data/fonts/ttf/cmr10.ttf') with score of 0.050000.\n",
      "2018-12-05 16:35:42,267 - matplotlib.font_manager - DEBUG - findfont: Matching :family=cmtt10:style=normal:variant=normal:weight=normal:stretch=normal:size=10.0 to cmtt10 ('/home/alexshein/.local/lib/python3.6/site-packages/matplotlib/mpl-data/fonts/ttf/cmtt10.ttf') with score of 0.050000.\n",
      "2018-12-05 16:35:42,269 - matplotlib.font_manager - DEBUG - findfont: Matching :family=cmmi10:style=normal:variant=normal:weight=normal:stretch=normal:size=10.0 to cmmi10 ('/home/alexshein/.local/lib/python3.6/site-packages/matplotlib/mpl-data/fonts/ttf/cmmi10.ttf') with score of 0.050000.\n",
      "2018-12-05 16:35:42,271 - matplotlib.font_manager - DEBUG - findfont: Matching :family=cmb10:style=normal:variant=normal:weight=normal:stretch=normal:size=10.0 to cmb10 ('/home/alexshein/.local/lib/python3.6/site-packages/matplotlib/mpl-data/fonts/ttf/cmb10.ttf') with score of 0.050000.\n",
      "2018-12-05 16:35:42,273 - matplotlib.font_manager - DEBUG - findfont: Matching :family=cmss10:style=normal:variant=normal:weight=normal:stretch=normal:size=10.0 to cmss10 ('/home/alexshein/.local/lib/python3.6/site-packages/matplotlib/mpl-data/fonts/ttf/cmss10.ttf') with score of 0.050000.\n",
      "2018-12-05 16:35:42,275 - matplotlib.font_manager - DEBUG - findfont: Matching :family=cmex10:style=normal:variant=normal:weight=normal:stretch=normal:size=10.0 to cmex10 ('/home/alexshein/.local/lib/python3.6/site-packages/matplotlib/mpl-data/fonts/ttf/cmex10.ttf') with score of 0.050000.\n",
      "2018-12-05 16:35:42,277 - matplotlib.font_manager - DEBUG - findfont: Matching :family=DejaVu Sans:style=normal:variant=normal:weight=normal:stretch=normal:size=10.0 to DejaVu Sans ('/home/alexshein/.local/lib/python3.6/site-packages/matplotlib/mpl-data/fonts/ttf/DejaVuSans.ttf') with score of 0.050000.\n",
      "2018-12-05 16:35:42,279 - matplotlib.font_manager - DEBUG - findfont: Matching :family=DejaVu Sans:style=italic:variant=normal:weight=normal:stretch=normal:size=10.0 to DejaVu Sans ('/home/alexshein/.local/lib/python3.6/site-packages/matplotlib/mpl-data/fonts/ttf/DejaVuSans-Oblique.ttf') with score of 0.150000.\n",
      "2018-12-05 16:35:42,280 - matplotlib.font_manager - DEBUG - findfont: Matching :family=DejaVu Sans:style=normal:variant=normal:weight=bold:stretch=normal:size=10.0 to DejaVu Sans ('/home/alexshein/.local/lib/python3.6/site-packages/matplotlib/mpl-data/fonts/ttf/DejaVuSans-Bold.ttf') with score of 0.000000.\n",
      "2018-12-05 16:35:42,282 - matplotlib.font_manager - DEBUG - findfont: Matching :family=DejaVu Sans Mono:style=normal:variant=normal:weight=normal:stretch=normal:size=10.0 to DejaVu Sans Mono ('/home/alexshein/.local/lib/python3.6/site-packages/matplotlib/mpl-data/fonts/ttf/DejaVuSansMono.ttf') with score of 0.050000.\n",
      "2018-12-05 16:35:42,283 - matplotlib.font_manager - DEBUG - findfont: Matching :family=DejaVu Sans Display:style=normal:variant=normal:weight=normal:stretch=normal:size=10.0 to DejaVu Sans Display ('/home/alexshein/.local/lib/python3.6/site-packages/matplotlib/mpl-data/fonts/ttf/DejaVuSansDisplay.ttf') with score of 0.050000.\n",
      "2018-12-05 16:35:42,396 - matplotlib.axes._base - DEBUG - update_title_pos\n",
      "2018-12-05 16:35:42,419 - matplotlib.axes._base - DEBUG - update_title_pos\n",
      "2018-12-05 16:35:42,432 - matplotlib.axes._base - DEBUG - update_title_pos\n"
     ]
    },
    {
     "data": {
      "image/png": "[encoded data removed]",
      "text/plain": [
       "<Figure size 720x504 with 1 Axes>"
      ]
     },
     "metadata": {
      "needs_background": "light"
     },
     "output_type": "display_data"
    }
   ],
   "source": [
    "tprs = []\n",
    "aucs, acc, rec, prec = [], [], [], []\n",
    "\n",
    "mean_fpr = np.linspace(0, 1, 100)\n",
    "i = 0\n",
    "\n",
    "plt.figure(figsize=(10,7))\n",
    "for k, (train, test) in enumerate(folded_data.split(X, Y)):\n",
    "    probas_ = rf.fit(X.iloc[train], Y.iloc[train]).predict_proba(X.iloc[test])\n",
    "    # Compute ROC curve and area the curve\n",
    "    fpr, tpr, thresholds = roc_curve(Y.iloc[test], probas_[:, 1])\n",
    "    tprs.append(np.interp(mean_fpr, fpr, tpr))\n",
    "    tprs[-1][0] = 0.0\n",
    "    roc_auc = auc(fpr, tpr)\n",
    "    aucs.append(roc_auc)\n",
    "    Y_pred = rf.predict(X.iloc[test])\n",
    "    acc.append(accuracy_score(Y.iloc[test], Y_pred))\n",
    "    prec.append(precision_score(Y.iloc[test], Y_pred))\n",
    "    rec.append(recall_score(Y.iloc[test], Y_pred))\n",
    "    plt.plot(\n",
    "        fpr,\n",
    "        tpr,\n",
    "        lw=1,\n",
    "        alpha=0.3,\n",
    "        label='ROC fold %d (AUC = %0.2f)' % (k, roc_auc)\n",
    "    )\n",
    "\n",
    "plt.plot(\n",
    "    [0, 1],\n",
    "    [0, 1],\n",
    "    linestyle='--',\n",
    "    lw=2,\n",
    "    color='r',\n",
    "    label='Luck',\n",
    "    alpha=.8\n",
    ")\n",
    "fpr, tpr, thresholds = roc_curve(Y.iloc[test], probas_[:, 1])\n",
    "\n",
    "mean_tpr = np.mean(tprs, axis=0)\n",
    "mean_tpr[-1] = 1.0\n",
    "mean_auc = auc(mean_fpr, mean_tpr)\n",
    "std_auc = np.std(aucs)\n",
    "plt.plot(mean_fpr, mean_tpr, color='b',\n",
    "         label=r'Mean ROC (AUC = %0.2f $\\pm$ %0.2f)' % (mean_auc, std_auc),\n",
    "         lw=2, alpha=.8)\n",
    "\n",
    "std_tpr = np.std(tprs, axis=0)\n",
    "tprs_upper = np.minimum(mean_tpr + std_tpr, 1)\n",
    "tprs_lower = np.maximum(mean_tpr - std_tpr, 0)\n",
    "plt.fill_between(\n",
    "    mean_fpr,\n",
    "    tprs_lower,\n",
    "    tprs_upper,\n",
    "    color='grey',\n",
    "    alpha=.2,\n",
    "    label=r'$\\pm$ 1 std. dev.'\n",
    ")\n",
    "\n",
    "plt.xlim([-0.05, 1.05])\n",
    "plt.ylim([-0.05, 1.05])\n",
    "plt.xlabel('False Positive Rate')\n",
    "plt.ylabel('True Positive Rate')\n",
    "plt.title('Receiver operating characteristic for transposon recognition')\n",
    "plt.legend(loc=\"lower right\")\n",
    "plt.show()"
   ]
  },
  {
   "cell_type": "code",
   "execution_count": 15,
   "metadata": {},
   "outputs": [
    {
     "name": "stderr",
     "output_type": "stream",
     "text": [
      "2018-12-05 16:36:29,268 - matplotlib.axes._base - DEBUG - update_title_pos\n",
      "2018-12-05 16:36:29,348 - matplotlib.axes._base - DEBUG - update_title_pos\n",
      "2018-12-05 16:36:29,368 - matplotlib.axes._base - DEBUG - update_title_pos\n",
      "2018-12-05 16:36:29,380 - matplotlib.axes._base - DEBUG - update_title_pos\n"
     ]
    },
    {
     "data": {
      "image/png": "[encoded data removed]",
      "text/plain": [
       "<Figure size 864x576 with 1 Axes>"
      ]
     },
     "metadata": {
      "needs_background": "light"
     },
     "output_type": "display_data"
    }
   ],
   "source": [
    "precisions = []\n",
    "\n",
    "best_precision = {\"precision_score\": 0.0, \"precision\": None, \"recall\": None}\n",
    "\n",
    "for k, (train, test) in enumerate(folded_data.split(X, Y)):\n",
    "    probas_ = rf.fit(X.iloc[train], Y.iloc[train]).predict_proba(X.iloc[test])\n",
    "    precision, recall, _ = precision_recall_curve(Y.iloc[test], probas_[:, 1])\n",
    "    average_precision = average_precision_score(Y.iloc[test], probas_[:, 1])\n",
    "    if average_precision > best_precision[\"precision_score\"]:\n",
    "        best_precision[\"precision\"] = precision\n",
    "        best_precision[\"recall\"] = recall\n",
    "        best_precision[\"precision_score\"] = average_precision\n",
    "    precisions.append(average_precision)\n",
    "    plt.step(\n",
    "        recall,\n",
    "        precision,\n",
    "        alpha=0.5,\n",
    "        where='post',\n",
    "        label='Precision-recall fold {0:0.4f}'.format(average_precision)\n",
    "    )\n",
    "average_precision = sum(precisions)/len(precisions)\n",
    "plt.xlabel('Recall')\n",
    "plt.ylabel('Precision')\n",
    "plt.ylim([0.0, 1.05])\n",
    "plt.xlim([0.0, 1.05])\n",
    "plt.title('2-class Precision-Recall curve: AP={0:0.2f}'.format(\n",
    "          average_precision))\n",
    "plt.legend(loc=\"lower right\")\n",
    "plt.show()"
   ]
  },
  {
   "cell_type": "markdown",
   "metadata": {},
   "source": [
    "# AUC, Accuracy, Precision & Recall"
   ]
  },
  {
   "cell_type": "code",
   "execution_count": 16,
   "metadata": {},
   "outputs": [
    {
     "data": {
      "text/plain": [
       "(0.9971, 0.9822, 0.9955, 0.9689)"
      ]
     },
     "execution_count": 16,
     "metadata": {},
     "output_type": "execute_result"
    }
   ],
   "source": [
    "mr = lambda x: np.round(np.mean(x), 4)\n",
    "mr(aucs), mr(acc), mr(prec), mr(rec)"
   ]
  },
  {
   "cell_type": "markdown",
   "metadata": {},
   "source": [
    "# Feature importance"
   ]
  },
  {
   "cell_type": "code",
   "execution_count": 17,
   "metadata": {},
   "outputs": [
    {
     "name": "stderr",
     "output_type": "stream",
     "text": [
      "2018-12-05 16:36:29,977 - matplotlib.axes._base - DEBUG - update_title_pos\n",
      "2018-12-05 16:36:30,052 - matplotlib.axes._base - DEBUG - update_title_pos\n",
      "2018-12-05 16:36:30,071 - matplotlib.axes._base - DEBUG - update_title_pos\n",
      "2018-12-05 16:36:30,082 - matplotlib.axes._base - DEBUG - update_title_pos\n"
     ]
    },
    {
     "data": {
      "image/png": "[encoded data removed]",
      "text/plain": [
       "<Figure size 864x576 with 1 Axes>"
      ]
     },
     "metadata": {
      "needs_background": "light"
     },
     "output_type": "display_data"
    },
    {
     "data": {
      "text/plain": [
       "<Figure size 720x504 with 0 Axes>"
      ]
     },
     "metadata": {},
     "output_type": "display_data"
    }
   ],
   "source": [
    "N_to_print = 10\n",
    "y_pos = range(N_to_print)\n",
    "fig, ax = plt.subplots()\n",
    "plt.figure(figsize=(10,7))\n",
    "\n",
    "feature_importance = rf.feature_importances_.round(4)\n",
    "feature_importance = zip(X.keys(), feature_importance)\n",
    "feature_importance = np.array(sorted(feature_importance, key=lambda x:x[1], reverse=True))\n",
    "\n",
    "ax.barh(y_pos, feature_importance[:N_to_print, 1].astype('float'), align='center', color='green')\n",
    "ax.set_yticks(np.arange(N_to_print))\n",
    "ax.set_yticklabels(feature_importance[:N_to_print, 0])\n",
    "ax.invert_yaxis()\n",
    "ax.set_xlabel('Importance score')\n",
    "\n",
    "plt.show()"
   ]
  },
  {
   "cell_type": "code",
   "execution_count": 18,
   "metadata": {},
   "outputs": [
    {
     "data": {
      "text/html": [
       "<div>\n",
       "<style scoped>\n",
       "    .dataframe tbody tr th:only-of-type {\n",
       "        vertical-align: middle;\n",
       "    }\n",
       "\n",
       "    .dataframe tbody tr th {\n",
       "        vertical-align: top;\n",
       "    }\n",
       "\n",
       "    .dataframe thead th {\n",
       "        text-align: right;\n",
       "    }\n",
       "</style>\n",
       "<table border=\"1\" class=\"dataframe\">\n",
       "  <thead>\n",
       "    <tr style=\"text-align: right;\">\n",
       "      <th></th>\n",
       "      <th>Feature_name</th>\n",
       "      <th>Feature_importance</th>\n",
       "    </tr>\n",
       "  </thead>\n",
       "  <tbody>\n",
       "    <tr>\n",
       "      <th>0</th>\n",
       "      <td>LS0_Hydrophilicity</td>\n",
       "      <td>0.0600</td>\n",
       "    </tr>\n",
       "    <tr>\n",
       "      <th>1</th>\n",
       "      <td>LS0_Tilt</td>\n",
       "      <td>0.0456</td>\n",
       "    </tr>\n",
       "    <tr>\n",
       "      <th>2</th>\n",
       "      <td>LS0_Rise</td>\n",
       "      <td>0.0450</td>\n",
       "    </tr>\n",
       "    <tr>\n",
       "      <th>3</th>\n",
       "      <td>LS6_Hydrophilicity</td>\n",
       "      <td>0.0410</td>\n",
       "    </tr>\n",
       "    <tr>\n",
       "      <th>4</th>\n",
       "      <td>LS0_Slide</td>\n",
       "      <td>0.0321</td>\n",
       "    </tr>\n",
       "    <tr>\n",
       "      <th>5</th>\n",
       "      <td>LS0_Free energy</td>\n",
       "      <td>0.0297</td>\n",
       "    </tr>\n",
       "    <tr>\n",
       "      <th>6</th>\n",
       "      <td>RB2A</td>\n",
       "      <td>0.0273</td>\n",
       "    </tr>\n",
       "    <tr>\n",
       "      <th>7</th>\n",
       "      <td>LS0_Enthalpy</td>\n",
       "      <td>0.0247</td>\n",
       "    </tr>\n",
       "    <tr>\n",
       "      <th>8</th>\n",
       "      <td>LS0_Entropy</td>\n",
       "      <td>0.0247</td>\n",
       "    </tr>\n",
       "    <tr>\n",
       "      <th>9</th>\n",
       "      <td>LS7_Tilt</td>\n",
       "      <td>0.0201</td>\n",
       "    </tr>\n",
       "  </tbody>\n",
       "</table>\n",
       "</div>"
      ],
      "text/plain": [
       "         Feature_name  Feature_importance\n",
       "0  LS0_Hydrophilicity              0.0600\n",
       "1            LS0_Tilt              0.0456\n",
       "2            LS0_Rise              0.0450\n",
       "3  LS6_Hydrophilicity              0.0410\n",
       "4           LS0_Slide              0.0321\n",
       "5     LS0_Free energy              0.0297\n",
       "6                RB2A              0.0273\n",
       "7        LS0_Enthalpy              0.0247\n",
       "8         LS0_Entropy              0.0247\n",
       "9            LS7_Tilt              0.0201"
      ]
     },
     "execution_count": 18,
     "metadata": {},
     "output_type": "execute_result"
    }
   ],
   "source": [
    "feature_importance = (rf.feature_importances_).round(4)\n",
    "feature_importance = zip(X.keys(), feature_importance)\n",
    "feature_importance = sorted(list(feature_importance), key=lambda x:x[1], reverse=True)\n",
    "fi = pd.DataFrame(feature_importance, columns=['Feature_name', 'Feature_importance'])\n",
    "fi.head(N_to_print)"
   ]
  },
  {
   "cell_type": "markdown",
   "metadata": {},
   "source": [
    "# Further generalization analysis block"
   ]
  },
  {
   "cell_type": "code",
   "execution_count": 19,
   "metadata": {},
   "outputs": [],
   "source": [
    "CSV_FILE_SUBNAME_OBJECTS = \"Alu_vs_Shuffle\" # \"True_vs_False\"\n",
    "CSV_FILE_SUBNAME_TYPE = \"Phys-Chem-Struct\" # \"50b.p._Stats\" or \"Stem-loop_Stats\"\n",
    "CSV_FILE_SUBNAME = \"{0}__{1}\".format(CSV_FILE_SUBNAME_OBJECTS, CSV_FILE_SUBNAME_TYPE)"
   ]
  },
  {
   "cell_type": "code",
   "execution_count": 20,
   "metadata": {},
   "outputs": [],
   "source": [
    "pd.DataFrame({\"fpr\": mean_fpr, \"tpr\": mean_tpr}).to_csv(\"AUC__{0}.csv\".format(CSV_FILE_SUBNAME), index=False)\n",
    "pd.DataFrame({\"precision\": best_precision[\"precision\"],\n",
    "              \"recall\": best_precision[\"recall\"]}).to_csv(\"Precision-Recall__{0}.csv\".format(CSV_FILE_SUBNAME), index=False)\n",
    "pd.DataFrame(fi).to_csv(\"Feature_importance__{0}.csv\".format(CSV_FILE_SUBNAME), index=False)"
   ]
  }
 ],
 "metadata": {
  "kernelspec": {
   "display_name": "Python 3",
   "language": "python",
   "name": "python3"
  },
  "language_info": {
   "codemirror_mode": {
    "name": "ipython",
    "version": 3
   },
   "file_extension": ".py",
   "mimetype": "text/x-python",
   "name": "python",
   "nbconvert_exporter": "python",
   "pygments_lexer": "ipython3",
   "version": "3.6.6"
  }
 },
 "nbformat": 4,
 "nbformat_minor": 2
}
