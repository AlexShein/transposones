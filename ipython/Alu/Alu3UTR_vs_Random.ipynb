{
 "cells": [
  {
   "cell_type": "code",
   "execution_count": 1,
   "metadata": {},
   "outputs": [],
   "source": [
    "from sklearn.ensemble import RandomForestClassifier\n",
    "from sklearn.model_selection import KFold, train_test_split\n",
    "from sklearn.metrics import roc_curve, auc, accuracy_score, precision_score, recall_score, precision_recall_curve, average_precision_score\n",
    "\n",
    "import numpy as np\n",
    "import pandas as pd\n",
    "\n",
    "import matplotlib.pyplot as plt\n",
    "import seaborn as sns\n",
    "sns.set()"
   ]
  },
  {
   "cell_type": "code",
   "execution_count": 2,
   "metadata": {},
   "outputs": [],
   "source": [
    "from pylab import rcParams\n",
    "rcParams['figure.figsize'] = 12, 8"
   ]
  },
  {
   "cell_type": "code",
   "execution_count": 3,
   "metadata": {},
   "outputs": [],
   "source": [
    "from link.src.py_scripts.process_pals import begin_processing"
   ]
  },
  {
   "cell_type": "code",
   "execution_count": 4,
   "metadata": {},
   "outputs": [],
   "source": [
    "random_seed = 17"
   ]
  },
  {
   "cell_type": "markdown",
   "metadata": {},
   "source": [
    "# Data preparation"
   ]
  },
  {
   "cell_type": "code",
   "execution_count": 5,
   "metadata": {},
   "outputs": [],
   "source": [
    "# True positive data\n",
    "# AluS\n",
    "PATH = '../../data/Alu/AluS/S10-20_L0-8_M5/'\n",
    "LINES = 'last'\n",
    "OMIT = ''\n",
    "OUTPUT_FILE = 'AluS3UTR.csv'\n",
    "N_LINES = 0"
   ]
  },
  {
   "cell_type": "code",
   "execution_count": 6,
   "metadata": {},
   "outputs": [
    {
     "name": "stderr",
     "output_type": "stream",
     "text": [
      "2018-11-28 12:45:33,055 - process_pals.py - INFO - Got 722 files\n",
      "2018-11-28 12:45:35,061 - process_pals.py - INFO - Got 722 lines\n",
      "2018-11-28 12:45:35,062 - process_pals.py - INFO - Processing with chunk_size = 91. Starting 8 workers\n",
      "2018-11-28 12:45:35,114 - link.src.py_scripts.process_line-15747 - INFO - Started new worker\n",
      "2018-11-28 12:45:35,114 - link.src.py_scripts.process_line-15748 - INFO - Started new worker\n",
      "2018-11-28 12:45:35,115 - link.src.py_scripts.process_line-15750 - INFO - Started new worker\n",
      "2018-11-28 12:45:35,114 - link.src.py_scripts.process_line-15746 - INFO - Started new worker\n",
      "2018-11-28 12:45:35,115 - link.src.py_scripts.process_line-15751 - INFO - Started new worker\n",
      "2018-11-28 12:45:35,115 - link.src.py_scripts.process_line-15753 - INFO - Started new worker\n",
      "2018-11-28 12:45:35,115 - link.src.py_scripts.process_line-15749 - INFO - Started new worker\n",
      "2018-11-28 12:45:35,115 - link.src.py_scripts.process_line-15752 - INFO - Started new worker\n",
      "2018-11-28 12:45:37,160 - link.src.py_scripts.process_line-15753 - INFO - Job finished, execution time 2.43 seconds\n",
      "2018-11-28 12:45:37,251 - link.src.py_scripts.process_line-15746 - INFO - Job finished, execution time 2.13 seconds\n",
      "2018-11-28 12:45:37,273 - link.src.py_scripts.process_line-15748 - INFO - Job finished, execution time 2.15 seconds\n",
      "2018-11-28 12:45:37,278 - link.src.py_scripts.process_line-15750 - INFO - Job finished, execution time 2.16 seconds\n",
      "2018-11-28 12:45:37,282 - link.src.py_scripts.process_line-15749 - INFO - Job finished, execution time 2.15 seconds\n",
      "2018-11-28 12:45:37,300 - link.src.py_scripts.process_line-15747 - INFO - Job finished, execution time 2.18 seconds\n",
      "2018-11-28 12:45:37,323 - link.src.py_scripts.process_line-15752 - INFO - Job finished, execution time 2.18 seconds\n",
      "2018-11-28 12:45:37,348 - link.src.py_scripts.process_line-15751 - INFO - Job finished, execution time 2.22 seconds\n",
      "2018-11-28 12:45:37,423 - process_pals.py - INFO - Combining results into single dict\n",
      "2018-11-28 12:45:37,423 - process_pals.py - INFO - Creating df\n",
      "2018-11-28 12:45:37,468 - process_pals.py - INFO - Writing df to AluS3UTR.csv\n",
      "2018-11-28 12:45:37,660 - process_pals.py - INFO - Done! Execution time 4.60 seconds\n"
     ]
    }
   ],
   "source": [
    "df_True_AluS = begin_processing(\n",
    "    PATH,\n",
    "    LINES,\n",
    "    OMIT,\n",
    "    output_file=OUTPUT_FILE,\n",
    "    n_lines=N_LINES,\n",
    "    write_to_csv=True,\n",
    ")"
   ]
  },
  {
   "cell_type": "code",
   "execution_count": 7,
   "metadata": {},
   "outputs": [],
   "source": [
    "# True positive data\n",
    "# AluY\n",
    "PATH = '../../data/Alu/AluY/S10-20_L0-8_M5/'\n",
    "LINES = 'last'\n",
    "OMIT = ''\n",
    "OUTPUT_FILE = 'AluY3UTR.csv'\n",
    "N_LINES = 0"
   ]
  },
  {
   "cell_type": "code",
   "execution_count": 8,
   "metadata": {},
   "outputs": [
    {
     "name": "stderr",
     "output_type": "stream",
     "text": [
      "2018-11-28 12:45:37,835 - process_pals.py - INFO - Got 11707 files\n",
      "2018-11-28 12:47:04,871 - process_pals.py - INFO - Got 11707 lines\n",
      "2018-11-28 12:47:04,872 - process_pals.py - INFO - Processing with chunk_size = 1464. Starting 8 workers\n",
      "2018-11-28 12:47:04,909 - link.src.py_scripts.process_line-15831 - INFO - Started new worker\n",
      "2018-11-28 12:47:04,909 - link.src.py_scripts.process_line-15832 - INFO - Started new worker\n",
      "2018-11-28 12:47:04,909 - link.src.py_scripts.process_line-15833 - INFO - Started new worker\n",
      "2018-11-28 12:47:04,910 - link.src.py_scripts.process_line-15834 - INFO - Started new worker\n",
      "2018-11-28 12:47:04,911 - link.src.py_scripts.process_line-15836 - INFO - Started new worker\n",
      "2018-11-28 12:47:04,912 - link.src.py_scripts.process_line-15837 - INFO - Started new worker\n",
      "2018-11-28 12:47:04,911 - link.src.py_scripts.process_line-15835 - INFO - Started new worker\n",
      "2018-11-28 12:47:04,913 - link.src.py_scripts.process_line-15838 - INFO - Started new worker\n",
      "2018-11-28 12:47:39,782 - link.src.py_scripts.process_line-15833 - INFO - Job finished, execution time 34.86 seconds\n",
      "2018-11-28 12:47:39,842 - link.src.py_scripts.process_line-15836 - INFO - Job finished, execution time 34.91 seconds\n",
      "2018-11-28 12:47:39,858 - link.src.py_scripts.process_line-15835 - INFO - Job finished, execution time 34.94 seconds\n",
      "2018-11-28 12:47:39,885 - link.src.py_scripts.process_line-15834 - INFO - Job finished, execution time 34.97 seconds\n",
      "2018-11-28 12:47:40,064 - link.src.py_scripts.process_line-15838 - INFO - Job finished, execution time 35.14 seconds\n",
      "2018-11-28 12:47:40,186 - link.src.py_scripts.process_line-15831 - INFO - Job finished, execution time 35.27 seconds\n",
      "2018-11-28 12:47:40,341 - link.src.py_scripts.process_line-15832 - INFO - Job finished, execution time 35.42 seconds\n",
      "2018-11-28 12:47:40,725 - link.src.py_scripts.process_line-15837 - INFO - Job finished, execution time 35.80 seconds\n",
      "2018-11-28 12:47:40,942 - process_pals.py - INFO - Combining results into single dict\n",
      "2018-11-28 12:47:40,943 - process_pals.py - INFO - Creating df\n",
      "2018-11-28 12:47:41,515 - process_pals.py - INFO - Writing df to AluY3UTR.csv\n",
      "2018-11-28 12:47:43,980 - process_pals.py - INFO - Done! Execution time 126.15 seconds\n"
     ]
    }
   ],
   "source": [
    "df_True_AluY = begin_processing(\n",
    "    PATH,\n",
    "    LINES,\n",
    "    OMIT,\n",
    "    output_file=OUTPUT_FILE,\n",
    "    n_lines=N_LINES,\n",
    "    write_to_csv=True,\n",
    ")"
   ]
  },
  {
   "cell_type": "code",
   "execution_count": 9,
   "metadata": {},
   "outputs": [],
   "source": [
    "df_True = pd.concat([df_True_AluS, df_True_AluY]).reset_index(drop=True)"
   ]
  },
  {
   "cell_type": "code",
   "execution_count": 10,
   "metadata": {},
   "outputs": [],
   "source": [
    "# True negative data\n",
    "PATH = '../../data/shuffle/S10-20_L0-8_M5/'\n",
    "LINES = 'rand'\n",
    "OMIT = ''\n",
    "OUTPUT_FILE = 'Random_non_transposon.csv'\n",
    "N_LINES = df_True.shape[0]"
   ]
  },
  {
   "cell_type": "code",
   "execution_count": 11,
   "metadata": {},
   "outputs": [
    {
     "name": "stderr",
     "output_type": "stream",
     "text": [
      "2018-11-28 12:47:44,435 - process_pals.py - INFO - Got 63870 files\n",
      "2018-11-28 12:54:47,546 - process_pals.py - INFO - Got 63870 lines\n",
      "2018-11-28 12:54:47,547 - process_pals.py - INFO - Processing with chunk_size = 7984. Starting 8 workers\n",
      "2018-11-28 12:54:47,657 - link.src.py_scripts.process_line-15953 - INFO - Started new worker\n",
      "2018-11-28 12:54:47,704 - link.src.py_scripts.process_line-15954 - INFO - Started new worker\n",
      "2018-11-28 12:54:47,747 - link.src.py_scripts.process_line-15955 - INFO - Started new worker\n",
      "2018-11-28 12:54:47,780 - link.src.py_scripts.process_line-15956 - INFO - Started new worker\n",
      "2018-11-28 12:54:47,815 - link.src.py_scripts.process_line-15957 - INFO - Started new worker\n",
      "2018-11-28 12:54:47,895 - link.src.py_scripts.process_line-15958 - INFO - Started new worker\n",
      "2018-11-28 12:54:47,965 - link.src.py_scripts.process_line-15959 - INFO - Started new worker\n",
      "2018-11-28 12:54:48,040 - link.src.py_scripts.process_line-15960 - INFO - Started new worker\n",
      "2018-11-28 12:57:57,908 - link.src.py_scripts.process_line-15953 - INFO - Job finished, execution time 190.24 seconds\n",
      "2018-11-28 12:57:58,231 - link.src.py_scripts.process_line-15958 - INFO - Job finished, execution time 190.33 seconds\n",
      "2018-11-28 12:57:58,296 - link.src.py_scripts.process_line-15954 - INFO - Job finished, execution time 190.59 seconds\n",
      "2018-11-28 12:57:58,562 - link.src.py_scripts.process_line-15955 - INFO - Job finished, execution time 190.81 seconds\n",
      "2018-11-28 12:57:59,833 - link.src.py_scripts.process_line-15956 - INFO - Job finished, execution time 192.50 seconds\n",
      "2018-11-28 12:58:00,080 - link.src.py_scripts.process_line-15957 - INFO - Job finished, execution time 192.26 seconds\n",
      "2018-11-28 12:58:03,088 - link.src.py_scripts.process_line-15960 - INFO - Job finished, execution time 195.36 seconds\n",
      "2018-11-28 12:58:03,217 - link.src.py_scripts.process_line-15959 - INFO - Job finished, execution time 195.24 seconds\n",
      "2018-11-28 12:58:04,265 - process_pals.py - INFO - Combining results into single dict\n",
      "2018-11-28 12:58:04,267 - process_pals.py - INFO - Creating df\n",
      "2018-11-28 12:58:08,441 - process_pals.py - INFO - Writing df to Random_non_transposon.csv\n",
      "2018-11-28 12:58:22,149 - process_pals.py - INFO - Done! Execution time 637.79 seconds\n"
     ]
    }
   ],
   "source": [
    "df_False = begin_processing(\n",
    "    PATH,\n",
    "    LINES,\n",
    "    OMIT,\n",
    "    output_file=OUTPUT_FILE,\n",
    "    n_lines=N_LINES,\n",
    "    write_to_csv=True,\n",
    "\n",
    ")"
   ]
  },
  {
   "cell_type": "markdown",
   "metadata": {},
   "source": [
    "# Data analysis & visualisation"
   ]
  },
  {
   "cell_type": "code",
   "execution_count": 26,
   "metadata": {},
   "outputs": [],
   "source": [
    "if df_True.shape[0] > df_False.shape[0]:\n",
    "    df_True_n = df_True.sample(df_False.shape[0], random_state=random_seed)\n",
    "    df_False_n = df_False\n",
    "else:\n",
    "    df_True_n = df_True\n",
    "    df_False_n = df_False.sample(df_True.shape[0], random_state=random_seed)\n",
    "    \n",
    "X = pd.concat([df_True_n, df_False_n], ignore_index=True)\n",
    "Y = pd.Series(np.append(np.full(df_True_n.shape[0], 1), \n",
    "                        np.full(df_False_n.shape[0], 0)))\n",
    "\n",
    "# Getting rid of unneeded columns\n",
    "X = X[X.columns[np.array(X.columns.map(lambda x: (len(x) > 4 or 'LP' in x or 'LB' in x or 'RB' in x) and 'GC' not in x), dtype='bool')]]"
   ]
  },
  {
   "cell_type": "code",
   "execution_count": 27,
   "metadata": {},
   "outputs": [],
   "source": [
    "rf = RandomForestClassifier(n_jobs=6, n_estimators=2000)\n",
    "folded_data = KFold(n_splits=5, random_state=random_seed, shuffle=True)"
   ]
  },
  {
   "cell_type": "code",
   "execution_count": 28,
   "metadata": {},
   "outputs": [
    {
     "name": "stderr",
     "output_type": "stream",
     "text": [
      "2018-11-28 15:19:15,801 - matplotlib.axes._base - DEBUG - update_title_pos\n",
      "2018-11-28 15:19:15,899 - matplotlib.axes._base - DEBUG - update_title_pos\n",
      "2018-11-28 15:19:15,924 - matplotlib.axes._base - DEBUG - update_title_pos\n",
      "2018-11-28 15:19:15,939 - matplotlib.axes._base - DEBUG - update_title_pos\n"
     ]
    },
    {
     "data": {
      "image/png": "[encoded data removed]",
      "text/plain": [
       "<Figure size 720x504 with 1 Axes>"
      ]
     },
     "metadata": {
      "needs_background": "light"
     },
     "output_type": "display_data"
    }
   ],
   "source": [
    "tprs = []\n",
    "aucs, acc, rec, prec = [], [], [], []\n",
    "\n",
    "mean_fpr = np.linspace(0, 1, 100)\n",
    "i = 0\n",
    "\n",
    "plt.figure(figsize=(10,7))\n",
    "for k, (train, test) in enumerate(folded_data.split(X, Y)):\n",
    "    probas_ = rf.fit(X.iloc[train], Y.iloc[train]).predict_proba(X.iloc[test])\n",
    "    # Compute ROC curve and area the curve\n",
    "    fpr, tpr, thresholds = roc_curve(Y.iloc[test], probas_[:, 1])\n",
    "    tprs.append(np.interp(mean_fpr, fpr, tpr))\n",
    "    tprs[-1][0] = 0.0\n",
    "    roc_auc = auc(fpr, tpr)\n",
    "    aucs.append(roc_auc)\n",
    "    Y_pred = rf.predict(X.iloc[test])\n",
    "    acc.append(accuracy_score(Y.iloc[test], Y_pred))\n",
    "    prec.append(precision_score(Y.iloc[test], Y_pred))\n",
    "    rec.append(recall_score(Y.iloc[test], Y_pred))\n",
    "    plt.plot(\n",
    "        fpr,\n",
    "        tpr,\n",
    "        lw=1,\n",
    "        alpha=0.3,\n",
    "        label='ROC fold %d (AUC = %0.2f)' % (k, roc_auc)\n",
    "    )\n",
    "\n",
    "plt.plot(\n",
    "    [0, 1],\n",
    "    [0, 1],\n",
    "    linestyle='--',\n",
    "    lw=2,\n",
    "    color='r',\n",
    "    label='Luck',\n",
    "    alpha=.8\n",
    ")\n",
    "fpr, tpr, thresholds = roc_curve(Y.iloc[test], probas_[:, 1])\n",
    "\n",
    "mean_tpr = np.mean(tprs, axis=0)\n",
    "mean_tpr[-1] = 1.0\n",
    "mean_auc = auc(mean_fpr, mean_tpr)\n",
    "std_auc = np.std(aucs)\n",
    "plt.plot(mean_fpr, mean_tpr, color='b',\n",
    "         label=r'Mean ROC (AUC = %0.2f $\\pm$ %0.2f)' % (mean_auc, std_auc),\n",
    "         lw=2, alpha=.8)\n",
    "\n",
    "std_tpr = np.std(tprs, axis=0)\n",
    "tprs_upper = np.minimum(mean_tpr + std_tpr, 1)\n",
    "tprs_lower = np.maximum(mean_tpr - std_tpr, 0)\n",
    "plt.fill_between(\n",
    "    mean_fpr,\n",
    "    tprs_lower,\n",
    "    tprs_upper,\n",
    "    color='grey',\n",
    "    alpha=.2,\n",
    "    label=r'$\\pm$ 1 std. dev.'\n",
    ")\n",
    "\n",
    "plt.xlim([-0.05, 1.05])\n",
    "plt.ylim([-0.05, 1.05])\n",
    "plt.xlabel('False Positive Rate')\n",
    "plt.ylabel('True Positive Rate')\n",
    "plt.title('Receiver operating characteristic for transposon recognition')\n",
    "plt.legend(loc=\"lower right\")\n",
    "plt.show()"
   ]
  },
  {
   "cell_type": "code",
   "execution_count": 29,
   "metadata": {},
   "outputs": [
    {
     "name": "stderr",
     "output_type": "stream",
     "text": [
      "2018-11-28 15:20:34,581 - matplotlib.axes._base - DEBUG - update_title_pos\n",
      "2018-11-28 15:20:34,648 - matplotlib.axes._base - DEBUG - update_title_pos\n",
      "2018-11-28 15:20:34,671 - matplotlib.axes._base - DEBUG - update_title_pos\n",
      "2018-11-28 15:20:34,685 - matplotlib.axes._base - DEBUG - update_title_pos\n"
     ]
    },
    {
     "data": {
      "image/png": "[encoded data removed]",
      "text/plain": [
       "<Figure size 720x504 with 1 Axes>"
      ]
     },
     "metadata": {
      "needs_background": "light"
     },
     "output_type": "display_data"
    }
   ],
   "source": [
    "precisions = []\n",
    "plt.figure(figsize=(10,7))\n",
    "for k, (train, test) in enumerate(folded_data.split(X, Y)):\n",
    "    probas_ = rf.fit(X.iloc[train], Y.iloc[train]).predict_proba(X.iloc[test])\n",
    "    precision, recall, _ = precision_recall_curve(Y.iloc[test], probas_[:, 1])\n",
    "    precisions.append(average_precision_score(Y.iloc[test], probas_[:, 1]))\n",
    "    plt.step(\n",
    "        recall,\n",
    "        precision,\n",
    "        alpha=0.5,\n",
    "        where='post',\n",
    "        label='Precision-recall fold {}'.format(k)\n",
    "    )\n",
    "average_precision = sum(precisions)/len(precisions)\n",
    "plt.xlabel('Recall')\n",
    "plt.ylabel('Precision')\n",
    "plt.ylim([0.0, 1.05])\n",
    "plt.xlim([0.0, 1.05])\n",
    "plt.title('2-class Precision-Recall curve: AP={0:0.2f}'.format(\n",
    "          average_precision))\n",
    "plt.legend(loc=\"lower right\")\n",
    "plt.show()"
   ]
  },
  {
   "cell_type": "markdown",
   "metadata": {},
   "source": [
    "# AUC, Accuracy, Precision & Recall"
   ]
  },
  {
   "cell_type": "code",
   "execution_count": 30,
   "metadata": {},
   "outputs": [
    {
     "data": {
      "text/plain": [
       "(0.9966, 0.9811, 0.9933, 0.9688)"
      ]
     },
     "execution_count": 30,
     "metadata": {},
     "output_type": "execute_result"
    }
   ],
   "source": [
    "mr = lambda x: np.round(np.mean(x), 4)\n",
    "mr(aucs), mr(acc), mr(prec), mr(rec)"
   ]
  },
  {
   "cell_type": "markdown",
   "metadata": {},
   "source": [
    "# Feature importance"
   ]
  },
  {
   "cell_type": "code",
   "execution_count": 31,
   "metadata": {},
   "outputs": [
    {
     "name": "stderr",
     "output_type": "stream",
     "text": [
      "2018-11-28 15:20:35,204 - matplotlib.axes._base - DEBUG - update_title_pos\n",
      "2018-11-28 15:20:35,284 - matplotlib.axes._base - DEBUG - update_title_pos\n",
      "2018-11-28 15:20:35,304 - matplotlib.axes._base - DEBUG - update_title_pos\n",
      "2018-11-28 15:20:35,316 - matplotlib.axes._base - DEBUG - update_title_pos\n"
     ]
    },
    {
     "data": {
      "image/png": "[encoded data removed]",
      "text/plain": [
       "<Figure size 864x576 with 1 Axes>"
      ]
     },
     "metadata": {
      "needs_background": "light"
     },
     "output_type": "display_data"
    },
    {
     "data": {
      "text/plain": [
       "<Figure size 720x504 with 0 Axes>"
      ]
     },
     "metadata": {},
     "output_type": "display_data"
    }
   ],
   "source": [
    "N_to_print = 10\n",
    "y_pos = range(N_to_print)\n",
    "fig, ax = plt.subplots()\n",
    "plt.figure(figsize=(10,7))\n",
    "\n",
    "feature_importance = rf.feature_importances_.round(4)\n",
    "feature_importance = zip(X.keys(), feature_importance)\n",
    "feature_importance = np.array(sorted(feature_importance, key=lambda x:x[1], reverse=True))\n",
    "\n",
    "ax.barh(y_pos, feature_importance[:N_to_print, 1].astype('float'), align='center', color='green')\n",
    "ax.set_yticks(np.arange(N_to_print))\n",
    "ax.set_yticklabels(feature_importance[:N_to_print, 0])\n",
    "ax.invert_yaxis()\n",
    "ax.set_xlabel('Importance score')\n",
    "\n",
    "plt.show()"
   ]
  },
  {
   "cell_type": "code",
   "execution_count": 32,
   "metadata": {},
   "outputs": [
    {
     "data": {
      "text/html": [
       "<div>\n",
       "<style scoped>\n",
       "    .dataframe tbody tr th:only-of-type {\n",
       "        vertical-align: middle;\n",
       "    }\n",
       "\n",
       "    .dataframe tbody tr th {\n",
       "        vertical-align: top;\n",
       "    }\n",
       "\n",
       "    .dataframe thead th {\n",
       "        text-align: right;\n",
       "    }\n",
       "</style>\n",
       "<table border=\"1\" class=\"dataframe\">\n",
       "  <thead>\n",
       "    <tr style=\"text-align: right;\">\n",
       "      <th></th>\n",
       "      <th>Feature_name</th>\n",
       "      <th>Feature_importance</th>\n",
       "    </tr>\n",
       "  </thead>\n",
       "  <tbody>\n",
       "    <tr>\n",
       "      <th>0</th>\n",
       "      <td>RS0_Hydrophilicity</td>\n",
       "      <td>0.0450</td>\n",
       "    </tr>\n",
       "    <tr>\n",
       "      <th>1</th>\n",
       "      <td>LS0_Hydrophilicity</td>\n",
       "      <td>0.0371</td>\n",
       "    </tr>\n",
       "    <tr>\n",
       "      <th>2</th>\n",
       "      <td>RS0_Tilt</td>\n",
       "      <td>0.0280</td>\n",
       "    </tr>\n",
       "    <tr>\n",
       "      <th>3</th>\n",
       "      <td>RS6_Hydrophilicity</td>\n",
       "      <td>0.0274</td>\n",
       "    </tr>\n",
       "    <tr>\n",
       "      <th>4</th>\n",
       "      <td>RS0_Rise</td>\n",
       "      <td>0.0253</td>\n",
       "    </tr>\n",
       "    <tr>\n",
       "      <th>5</th>\n",
       "      <td>LS6_Hydrophilicity</td>\n",
       "      <td>0.0228</td>\n",
       "    </tr>\n",
       "    <tr>\n",
       "      <th>6</th>\n",
       "      <td>LS0_Twist</td>\n",
       "      <td>0.0214</td>\n",
       "    </tr>\n",
       "    <tr>\n",
       "      <th>7</th>\n",
       "      <td>RB2A</td>\n",
       "      <td>0.0212</td>\n",
       "    </tr>\n",
       "    <tr>\n",
       "      <th>8</th>\n",
       "      <td>RS0_Free energy</td>\n",
       "      <td>0.0207</td>\n",
       "    </tr>\n",
       "    <tr>\n",
       "      <th>9</th>\n",
       "      <td>RS0_Slide</td>\n",
       "      <td>0.0204</td>\n",
       "    </tr>\n",
       "  </tbody>\n",
       "</table>\n",
       "</div>"
      ],
      "text/plain": [
       "         Feature_name  Feature_importance\n",
       "0  RS0_Hydrophilicity              0.0450\n",
       "1  LS0_Hydrophilicity              0.0371\n",
       "2            RS0_Tilt              0.0280\n",
       "3  RS6_Hydrophilicity              0.0274\n",
       "4            RS0_Rise              0.0253\n",
       "5  LS6_Hydrophilicity              0.0228\n",
       "6           LS0_Twist              0.0214\n",
       "7                RB2A              0.0212\n",
       "8     RS0_Free energy              0.0207\n",
       "9           RS0_Slide              0.0204"
      ]
     },
     "execution_count": 32,
     "metadata": {},
     "output_type": "execute_result"
    }
   ],
   "source": [
    "feature_importance = (rf.feature_importances_).round(4)\n",
    "feature_importance = zip(X.keys(), feature_importance)\n",
    "feature_importance = sorted(list(feature_importance), key=lambda x:x[1], reverse=True)\n",
    "fi = pd.DataFrame(feature_importance, columns=['Feature_name', 'Feature_importance'])\n",
    "fi.head(N_to_print)"
   ]
  },
  {
   "cell_type": "markdown",
   "metadata": {},
   "source": [
    "# Further generalization analysis block"
   ]
  },
  {
   "cell_type": "code",
   "execution_count": 33,
   "metadata": {},
   "outputs": [],
   "source": [
    "CSV_FILE_SUBNAME_OBJECTS = \"Alu_vs_Shuffle\" # \"True_vs_False\"\n",
    "CSV_FILE_SUBNAME_TYPE = \"Phys-Chem-Struct\" # \"50b.p._Stats\" or \"Stem-loop_Stats\"\n",
    "CSV_FILE_SUBNAME = \"{0}__{1}.csv\".format(CSV_FILE_SUBNAME_OBJECTS, CSV_FILE_SUBNAME_TYPE)"
   ]
  },
  {
   "cell_type": "code",
   "execution_count": 34,
   "metadata": {},
   "outputs": [],
   "source": [
    "pd.DataFrame({\"fpr\": fpr, \"tpr\": tpr}).to_csv(\"AUC__{0}\".format(CSV_FILE_SUBNAME))\n",
    "pd.DataFrame({\"precision\": precision, \"recall\": recall}).to_csv(\"Prec-Recall__{0}\".format(CSV_FILE_SUBNAME))\n",
    "pd.DataFrame(fi).to_csv(\"Feature_importance__{0}.csv\".format(CSV_FILE_SUBNAME))"
   ]
  },
  {
   "cell_type": "code",
   "execution_count": null,
   "metadata": {},
   "outputs": [],
   "source": []
  }
 ],
 "metadata": {
  "kernelspec": {
   "display_name": "Python 3",
   "language": "python",
   "name": "python3"
  },
  "language_info": {
   "codemirror_mode": {
    "name": "ipython",
    "version": 3
   },
   "file_extension": ".py",
   "mimetype": "text/x-python",
   "name": "python",
   "nbconvert_exporter": "python",
   "pygments_lexer": "ipython3",
   "version": "3.6.6"
  }
 },
 "nbformat": 4,
 "nbformat_minor": 2
}
