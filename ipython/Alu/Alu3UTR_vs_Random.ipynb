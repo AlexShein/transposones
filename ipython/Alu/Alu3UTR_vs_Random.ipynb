{
 "cells": [
  {
   "cell_type": "code",
   "execution_count": 1,
   "metadata": {},
   "outputs": [],
   "source": [
    "from sklearn.ensemble import RandomForestClassifier\n",
    "from sklearn.model_selection import KFold, train_test_split\n",
    "from sklearn.metrics import roc_curve, auc, accuracy_score, precision_score, recall_score, precision_recall_curve, average_precision_score\n",
    "\n",
    "import numpy as np\n",
    "import pandas as pd\n",
    "\n",
    "import matplotlib.pyplot as plt\n",
    "import seaborn as sns\n",
    "sns.set()"
   ]
  },
  {
   "cell_type": "code",
   "execution_count": 2,
   "metadata": {},
   "outputs": [],
   "source": [
    "from pylab import rcParams\n",
    "rcParams['figure.figsize'] = 12, 8"
   ]
  },
  {
   "cell_type": "code",
   "execution_count": 3,
   "metadata": {},
   "outputs": [],
   "source": [
    "from link.src.py_scripts.process_pals import begin_processing"
   ]
  },
  {
   "cell_type": "code",
   "execution_count": 4,
   "metadata": {},
   "outputs": [],
   "source": [
    "random_seed = 17"
   ]
  },
  {
   "cell_type": "markdown",
   "metadata": {},
   "source": [
    "# Data preparation"
   ]
  },
  {
   "cell_type": "code",
   "execution_count": 5,
   "metadata": {},
   "outputs": [],
   "source": [
    "# True positive data\n",
    "# AluS\n",
    "PATH = '../../data/Alu/AluS/S10-20_L0-8_M5/'\n",
    "LINES = 'last'\n",
    "OMIT = ''\n",
    "OUTPUT_FILE = 'AluS3UTR.csv'\n",
    "N_LINES = 0"
   ]
  },
  {
   "cell_type": "code",
   "execution_count": 6,
   "metadata": {},
   "outputs": [
    {
     "name": "stderr",
     "output_type": "stream",
     "text": [
      "2018-11-28 15:53:53,703 - process_pals.py - INFO - Got 722 files\n",
      "2018-11-28 15:53:55,708 - process_pals.py - INFO - Got 722 lines\n",
      "2018-11-28 15:53:55,709 - process_pals.py - INFO - Processing with chunk_size = 91. Starting 8 workers\n",
      "2018-11-28 15:53:55,762 - link.src.py_scripts.process_line-20390 - INFO - Started new worker\n",
      "2018-11-28 15:53:55,761 - link.src.py_scripts.process_line-20388 - INFO - Started new worker\n",
      "2018-11-28 15:53:55,762 - link.src.py_scripts.process_line-20391 - INFO - Started new worker\n",
      "2018-11-28 15:53:55,761 - link.src.py_scripts.process_line-20389 - INFO - Started new worker\n",
      "2018-11-28 15:53:55,762 - link.src.py_scripts.process_line-20393 - INFO - Started new worker\n",
      "2018-11-28 15:53:55,762 - link.src.py_scripts.process_line-20395 - INFO - Started new worker\n",
      "2018-11-28 15:53:55,762 - link.src.py_scripts.process_line-20394 - INFO - Started new worker\n",
      "2018-11-28 15:53:55,762 - link.src.py_scripts.process_line-20392 - INFO - Started new worker\n",
      "2018-11-28 15:53:57,767 - link.src.py_scripts.process_line-20395 - INFO - Job finished, execution time 1.99 seconds\n",
      "2018-11-28 15:53:57,863 - link.src.py_scripts.process_line-20389 - INFO - Job finished, execution time 2.99 seconds\n",
      "2018-11-28 15:53:57,892 - link.src.py_scripts.process_line-20392 - INFO - Job finished, execution time 2.11 seconds\n",
      "2018-11-28 15:53:57,900 - link.src.py_scripts.process_line-20393 - INFO - Job finished, execution time 2.13 seconds\n",
      "2018-11-28 15:53:57,900 - link.src.py_scripts.process_line-20391 - INFO - Job finished, execution time 2.13 seconds\n",
      "2018-11-28 15:53:57,904 - link.src.py_scripts.process_line-20388 - INFO - Job finished, execution time 2.14 seconds\n",
      "2018-11-28 15:53:57,927 - link.src.py_scripts.process_line-20394 - INFO - Job finished, execution time 2.15 seconds\n",
      "2018-11-28 15:53:57,964 - link.src.py_scripts.process_line-20390 - INFO - Job finished, execution time 2.19 seconds\n",
      "2018-11-28 15:53:58,072 - process_pals.py - INFO - Combining results into single dict\n",
      "2018-11-28 15:53:58,073 - process_pals.py - INFO - Creating df\n",
      "2018-11-28 15:53:58,118 - process_pals.py - INFO - Writing df to AluS3UTR.csv\n",
      "2018-11-28 15:53:58,302 - process_pals.py - INFO - Done! Execution time 4.59 seconds\n"
     ]
    }
   ],
   "source": [
    "df_True_AluS = begin_processing(\n",
    "    PATH,\n",
    "    LINES,\n",
    "    OMIT,\n",
    "    output_file=OUTPUT_FILE,\n",
    "    n_lines=N_LINES,\n",
    "    write_to_csv=True,\n",
    ")"
   ]
  },
  {
   "cell_type": "code",
   "execution_count": 7,
   "metadata": {},
   "outputs": [],
   "source": [
    "# True positive data\n",
    "# AluY\n",
    "PATH = '../../data/Alu/AluY/S10-20_L0-8_M5/'\n",
    "LINES = 'last'\n",
    "OMIT = ''\n",
    "OUTPUT_FILE = 'AluY3UTR.csv'\n",
    "N_LINES = 0"
   ]
  },
  {
   "cell_type": "code",
   "execution_count": 8,
   "metadata": {},
   "outputs": [
    {
     "name": "stderr",
     "output_type": "stream",
     "text": [
      "2018-11-28 15:53:58,480 - process_pals.py - INFO - Got 11707 files\n",
      "2018-11-28 15:55:23,164 - process_pals.py - INFO - Got 11707 lines\n",
      "2018-11-28 15:55:23,164 - process_pals.py - INFO - Processing with chunk_size = 1464. Starting 8 workers\n",
      "2018-11-28 15:55:23,198 - link.src.py_scripts.process_line-20465 - INFO - Started new worker\n",
      "2018-11-28 15:55:23,199 - link.src.py_scripts.process_line-20466 - INFO - Started new worker\n",
      "2018-11-28 15:55:23,198 - link.src.py_scripts.process_line-20464 - INFO - Started new worker\n",
      "2018-11-28 15:55:23,199 - link.src.py_scripts.process_line-20467 - INFO - Started new worker\n",
      "2018-11-28 15:55:23,201 - link.src.py_scripts.process_line-20469 - INFO - Started new worker\n",
      "2018-11-28 15:55:23,202 - link.src.py_scripts.process_line-20470 - INFO - Started new worker\n",
      "2018-11-28 15:55:23,200 - link.src.py_scripts.process_line-20468 - INFO - Started new worker\n",
      "2018-11-28 15:55:23,204 - link.src.py_scripts.process_line-20471 - INFO - Started new worker\n",
      "2018-11-28 15:55:57,209 - link.src.py_scripts.process_line-20470 - INFO - Job finished, execution time 33.98 seconds\n",
      "2018-11-28 15:55:57,314 - link.src.py_scripts.process_line-20468 - INFO - Job finished, execution time 34.10 seconds\n",
      "2018-11-28 15:55:57,365 - link.src.py_scripts.process_line-20465 - INFO - Job finished, execution time 34.16 seconds\n",
      "2018-11-28 15:55:57,423 - link.src.py_scripts.process_line-20466 - INFO - Job finished, execution time 34.22 seconds\n",
      "2018-11-28 15:55:57,557 - link.src.py_scripts.process_line-20469 - INFO - Job finished, execution time 34.35 seconds\n",
      "2018-11-28 15:55:57,907 - link.src.py_scripts.process_line-20471 - INFO - Job finished, execution time 34.69 seconds\n",
      "2018-11-28 15:55:57,946 - link.src.py_scripts.process_line-20467 - INFO - Job finished, execution time 34.74 seconds\n",
      "2018-11-28 15:55:58,028 - link.src.py_scripts.process_line-20464 - INFO - Job finished, execution time 34.82 seconds\n",
      "2018-11-28 15:55:58,264 - process_pals.py - INFO - Combining results into single dict\n",
      "2018-11-28 15:55:58,265 - process_pals.py - INFO - Creating df\n",
      "2018-11-28 15:55:58,834 - process_pals.py - INFO - Writing df to AluY3UTR.csv\n",
      "2018-11-28 15:56:01,302 - process_pals.py - INFO - Done! Execution time 122.83 seconds\n"
     ]
    }
   ],
   "source": [
    "df_True_AluY = begin_processing(\n",
    "    PATH,\n",
    "    LINES,\n",
    "    OMIT,\n",
    "    output_file=OUTPUT_FILE,\n",
    "    n_lines=N_LINES,\n",
    "    write_to_csv=True,\n",
    ")"
   ]
  },
  {
   "cell_type": "code",
   "execution_count": 9,
   "metadata": {},
   "outputs": [],
   "source": [
    "df_True = pd.concat([df_True_AluS, df_True_AluY]).reset_index(drop=True)"
   ]
  },
  {
   "cell_type": "code",
   "execution_count": 10,
   "metadata": {},
   "outputs": [],
   "source": [
    "# True negative data\n",
    "PATH = '../../data/shuffle/S10-20_L0-8_M5/'\n",
    "LINES = 'rand'\n",
    "OMIT = ''\n",
    "OUTPUT_FILE = 'Random_non_transposon.csv'\n",
    "N_LINES = df_True.shape[0]"
   ]
  },
  {
   "cell_type": "code",
   "execution_count": 11,
   "metadata": {},
   "outputs": [
    {
     "name": "stderr",
     "output_type": "stream",
     "text": [
      "2018-11-28 15:56:01,902 - process_pals.py - INFO - Got 63870 files\n",
      "2018-11-28 16:03:22,290 - process_pals.py - INFO - Got 63870 lines\n",
      "2018-11-28 16:03:22,290 - process_pals.py - INFO - Processing with chunk_size = 7984. Starting 8 workers\n",
      "2018-11-28 16:03:22,401 - link.src.py_scripts.process_line-20597 - INFO - Started new worker\n",
      "2018-11-28 16:03:22,435 - link.src.py_scripts.process_line-20598 - INFO - Started new worker\n",
      "2018-11-28 16:03:22,472 - link.src.py_scripts.process_line-20599 - INFO - Started new worker\n",
      "2018-11-28 16:03:22,530 - link.src.py_scripts.process_line-20600 - INFO - Started new worker\n",
      "2018-11-28 16:03:22,600 - link.src.py_scripts.process_line-20601 - INFO - Started new worker\n",
      "2018-11-28 16:03:22,669 - link.src.py_scripts.process_line-20602 - INFO - Started new worker\n",
      "2018-11-28 16:03:22,737 - link.src.py_scripts.process_line-20603 - INFO - Started new worker\n",
      "2018-11-28 16:03:22,820 - link.src.py_scripts.process_line-20604 - INFO - Started new worker\n",
      "2018-11-28 16:06:28,835 - link.src.py_scripts.process_line-20598 - INFO - Job finished, execution time 186.39 seconds\n",
      "2018-11-28 16:06:29,114 - link.src.py_scripts.process_line-20597 - INFO - Job finished, execution time 186.71 seconds\n",
      "2018-11-28 16:06:29,524 - link.src.py_scripts.process_line-20599 - INFO - Job finished, execution time 187.49 seconds\n",
      "2018-11-28 16:06:31,163 - link.src.py_scripts.process_line-20601 - INFO - Job finished, execution time 188.56 seconds\n",
      "2018-11-28 16:06:31,191 - link.src.py_scripts.process_line-20603 - INFO - Job finished, execution time 188.45 seconds\n",
      "2018-11-28 16:06:31,524 - link.src.py_scripts.process_line-20600 - INFO - Job finished, execution time 188.99 seconds\n",
      "2018-11-28 16:06:32,505 - link.src.py_scripts.process_line-20602 - INFO - Job finished, execution time 189.82 seconds\n",
      "2018-11-28 16:06:34,563 - link.src.py_scripts.process_line-20604 - INFO - Job finished, execution time 191.74 seconds\n",
      "2018-11-28 16:06:35,426 - process_pals.py - INFO - Combining results into single dict\n",
      "2018-11-28 16:06:35,428 - process_pals.py - INFO - Creating df\n",
      "2018-11-28 16:06:39,592 - process_pals.py - INFO - Writing df to Random_non_transposon.csv\n",
      "2018-11-28 16:06:53,575 - process_pals.py - INFO - Done! Execution time 651.75 seconds\n"
     ]
    }
   ],
   "source": [
    "df_False = begin_processing(\n",
    "    PATH,\n",
    "    LINES,\n",
    "    OMIT,\n",
    "    output_file=OUTPUT_FILE,\n",
    "    n_lines=N_LINES,\n",
    "    write_to_csv=True,\n",
    "\n",
    ")"
   ]
  },
  {
   "cell_type": "markdown",
   "metadata": {},
   "source": [
    "# Data analysis & visualisation"
   ]
  },
  {
   "cell_type": "code",
   "execution_count": 12,
   "metadata": {},
   "outputs": [],
   "source": [
    "if df_True.shape[0] > df_False.shape[0]:\n",
    "    df_True_n = df_True.sample(df_False.shape[0], random_state=random_seed)\n",
    "    df_False_n = df_False\n",
    "else:\n",
    "    df_True_n = df_True\n",
    "    df_False_n = df_False.sample(df_True.shape[0], random_state=random_seed)\n",
    "    \n",
    "X = pd.concat([df_True_n, df_False_n], ignore_index=True)\n",
    "Y = pd.Series(np.append(np.full(df_True_n.shape[0], 1), \n",
    "                        np.full(df_False_n.shape[0], 0)))\n",
    "\n",
    "# Getting rid of unneeded columns\n",
    "X = X[X.columns[np.array(X.columns.map(lambda x: (len(x) > 4 or 'LP' in x or 'LB' in x or 'RB' in x) and 'GC' not in x), dtype='bool')]]"
   ]
  },
  {
   "cell_type": "code",
   "execution_count": 13,
   "metadata": {},
   "outputs": [],
   "source": [
    "rf = RandomForestClassifier(n_jobs=6, n_estimators=2000)\n",
    "folded_data = KFold(n_splits=5, random_state=random_seed, shuffle=True)"
   ]
  },
  {
   "cell_type": "code",
   "execution_count": 14,
   "metadata": {},
   "outputs": [
    {
     "name": "stderr",
     "output_type": "stream",
     "text": [
      "2018-11-28 16:08:00,366 - matplotlib.axes._base - DEBUG - update_title_pos\n",
      "2018-11-28 16:08:00,372 - matplotlib.font_manager - DEBUG - findfont: Matching :family=sans-serif:style=normal:variant=normal:weight=normal:stretch=normal:size=11.0 to DejaVu Sans ('/home/alexshein/.local/lib/python3.6/site-packages/matplotlib/mpl-data/fonts/ttf/DejaVuSans.ttf') with score of 2.050000.\n",
      "2018-11-28 16:08:00,385 - matplotlib.font_manager - DEBUG - findfont: Matching :family=sans-serif:style=normal:variant=normal:weight=normal:stretch=normal:size=12.0 to DejaVu Sans ('/home/alexshein/.local/lib/python3.6/site-packages/matplotlib/mpl-data/fonts/ttf/DejaVuSans.ttf') with score of 2.050000.\n",
      "2018-11-28 16:08:00,413 - matplotlib.font_manager - DEBUG - findfont: Matching :family=STIXGeneral:style=normal:variant=normal:weight=normal:stretch=normal:size=10.0 to STIXGeneral ('/home/alexshein/.local/lib/python3.6/site-packages/matplotlib/mpl-data/fonts/ttf/STIXGeneral.ttf') with score of 0.050000.\n",
      "2018-11-28 16:08:00,417 - matplotlib.font_manager - DEBUG - findfont: Matching :family=STIXGeneral:style=italic:variant=normal:weight=normal:stretch=normal:size=10.0 to STIXGeneral ('/home/alexshein/.local/lib/python3.6/site-packages/matplotlib/mpl-data/fonts/ttf/STIXGeneralItalic.ttf') with score of 0.050000.\n",
      "2018-11-28 16:08:00,420 - matplotlib.font_manager - DEBUG - findfont: Matching :family=STIXGeneral:style=normal:variant=normal:weight=bold:stretch=normal:size=10.0 to STIXGeneral ('/home/alexshein/.local/lib/python3.6/site-packages/matplotlib/mpl-data/fonts/ttf/STIXGeneralBol.ttf') with score of 0.000000.\n",
      "2018-11-28 16:08:00,423 - matplotlib.font_manager - DEBUG - findfont: Matching :family=STIXNonUnicode:style=normal:variant=normal:weight=normal:stretch=normal:size=10.0 to STIXNonUnicode ('/home/alexshein/.local/lib/python3.6/site-packages/matplotlib/mpl-data/fonts/ttf/STIXNonUni.ttf') with score of 0.050000.\n",
      "2018-11-28 16:08:00,429 - matplotlib.font_manager - DEBUG - findfont: Matching :family=STIXNonUnicode:style=italic:variant=normal:weight=normal:stretch=normal:size=10.0 to STIXNonUnicode ('/home/alexshein/.local/lib/python3.6/site-packages/matplotlib/mpl-data/fonts/ttf/STIXNonUniIta.ttf') with score of 0.050000.\n",
      "2018-11-28 16:08:00,430 - matplotlib.font_manager - DEBUG - findfont: Matching :family=STIXNonUnicode:style=normal:variant=normal:weight=bold:stretch=normal:size=10.0 to STIXNonUnicode ('/home/alexshein/.local/lib/python3.6/site-packages/matplotlib/mpl-data/fonts/ttf/STIXNonUniBol.ttf') with score of 0.000000.\n",
      "2018-11-28 16:08:00,435 - matplotlib.font_manager - DEBUG - findfont: Matching :family=STIXSizeOneSym:style=normal:variant=normal:weight=normal:stretch=normal:size=10.0 to STIXSizeOneSym ('/home/alexshein/.local/lib/python3.6/site-packages/matplotlib/mpl-data/fonts/ttf/STIXSizOneSymReg.ttf') with score of 0.050000.\n",
      "2018-11-28 16:08:00,439 - matplotlib.font_manager - DEBUG - findfont: Matching :family=STIXSizeTwoSym:style=normal:variant=normal:weight=normal:stretch=normal:size=10.0 to STIXSizeTwoSym ('/home/alexshein/.local/lib/python3.6/site-packages/matplotlib/mpl-data/fonts/ttf/STIXSizTwoSymReg.ttf') with score of 0.050000.\n",
      "2018-11-28 16:08:00,443 - matplotlib.font_manager - DEBUG - findfont: Matching :family=STIXSizeThreeSym:style=normal:variant=normal:weight=normal:stretch=normal:size=10.0 to STIXSizeThreeSym ('/home/alexshein/.local/lib/python3.6/site-packages/matplotlib/mpl-data/fonts/ttf/STIXSizThreeSymReg.ttf') with score of 0.050000.\n",
      "2018-11-28 16:08:00,445 - matplotlib.font_manager - DEBUG - findfont: Matching :family=STIXSizeFourSym:style=normal:variant=normal:weight=normal:stretch=normal:size=10.0 to STIXSizeFourSym ('/home/alexshein/.local/lib/python3.6/site-packages/matplotlib/mpl-data/fonts/ttf/STIXSizFourSymReg.ttf') with score of 0.050000.\n",
      "2018-11-28 16:08:00,447 - matplotlib.font_manager - DEBUG - findfont: Matching :family=STIXSizeFiveSym:style=normal:variant=normal:weight=normal:stretch=normal:size=10.0 to STIXSizeFiveSym ('/home/alexshein/.local/lib/python3.6/site-packages/matplotlib/mpl-data/fonts/ttf/STIXSizFiveSymReg.ttf') with score of 0.050000.\n",
      "2018-11-28 16:08:00,449 - matplotlib.font_manager - DEBUG - findfont: Matching :family=cmsy10:style=normal:variant=normal:weight=normal:stretch=normal:size=10.0 to cmsy10 ('/home/alexshein/.local/lib/python3.6/site-packages/matplotlib/mpl-data/fonts/ttf/cmsy10.ttf') with score of 0.050000.\n",
      "2018-11-28 16:08:00,451 - matplotlib.font_manager - DEBUG - findfont: Matching :family=cmr10:style=normal:variant=normal:weight=normal:stretch=normal:size=10.0 to cmr10 ('/home/alexshein/.local/lib/python3.6/site-packages/matplotlib/mpl-data/fonts/ttf/cmr10.ttf') with score of 0.050000.\n",
      "2018-11-28 16:08:00,453 - matplotlib.font_manager - DEBUG - findfont: Matching :family=cmtt10:style=normal:variant=normal:weight=normal:stretch=normal:size=10.0 to cmtt10 ('/home/alexshein/.local/lib/python3.6/site-packages/matplotlib/mpl-data/fonts/ttf/cmtt10.ttf') with score of 0.050000.\n",
      "2018-11-28 16:08:00,455 - matplotlib.font_manager - DEBUG - findfont: Matching :family=cmmi10:style=normal:variant=normal:weight=normal:stretch=normal:size=10.0 to cmmi10 ('/home/alexshein/.local/lib/python3.6/site-packages/matplotlib/mpl-data/fonts/ttf/cmmi10.ttf') with score of 0.050000.\n",
      "2018-11-28 16:08:00,457 - matplotlib.font_manager - DEBUG - findfont: Matching :family=cmb10:style=normal:variant=normal:weight=normal:stretch=normal:size=10.0 to cmb10 ('/home/alexshein/.local/lib/python3.6/site-packages/matplotlib/mpl-data/fonts/ttf/cmb10.ttf') with score of 0.050000.\n",
      "2018-11-28 16:08:00,459 - matplotlib.font_manager - DEBUG - findfont: Matching :family=cmss10:style=normal:variant=normal:weight=normal:stretch=normal:size=10.0 to cmss10 ('/home/alexshein/.local/lib/python3.6/site-packages/matplotlib/mpl-data/fonts/ttf/cmss10.ttf') with score of 0.050000.\n",
      "2018-11-28 16:08:00,461 - matplotlib.font_manager - DEBUG - findfont: Matching :family=cmex10:style=normal:variant=normal:weight=normal:stretch=normal:size=10.0 to cmex10 ('/home/alexshein/.local/lib/python3.6/site-packages/matplotlib/mpl-data/fonts/ttf/cmex10.ttf') with score of 0.050000.\n",
      "2018-11-28 16:08:00,463 - matplotlib.font_manager - DEBUG - findfont: Matching :family=DejaVu Sans:style=normal:variant=normal:weight=normal:stretch=normal:size=10.0 to DejaVu Sans ('/home/alexshein/.local/lib/python3.6/site-packages/matplotlib/mpl-data/fonts/ttf/DejaVuSans.ttf') with score of 0.050000.\n",
      "2018-11-28 16:08:00,465 - matplotlib.font_manager - DEBUG - findfont: Matching :family=DejaVu Sans:style=italic:variant=normal:weight=normal:stretch=normal:size=10.0 to DejaVu Sans ('/home/alexshein/.local/lib/python3.6/site-packages/matplotlib/mpl-data/fonts/ttf/DejaVuSans-Oblique.ttf') with score of 0.150000.\n",
      "2018-11-28 16:08:00,465 - matplotlib.font_manager - DEBUG - findfont: Matching :family=DejaVu Sans:style=normal:variant=normal:weight=bold:stretch=normal:size=10.0 to DejaVu Sans ('/home/alexshein/.local/lib/python3.6/site-packages/matplotlib/mpl-data/fonts/ttf/DejaVuSans-Bold.ttf') with score of 0.000000.\n",
      "2018-11-28 16:08:00,467 - matplotlib.font_manager - DEBUG - findfont: Matching :family=DejaVu Sans Mono:style=normal:variant=normal:weight=normal:stretch=normal:size=10.0 to DejaVu Sans Mono ('/home/alexshein/.local/lib/python3.6/site-packages/matplotlib/mpl-data/fonts/ttf/DejaVuSansMono.ttf') with score of 0.050000.\n",
      "2018-11-28 16:08:00,469 - matplotlib.font_manager - DEBUG - findfont: Matching :family=DejaVu Sans Display:style=normal:variant=normal:weight=normal:stretch=normal:size=10.0 to DejaVu Sans Display ('/home/alexshein/.local/lib/python3.6/site-packages/matplotlib/mpl-data/fonts/ttf/DejaVuSansDisplay.ttf') with score of 0.050000.\n",
      "2018-11-28 16:08:00,581 - matplotlib.axes._base - DEBUG - update_title_pos\n",
      "2018-11-28 16:08:00,604 - matplotlib.axes._base - DEBUG - update_title_pos\n",
      "2018-11-28 16:08:00,618 - matplotlib.axes._base - DEBUG - update_title_pos\n"
     ]
    },
    {
     "data": {
      "image/png": "[encoded data removed]",
      "text/plain": [
       "<Figure size 720x504 with 1 Axes>"
      ]
     },
     "metadata": {
      "needs_background": "light"
     },
     "output_type": "display_data"
    }
   ],
   "source": [
    "tprs = []\n",
    "aucs, acc, rec, prec = [], [], [], []\n",
    "\n",
    "mean_fpr = np.linspace(0, 1, 100)\n",
    "i = 0\n",
    "\n",
    "plt.figure(figsize=(10,7))\n",
    "for k, (train, test) in enumerate(folded_data.split(X, Y)):\n",
    "    probas_ = rf.fit(X.iloc[train], Y.iloc[train]).predict_proba(X.iloc[test])\n",
    "    # Compute ROC curve and area the curve\n",
    "    fpr, tpr, thresholds = roc_curve(Y.iloc[test], probas_[:, 1])\n",
    "    tprs.append(np.interp(mean_fpr, fpr, tpr))\n",
    "    tprs[-1][0] = 0.0\n",
    "    roc_auc = auc(fpr, tpr)\n",
    "    aucs.append(roc_auc)\n",
    "    Y_pred = rf.predict(X.iloc[test])\n",
    "    acc.append(accuracy_score(Y.iloc[test], Y_pred))\n",
    "    prec.append(precision_score(Y.iloc[test], Y_pred))\n",
    "    rec.append(recall_score(Y.iloc[test], Y_pred))\n",
    "    plt.plot(\n",
    "        fpr,\n",
    "        tpr,\n",
    "        lw=1,\n",
    "        alpha=0.3,\n",
    "        label='ROC fold %d (AUC = %0.2f)' % (k, roc_auc)\n",
    "    )\n",
    "\n",
    "plt.plot(\n",
    "    [0, 1],\n",
    "    [0, 1],\n",
    "    linestyle='--',\n",
    "    lw=2,\n",
    "    color='r',\n",
    "    label='Luck',\n",
    "    alpha=.8\n",
    ")\n",
    "fpr, tpr, thresholds = roc_curve(Y.iloc[test], probas_[:, 1])\n",
    "\n",
    "mean_tpr = np.mean(tprs, axis=0)\n",
    "mean_tpr[-1] = 1.0\n",
    "mean_auc = auc(mean_fpr, mean_tpr)\n",
    "std_auc = np.std(aucs)\n",
    "plt.plot(mean_fpr, mean_tpr, color='b',\n",
    "         label=r'Mean ROC (AUC = %0.2f $\\pm$ %0.2f)' % (mean_auc, std_auc),\n",
    "         lw=2, alpha=.8)\n",
    "\n",
    "std_tpr = np.std(tprs, axis=0)\n",
    "tprs_upper = np.minimum(mean_tpr + std_tpr, 1)\n",
    "tprs_lower = np.maximum(mean_tpr - std_tpr, 0)\n",
    "plt.fill_between(\n",
    "    mean_fpr,\n",
    "    tprs_lower,\n",
    "    tprs_upper,\n",
    "    color='grey',\n",
    "    alpha=.2,\n",
    "    label=r'$\\pm$ 1 std. dev.'\n",
    ")\n",
    "\n",
    "plt.xlim([-0.05, 1.05])\n",
    "plt.ylim([-0.05, 1.05])\n",
    "plt.xlabel('False Positive Rate')\n",
    "plt.ylabel('True Positive Rate')\n",
    "plt.title('Receiver operating characteristic for transposon recognition')\n",
    "plt.legend(loc=\"lower right\")\n",
    "plt.show()"
   ]
  },
  {
   "cell_type": "code",
   "execution_count": 15,
   "metadata": {},
   "outputs": [
    {
     "name": "stderr",
     "output_type": "stream",
     "text": [
      "2018-11-28 16:09:03,068 - matplotlib.axes._base - DEBUG - update_title_pos\n",
      "2018-11-28 16:09:03,135 - matplotlib.axes._base - DEBUG - update_title_pos\n",
      "2018-11-28 16:09:03,155 - matplotlib.axes._base - DEBUG - update_title_pos\n",
      "2018-11-28 16:09:03,167 - matplotlib.axes._base - DEBUG - update_title_pos\n"
     ]
    },
    {
     "data": {
      "image/png": "[encoded data removed]",
      "text/plain": [
       "<Figure size 720x504 with 1 Axes>"
      ]
     },
     "metadata": {
      "needs_background": "light"
     },
     "output_type": "display_data"
    }
   ],
   "source": [
    "precisions = []\n",
    "plt.figure(figsize=(10,7))\n",
    "for k, (train, test) in enumerate(folded_data.split(X, Y)):\n",
    "    probas_ = rf.fit(X.iloc[train], Y.iloc[train]).predict_proba(X.iloc[test])\n",
    "    precision, recall, _ = precision_recall_curve(Y.iloc[test], probas_[:, 1])\n",
    "    precisions.append(average_precision_score(Y.iloc[test], probas_[:, 1]))\n",
    "    plt.step(\n",
    "        recall,\n",
    "        precision,\n",
    "        alpha=0.5,\n",
    "        where='post',\n",
    "        label='Precision-recall fold {}'.format(k)\n",
    "    )\n",
    "average_precision = sum(precisions)/len(precisions)\n",
    "plt.xlabel('Recall')\n",
    "plt.ylabel('Precision')\n",
    "plt.ylim([0.0, 1.05])\n",
    "plt.xlim([0.0, 1.05])\n",
    "plt.title('2-class Precision-Recall curve: AP={0:0.2f}'.format(\n",
    "          average_precision))\n",
    "plt.legend(loc=\"lower right\")\n",
    "plt.show()"
   ]
  },
  {
   "cell_type": "markdown",
   "metadata": {},
   "source": [
    "# AUC, Accuracy, Precision & Recall"
   ]
  },
  {
   "cell_type": "code",
   "execution_count": 16,
   "metadata": {},
   "outputs": [
    {
     "data": {
      "text/plain": [
       "(0.9967, 0.9811, 0.9938, 0.9683)"
      ]
     },
     "execution_count": 16,
     "metadata": {},
     "output_type": "execute_result"
    }
   ],
   "source": [
    "mr = lambda x: np.round(np.mean(x), 4)\n",
    "mr(aucs), mr(acc), mr(prec), mr(rec)"
   ]
  },
  {
   "cell_type": "markdown",
   "metadata": {},
   "source": [
    "# Feature importance"
   ]
  },
  {
   "cell_type": "code",
   "execution_count": 17,
   "metadata": {},
   "outputs": [
    {
     "name": "stderr",
     "output_type": "stream",
     "text": [
      "2018-11-28 16:09:03,642 - matplotlib.axes._base - DEBUG - update_title_pos\n",
      "2018-11-28 16:09:03,722 - matplotlib.axes._base - DEBUG - update_title_pos\n",
      "2018-11-28 16:09:03,739 - matplotlib.axes._base - DEBUG - update_title_pos\n",
      "2018-11-28 16:09:03,749 - matplotlib.axes._base - DEBUG - update_title_pos\n"
     ]
    },
    {
     "data": {
      "image/png": "[encoded data removed]",
      "text/plain": [
       "<Figure size 864x576 with 1 Axes>"
      ]
     },
     "metadata": {
      "needs_background": "light"
     },
     "output_type": "display_data"
    },
    {
     "data": {
      "text/plain": [
       "<Figure size 720x504 with 0 Axes>"
      ]
     },
     "metadata": {},
     "output_type": "display_data"
    }
   ],
   "source": [
    "N_to_print = 10\n",
    "y_pos = range(N_to_print)\n",
    "fig, ax = plt.subplots()\n",
    "plt.figure(figsize=(10,7))\n",
    "\n",
    "feature_importance = rf.feature_importances_.round(4)\n",
    "feature_importance = zip(X.keys(), feature_importance)\n",
    "feature_importance = np.array(sorted(feature_importance, key=lambda x:x[1], reverse=True))\n",
    "\n",
    "ax.barh(y_pos, feature_importance[:N_to_print, 1].astype('float'), align='center', color='green')\n",
    "ax.set_yticks(np.arange(N_to_print))\n",
    "ax.set_yticklabels(feature_importance[:N_to_print, 0])\n",
    "ax.invert_yaxis()\n",
    "ax.set_xlabel('Importance score')\n",
    "\n",
    "plt.show()"
   ]
  },
  {
   "cell_type": "code",
   "execution_count": 18,
   "metadata": {},
   "outputs": [
    {
     "data": {
      "text/html": [
       "<div>\n",
       "<style scoped>\n",
       "    .dataframe tbody tr th:only-of-type {\n",
       "        vertical-align: middle;\n",
       "    }\n",
       "\n",
       "    .dataframe tbody tr th {\n",
       "        vertical-align: top;\n",
       "    }\n",
       "\n",
       "    .dataframe thead th {\n",
       "        text-align: right;\n",
       "    }\n",
       "</style>\n",
       "<table border=\"1\" class=\"dataframe\">\n",
       "  <thead>\n",
       "    <tr style=\"text-align: right;\">\n",
       "      <th></th>\n",
       "      <th>Feature_name</th>\n",
       "      <th>Feature_importance</th>\n",
       "    </tr>\n",
       "  </thead>\n",
       "  <tbody>\n",
       "    <tr>\n",
       "      <th>0</th>\n",
       "      <td>RS0_Hydrophilicity</td>\n",
       "      <td>0.0438</td>\n",
       "    </tr>\n",
       "    <tr>\n",
       "      <th>1</th>\n",
       "      <td>LS0_Hydrophilicity</td>\n",
       "      <td>0.0370</td>\n",
       "    </tr>\n",
       "    <tr>\n",
       "      <th>2</th>\n",
       "      <td>RS6_Hydrophilicity</td>\n",
       "      <td>0.0357</td>\n",
       "    </tr>\n",
       "    <tr>\n",
       "      <th>3</th>\n",
       "      <td>RS0_Tilt</td>\n",
       "      <td>0.0279</td>\n",
       "    </tr>\n",
       "    <tr>\n",
       "      <th>4</th>\n",
       "      <td>RS0_Rise</td>\n",
       "      <td>0.0272</td>\n",
       "    </tr>\n",
       "    <tr>\n",
       "      <th>5</th>\n",
       "      <td>LS6_Hydrophilicity</td>\n",
       "      <td>0.0235</td>\n",
       "    </tr>\n",
       "    <tr>\n",
       "      <th>6</th>\n",
       "      <td>RS0_Free energy</td>\n",
       "      <td>0.0212</td>\n",
       "    </tr>\n",
       "    <tr>\n",
       "      <th>7</th>\n",
       "      <td>LS0_Twist</td>\n",
       "      <td>0.0202</td>\n",
       "    </tr>\n",
       "    <tr>\n",
       "      <th>8</th>\n",
       "      <td>RB2A</td>\n",
       "      <td>0.0191</td>\n",
       "    </tr>\n",
       "    <tr>\n",
       "      <th>9</th>\n",
       "      <td>RS0_Enthalpy</td>\n",
       "      <td>0.0165</td>\n",
       "    </tr>\n",
       "  </tbody>\n",
       "</table>\n",
       "</div>"
      ],
      "text/plain": [
       "         Feature_name  Feature_importance\n",
       "0  RS0_Hydrophilicity              0.0438\n",
       "1  LS0_Hydrophilicity              0.0370\n",
       "2  RS6_Hydrophilicity              0.0357\n",
       "3            RS0_Tilt              0.0279\n",
       "4            RS0_Rise              0.0272\n",
       "5  LS6_Hydrophilicity              0.0235\n",
       "6     RS0_Free energy              0.0212\n",
       "7           LS0_Twist              0.0202\n",
       "8                RB2A              0.0191\n",
       "9        RS0_Enthalpy              0.0165"
      ]
     },
     "execution_count": 18,
     "metadata": {},
     "output_type": "execute_result"
    }
   ],
   "source": [
    "feature_importance = (rf.feature_importances_).round(4)\n",
    "feature_importance = zip(X.keys(), feature_importance)\n",
    "feature_importance = sorted(list(feature_importance), key=lambda x:x[1], reverse=True)\n",
    "fi = pd.DataFrame(feature_importance, columns=['Feature_name', 'Feature_importance'])\n",
    "fi.head(N_to_print)"
   ]
  },
  {
   "cell_type": "markdown",
   "metadata": {},
   "source": [
    "# Further generalization analysis block"
   ]
  },
  {
   "cell_type": "code",
   "execution_count": 19,
   "metadata": {},
   "outputs": [],
   "source": [
    "CSV_FILE_SUBNAME_OBJECTS = \"Alu_vs_Shuffle\" # \"True_vs_False\"\n",
    "CSV_FILE_SUBNAME_TYPE = \"Phys-Chem-Struct\" # \"50b.p._Stats\" or \"Stem-loop_Stats\"\n",
    "CSV_FILE_SUBNAME = \"{0}__{1}\".format(CSV_FILE_SUBNAME_OBJECTS, CSV_FILE_SUBNAME_TYPE)"
   ]
  },
  {
   "cell_type": "code",
   "execution_count": 34,
   "metadata": {},
   "outputs": [],
   "source": [
    "pd.DataFrame.from_dict(\n",
    "    {\"Groups\": [CSV_FILE_SUBNAME_OBJECTS],\"fpr\": [mr(fpr)], \"tpr\": [mr(tpr)], \"precision\": [mr(precision)], \"recall\": [mr(recall)]},\n",
    "    orient='columns'\n",
    ").to_csv(\"Stats__{0}.csv\".format(CSV_FILE_SUBNAME), index=False)\n",
    "pd.DataFrame(fi).to_csv(\"Feature_importance__{0}.csv\".format(CSV_FILE_SUBNAME))"
   ]
  },
  {
   "cell_type": "code",
   "execution_count": null,
   "metadata": {},
   "outputs": [],
   "source": []
  }
 ],
 "metadata": {
  "kernelspec": {
   "display_name": "Python 3",
   "language": "python",
   "name": "python3"
  },
  "language_info": {
   "codemirror_mode": {
    "name": "ipython",
    "version": 3
   },
   "file_extension": ".py",
   "mimetype": "text/x-python",
   "name": "python",
   "nbconvert_exporter": "python",
   "pygments_lexer": "ipython3",
   "version": "3.6.6"
  }
 },
 "nbformat": 4,
 "nbformat_minor": 2
}
