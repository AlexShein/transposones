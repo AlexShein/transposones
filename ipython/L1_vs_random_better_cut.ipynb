{
 "cells": [
  {
   "cell_type": "code",
   "execution_count": 1,
   "metadata": {},
   "outputs": [],
   "source": [
    "#import xgboost\n",
    "from sklearn.ensemble import RandomForestClassifier\n",
    "from sklearn.model_selection import GridSearchCV, train_test_split\n",
    "from sklearn.metrics import roc_curve, auc, roc_auc_score, accuracy_score, precision_score, recall_score\n",
    "import matplotlib.pyplot as plt\n",
    "import numpy as np\n",
    "from itertools import product\n",
    "from collections import defaultdict\n",
    "import pandas as pd"
   ]
  },
  {
   "cell_type": "code",
   "execution_count": 2,
   "metadata": {},
   "outputs": [],
   "source": [
    "np.random.seed(7)"
   ]
  },
  {
   "cell_type": "code",
   "execution_count": 3,
   "metadata": {},
   "outputs": [],
   "source": [
    "def get_triplets(lst):\n",
    "    \"\"\"\n",
    "    '1234' -> ['123','234']\n",
    "    \"\"\"\n",
    "    res = []\n",
    "    for i in range(len(lst) - 2):\n",
    "        res.append(lst[i]+lst[i + 1]+lst[i + 2])\n",
    "    return res\n",
    "\n",
    "\n",
    "def get_dinucleotides(lst):\n",
    "    \"\"\"\n",
    "    '123' -> ['12', '23']\n",
    "    \"\"\"\n",
    "    res = []\n",
    "    for i in range(len(lst) - 1):\n",
    "        res.append(lst[i]+lst[i + 1])\n",
    "    return res"
   ]
  },
  {
   "cell_type": "code",
   "execution_count": 4,
   "metadata": {},
   "outputs": [],
   "source": [
    "#True: Last bases of Alus\n",
    "with open('/Users/alexandershein/Code/study/CourseProject/transposones/sequences/L1_last_50_bs_2.txt','r') as f:\n",
    "    dt = np.unique(list(map(lambda x: x.strip(),f.readlines())))"
   ]
  },
  {
   "cell_type": "code",
   "execution_count": 5,
   "metadata": {},
   "outputs": [],
   "source": [
    "#False: Random genome sequences\n",
    "with open('/Users/alexandershein/Code/study/CourseProject/transposones/sequences/random_nt_seq.txt','r') as f:\n",
    "    df = np.unique(list(map(lambda x: x.strip(),f.readlines())))\n"
   ]
  },
  {
   "cell_type": "code",
   "execution_count": 6,
   "metadata": {},
   "outputs": [
    {
     "data": {
      "text/plain": [
       "(4248, 19999)"
      ]
     },
     "execution_count": 6,
     "metadata": {},
     "output_type": "execute_result"
    }
   ],
   "source": [
    "len(dt), len(df)"
   ]
  },
  {
   "cell_type": "code",
   "execution_count": 7,
   "metadata": {},
   "outputs": [],
   "source": [
    "# Balancing alternative\n",
    "# d = df if len(df) > len(dt) else dt\n",
    "p = len(df)/len(dt); m = min(p,1/p)\n",
    "np.random.seed(7)\n",
    "df = np.random.choice(df,round(len(df)*m), replace=False)\n",
    "dt = np.random.choice(dt, len(dt), replace=False)"
   ]
  },
  {
   "cell_type": "code",
   "execution_count": 8,
   "metadata": {},
   "outputs": [
    {
     "data": {
      "text/plain": [
       "(4248, 4248)"
      ]
     },
     "execution_count": 8,
     "metadata": {},
     "output_type": "execute_result"
    }
   ],
   "source": [
    "len(dt), len(df)"
   ]
  },
  {
   "cell_type": "code",
   "execution_count": 9,
   "metadata": {},
   "outputs": [],
   "source": [
    "alph = ['A','C','G','T']\n",
    "alph_dict = {'A':1,'C':2,'G':3,'T':4}\n",
    "pairs = [''.join(i) for i in product(alph, repeat=2)]\n",
    "triplets = [''.join(i) for i in product(alph, repeat=3)]"
   ]
  },
  {
   "cell_type": "code",
   "execution_count": 10,
   "metadata": {},
   "outputs": [],
   "source": [
    "x_t, y_t = [], []\n",
    "for line in dt:\n",
    "    row = {}\n",
    "    for di_n in get_dinucleotides(line)+get_triplets(line):\n",
    "        row[di_n]=row.get(di_n,0)+1\n",
    "    for pos in range(len(line)):\n",
    "        row[f'P{pos}']=alph_dict[line[pos]]\n",
    "    y_t.append(1)\n",
    "    x_t.append(row)"
   ]
  },
  {
   "cell_type": "code",
   "execution_count": 11,
   "metadata": {},
   "outputs": [],
   "source": [
    "x_f, y_f = [], []\n",
    "for line in df:\n",
    "    row = {}\n",
    "    for di_n in get_dinucleotides(line)+get_triplets(line):\n",
    "        row[di_n]=row.get(di_n,0)+1\n",
    "    for pos in range(len(line)):\n",
    "        row[f'P{pos}']=alph_dict[line[pos]]\n",
    "    y_f.append(0)\n",
    "    x_f.append(row)"
   ]
  },
  {
   "cell_type": "code",
   "execution_count": 12,
   "metadata": {},
   "outputs": [],
   "source": [
    "x_all = pd.DataFrame(x_t + x_f).fillna(0)\n",
    "y_all = np.array(y_t + y_f)"
   ]
  },
  {
   "cell_type": "code",
   "execution_count": 13,
   "metadata": {},
   "outputs": [],
   "source": [
    "x_train, x_test, y_train, y_test = train_test_split(x_all, y_all, random_state=7, test_size=0.3)"
   ]
  },
  {
   "cell_type": "code",
   "execution_count": 14,
   "metadata": {},
   "outputs": [
    {
     "data": {
      "text/plain": [
       "(0.4978980998822936, 0.5049038838760298)"
      ]
     },
     "execution_count": 14,
     "metadata": {},
     "output_type": "execute_result"
    }
   ],
   "source": [
    "np.mean(y_train), np.mean(y_test)"
   ]
  },
  {
   "cell_type": "code",
   "execution_count": 15,
   "metadata": {},
   "outputs": [],
   "source": [
    "#tr = xgboost.XGBClassifier(max_depth=5,n_estimators=100,random_state=7)\n",
    "#params = {\"max_depth\":[5,8,11,15,20], \"n_estimators\":[100,1000,2000]}"
   ]
  },
  {
   "cell_type": "code",
   "execution_count": 16,
   "metadata": {},
   "outputs": [],
   "source": [
    "tr = RandomForestClassifier(max_depth=5,n_estimators=100,random_state=7)\n",
    "params = {\"max_depth\":[5,8,11,15,20], \"n_estimators\":[100,1000,2000]}"
   ]
  },
  {
   "cell_type": "code",
   "execution_count": 17,
   "metadata": {},
   "outputs": [],
   "source": [
    "gr = GridSearchCV(tr,param_grid=params,n_jobs=6,cv=5,)"
   ]
  },
  {
   "cell_type": "code",
   "execution_count": 18,
   "metadata": {},
   "outputs": [
    {
     "data": {
      "text/plain": [
       "GridSearchCV(cv=5, error_score='raise',\n",
       "       estimator=RandomForestClassifier(bootstrap=True, class_weight=None, criterion='gini',\n",
       "            max_depth=5, max_features='auto', max_leaf_nodes=None,\n",
       "            min_impurity_decrease=0.0, min_impurity_split=None,\n",
       "            min_samples_leaf=1, min_samples_split=2,\n",
       "            min_weight_fraction_leaf=0.0, n_estimators=100, n_jobs=1,\n",
       "            oob_score=False, random_state=7, verbose=0, warm_start=False),\n",
       "       fit_params=None, iid=True, n_jobs=6,\n",
       "       param_grid={'max_depth': [5, 8, 11, 15, 20], 'n_estimators': [100, 1000, 2000]},\n",
       "       pre_dispatch='2*n_jobs', refit=True, return_train_score='warn',\n",
       "       scoring=None, verbose=0)"
      ]
     },
     "execution_count": 18,
     "metadata": {},
     "output_type": "execute_result"
    }
   ],
   "source": [
    "gr.fit(x_train,y_train)"
   ]
  },
  {
   "cell_type": "code",
   "execution_count": 19,
   "metadata": {},
   "outputs": [
    {
     "data": {
      "text/plain": [
       "(0.9857070791995964, {'max_depth': 11, 'n_estimators': 1000})"
      ]
     },
     "execution_count": 19,
     "metadata": {},
     "output_type": "execute_result"
    }
   ],
   "source": [
    "gr.best_score_, gr.best_params_"
   ]
  },
  {
   "cell_type": "code",
   "execution_count": 20,
   "metadata": {},
   "outputs": [],
   "source": [
    "y_pred = gr.best_estimator_.predict(x_test)"
   ]
  },
  {
   "cell_type": "code",
   "execution_count": 21,
   "metadata": {},
   "outputs": [
    {
     "data": {
      "text/plain": [
       "0.9836368069331619"
      ]
     },
     "execution_count": 21,
     "metadata": {},
     "output_type": "execute_result"
    }
   ],
   "source": [
    "roc_auc_score(y_test,y_pred)"
   ]
  },
  {
   "cell_type": "code",
   "execution_count": 22,
   "metadata": {},
   "outputs": [],
   "source": [
    "fpr, tpr, _ = roc_curve(y_test,gr.best_estimator_.predict_proba(x_test)[:,1])"
   ]
  },
  {
   "cell_type": "code",
   "execution_count": 23,
   "metadata": {},
   "outputs": [
    {
     "data": {
      "image/png": "[encoded data removed]",
      "text/plain": [
       "<Figure size 432x288 with 1 Axes>"
      ]
     },
     "metadata": {},
     "output_type": "display_data"
    }
   ],
   "source": [
    "plt.plot(fpr,tpr);"
   ]
  },
  {
   "cell_type": "code",
   "execution_count": 24,
   "metadata": {},
   "outputs": [
    {
     "data": {
      "text/plain": [
       "0.9978481634583061"
      ]
     },
     "execution_count": 24,
     "metadata": {},
     "output_type": "execute_result"
    }
   ],
   "source": [
    "auc(fpr,tpr)"
   ]
  },
  {
   "cell_type": "code",
   "execution_count": 25,
   "metadata": {},
   "outputs": [
    {
     "data": {
      "text/plain": [
       "(0.9835229501765398, 0.9952267303102625, 0.972027972027972)"
      ]
     },
     "execution_count": 25,
     "metadata": {},
     "output_type": "execute_result"
    }
   ],
   "source": [
    "accuracy_score(y_test,y_pred), precision_score(y_test,y_pred), recall_score(y_test,y_pred)"
   ]
  },
  {
   "cell_type": "code",
   "execution_count": 26,
   "metadata": {},
   "outputs": [
    {
     "data": {
      "text/plain": [
       "[('GTA', 0.09003652401418663),\n",
       " ('AC', 0.08263213018107105),\n",
       " ('AAC', 0.06958450467775397),\n",
       " ('GG', 0.06606977710733704),\n",
       " ('GA', 0.0589286889949739),\n",
       " ('ACC', 0.040623842679485905),\n",
       " ('AG', 0.038107280703247225),\n",
       " ('P49', 0.037367406674669396),\n",
       " ('P48', 0.032662350840522394),\n",
       " ('TA', 0.027445636028882586),\n",
       " ('TAA', 0.026271160998739603),\n",
       " ('TGT', 0.026077784462887908),\n",
       " ('TC', 0.02251505724437253),\n",
       " ('TGC', 0.021894471882359795),\n",
       " ('GCA', 0.020227116398951625),\n",
       " ('CAC', 0.019800726103241597),\n",
       " ('AA', 0.0186484417477189),\n",
       " ('TT', 0.015406860119575991),\n",
       " ('AGG', 0.012817232900039197),\n",
       " ('GAG', 0.012249330515451122),\n",
       " ('P46', 0.012143580954836695),\n",
       " ('TGG', 0.011154906199248584),\n",
       " ('CCC', 0.01097012552442134),\n",
       " ('AAA', 0.010537447667240102),\n",
       " ('GGA', 0.010107618547267319),\n",
       " ('GAT', 0.008731715068816155),\n",
       " ('CCT', 0.008655499864466037),\n",
       " ('TTT', 0.007450690099280189),\n",
       " ('CC', 0.007399913792329531),\n",
       " ('ATG', 0.007329509760446909),\n",
       " ('ACA', 0.00692941540889534),\n",
       " ('TCA', 0.006888318923768462),\n",
       " ('GCT', 0.006589500625676686),\n",
       " ('TGA', 0.006278819696147658),\n",
       " ('CAT', 0.0052804050183160485),\n",
       " ('P45', 0.005244837190029616),\n",
       " ('GGC', 0.00497872350101556),\n",
       " ('CA', 0.00409791037969558),\n",
       " ('GT', 0.0040377284948682046),\n",
       " ('GTC', 0.0037529873711299165),\n",
       " ('TAT', 0.003168404388039106),\n",
       " ('GAC', 0.0031030741021607863),\n",
       " ('P41', 0.002986959546532226),\n",
       " ('AT', 0.0029025052154312693),\n",
       " ('TG', 0.0028166097381881667),\n",
       " ('CAG', 0.0027600744923234996),\n",
       " ('GGT', 0.0027436470261481692),\n",
       " ('CT', 0.0026140570800576722),\n",
       " ('CTC', 0.0025250734539415225),\n",
       " ('TTC', 0.0025241430980483958),\n",
       " ('ATA', 0.0024844978269754053),\n",
       " ('P40', 0.0024682510033939287),\n",
       " ('P38', 0.0023398079438760704),\n",
       " ('TTA', 0.0022964613869886166),\n",
       " ('GCC', 0.002272852938926606),\n",
       " ('AGC', 0.002241324690742861),\n",
       " ('GGG', 0.002193327246324069),\n",
       " ('TAC', 0.0021671643427408596),\n",
       " ('P47', 0.0020804168580842992),\n",
       " ('CTG', 0.0018838785541624582),\n",
       " ('ATT', 0.0017630159163840905),\n",
       " ('TCT', 0.0017610412686611396),\n",
       " ('AGA', 0.0016406419177732443),\n",
       " ('GC', 0.00163261921371935),\n",
       " ('AAT', 0.001591165307248111),\n",
       " ('CAA', 0.0015545791910931207),\n",
       " ('ACT', 0.0015541249127481477),\n",
       " ('P33', 0.0014149940030580923),\n",
       " ('CTT', 0.0013326112932134679),\n",
       " ('P43', 0.0013225008259825529),\n",
       " ('P27', 0.0012775774515430612),\n",
       " ('P39', 0.0011897507195965473),\n",
       " ('CCA', 0.0011810871292183163),\n",
       " ('P44', 0.0011674677643171987),\n",
       " ('TAG', 0.0010842192002352394),\n",
       " ('AGT', 0.0010810415083106159),\n",
       " ('P12', 0.0010494266150802517),\n",
       " ('P15', 0.0010289792444341831),\n",
       " ('TCC', 0.0009999830945512515),\n",
       " ('TTG', 0.000972728056034335),\n",
       " ('ATC', 0.0009613536329971949),\n",
       " ('P3', 0.0009576312126208185),\n",
       " ('P30', 0.0009493467877076992),\n",
       " ('ACG', 0.0009413459429077155),\n",
       " ('AAG', 0.0009279234126999129),\n",
       " ('CGT', 0.00091006673789468),\n",
       " ('GAA', 0.0008939763280146843),\n",
       " ('P1', 0.0008933514557753077),\n",
       " ('P7', 0.0008751006019560417),\n",
       " ('P35', 0.0008622019208578535),\n",
       " ('CTA', 0.0008610887051738161),\n",
       " ('P28', 0.0008456757005111086),\n",
       " ('P5', 0.000841575022234103),\n",
       " ('P37', 0.0008397961222919089),\n",
       " ('P24', 0.0008383537150190178),\n",
       " ('P42', 0.0008186327924982629),\n",
       " ('P11', 0.0008117323393798386),\n",
       " ('P0', 0.0007913324710729596),\n",
       " ('P25', 0.0007847615905982963),\n",
       " ('P26', 0.0007732416445427213),\n",
       " ('P31', 0.0007619900824193054),\n",
       " ('P6', 0.0007593321426235902),\n",
       " ('P16', 0.000758621513246649),\n",
       " ('P19', 0.0007554487064722218),\n",
       " ('P8', 0.0007485882145102472),\n",
       " ('P34', 0.0007468759872227825),\n",
       " ('P14', 0.0007442241108518466),\n",
       " ('P4', 0.0007432304037040836),\n",
       " ('P32', 0.0007429880287810822),\n",
       " ('P10', 0.0007278392228742598),\n",
       " ('GTT', 0.0007221592539042098),\n",
       " ('P22', 0.0007206681916667696),\n",
       " ('P20', 0.0007059103470415004),\n",
       " ('P29', 0.0007047757148204941),\n",
       " ('P18', 0.000703726758650375),\n",
       " ('P36', 0.0006994976685501467),\n",
       " ('P17', 0.0006990153159930862),\n",
       " ('P9', 0.0006836754564271282),\n",
       " ('P13', 0.0006606003181326654),\n",
       " ('P2', 0.0006579894036823099),\n",
       " ('GTG', 0.0006205016395131791),\n",
       " ('P21', 0.0006146391828129303),\n",
       " ('P23', 0.000605835083161723),\n",
       " ('CG', 0.0004271617675860549),\n",
       " ('CGC', 0.00019989000446860302),\n",
       " ('CCG', 0.00014156980617161023),\n",
       " ('CGA', 0.00013613734863122568),\n",
       " ('GCG', 0.00012969397801527346),\n",
       " ('CGG', 0.00010353403379765253),\n",
       " ('TCG', 9.732824786042846e-05)]"
      ]
     },
     "execution_count": 26,
     "metadata": {},
     "output_type": "execute_result"
    }
   ],
   "source": [
    "top_features = list(sorted(zip(x_train.columns, gr.best_estimator_.feature_importances_), key=lambda x: x[1], reverse=True))\n",
    "top_features"
   ]
  },
  {
   "cell_type": "code",
   "execution_count": 27,
   "metadata": {},
   "outputs": [
    {
     "data": {
      "text/plain": [
       "130"
      ]
     },
     "execution_count": 27,
     "metadata": {},
     "output_type": "execute_result"
    }
   ],
   "source": [
    "len(gr.best_estimator_.feature_importances_)"
   ]
  },
  {
   "cell_type": "code",
   "execution_count": 28,
   "metadata": {},
   "outputs": [
    {
     "data": {
      "text/plain": [
       "130"
      ]
     },
     "execution_count": 28,
     "metadata": {},
     "output_type": "execute_result"
    }
   ],
   "source": [
    "len(x_train.columns)"
   ]
  },
  {
   "cell_type": "code",
   "execution_count": 29,
   "metadata": {},
   "outputs": [
    {
     "data": {
      "text/plain": [
       "{'bootstrap': True,\n",
       " 'class_weight': None,\n",
       " 'criterion': 'gini',\n",
       " 'max_depth': 11,\n",
       " 'max_features': 'auto',\n",
       " 'max_leaf_nodes': None,\n",
       " 'min_impurity_decrease': 0.0,\n",
       " 'min_impurity_split': None,\n",
       " 'min_samples_leaf': 1,\n",
       " 'min_samples_split': 2,\n",
       " 'min_weight_fraction_leaf': 0.0,\n",
       " 'n_estimators': 1000,\n",
       " 'n_jobs': 1,\n",
       " 'oob_score': False,\n",
       " 'random_state': 7,\n",
       " 'verbose': 0,\n",
       " 'warm_start': False}"
      ]
     },
     "execution_count": 29,
     "metadata": {},
     "output_type": "execute_result"
    }
   ],
   "source": [
    "gr.best_estimator_.get_params()"
   ]
  },
  {
   "cell_type": "code",
   "execution_count": 30,
   "metadata": {},
   "outputs": [
    {
     "data": {
      "text/html": [
       "<div>\n",
       "<style scoped>\n",
       "    .dataframe tbody tr th:only-of-type {\n",
       "        vertical-align: middle;\n",
       "    }\n",
       "\n",
       "    .dataframe tbody tr th {\n",
       "        vertical-align: top;\n",
       "    }\n",
       "\n",
       "    .dataframe thead th {\n",
       "        text-align: right;\n",
       "    }\n",
       "</style>\n",
       "<table border=\"1\" class=\"dataframe\">\n",
       "  <thead>\n",
       "    <tr style=\"text-align: right;\">\n",
       "      <th></th>\n",
       "      <th>AA</th>\n",
       "      <th>AC</th>\n",
       "      <th>AG</th>\n",
       "      <th>AT</th>\n",
       "      <th>CA</th>\n",
       "      <th>CC</th>\n",
       "      <th>CG</th>\n",
       "      <th>CT</th>\n",
       "      <th>GA</th>\n",
       "      <th>GC</th>\n",
       "      <th>GG</th>\n",
       "      <th>GT</th>\n",
       "      <th>TA</th>\n",
       "      <th>TC</th>\n",
       "      <th>TG</th>\n",
       "      <th>TT</th>\n",
       "    </tr>\n",
       "  </thead>\n",
       "  <tbody>\n",
       "    <tr>\n",
       "      <th>Mean t</th>\n",
       "      <td>7.0720</td>\n",
       "      <td>5.2589</td>\n",
       "      <td>1.5574</td>\n",
       "      <td>4.0702</td>\n",
       "      <td>4.4659</td>\n",
       "      <td>3.0958</td>\n",
       "      <td>0.4859</td>\n",
       "      <td>3.3482</td>\n",
       "      <td>0.7514</td>\n",
       "      <td>1.8147</td>\n",
       "      <td>0.1693</td>\n",
       "      <td>3.7446</td>\n",
       "      <td>5.4209</td>\n",
       "      <td>0.7964</td>\n",
       "      <td>4.2827</td>\n",
       "      <td>2.6657</td>\n",
       "    </tr>\n",
       "    <tr>\n",
       "      <th>Mean f</th>\n",
       "      <td>4.6798</td>\n",
       "      <td>2.4353</td>\n",
       "      <td>3.5301</td>\n",
       "      <td>3.7387</td>\n",
       "      <td>3.5473</td>\n",
       "      <td>2.5845</td>\n",
       "      <td>0.4546</td>\n",
       "      <td>3.4616</td>\n",
       "      <td>2.9287</td>\n",
       "      <td>2.0777</td>\n",
       "      <td>2.6057</td>\n",
       "      <td>2.4901</td>\n",
       "      <td>3.2465</td>\n",
       "      <td>2.9480</td>\n",
       "      <td>3.5056</td>\n",
       "      <td>4.7658</td>\n",
       "    </tr>\n",
       "    <tr>\n",
       "      <th>Std t</th>\n",
       "      <td>2.0862</td>\n",
       "      <td>1.2122</td>\n",
       "      <td>0.8200</td>\n",
       "      <td>1.5131</td>\n",
       "      <td>1.1364</td>\n",
       "      <td>1.1808</td>\n",
       "      <td>0.6288</td>\n",
       "      <td>0.8955</td>\n",
       "      <td>0.7018</td>\n",
       "      <td>0.7671</td>\n",
       "      <td>0.4445</td>\n",
       "      <td>1.2067</td>\n",
       "      <td>1.3856</td>\n",
       "      <td>1.0244</td>\n",
       "      <td>1.1750</td>\n",
       "      <td>1.4967</td>\n",
       "    </tr>\n",
       "    <tr>\n",
       "      <th>Std f</th>\n",
       "      <td>3.3750</td>\n",
       "      <td>1.6312</td>\n",
       "      <td>2.0264</td>\n",
       "      <td>2.3129</td>\n",
       "      <td>1.8820</td>\n",
       "      <td>2.5204</td>\n",
       "      <td>0.9290</td>\n",
       "      <td>2.0541</td>\n",
       "      <td>1.8884</td>\n",
       "      <td>1.6440</td>\n",
       "      <td>2.5532</td>\n",
       "      <td>1.6889</td>\n",
       "      <td>2.3104</td>\n",
       "      <td>1.9487</td>\n",
       "      <td>1.8899</td>\n",
       "      <td>3.4527</td>\n",
       "    </tr>\n",
       "  </tbody>\n",
       "</table>\n",
       "</div>"
      ],
      "text/plain": [
       "            AA      AC      AG      AT      CA      CC      CG      CT  \\\n",
       "Mean t  7.0720  5.2589  1.5574  4.0702  4.4659  3.0958  0.4859  3.3482   \n",
       "Mean f  4.6798  2.4353  3.5301  3.7387  3.5473  2.5845  0.4546  3.4616   \n",
       "Std t   2.0862  1.2122  0.8200  1.5131  1.1364  1.1808  0.6288  0.8955   \n",
       "Std f   3.3750  1.6312  2.0264  2.3129  1.8820  2.5204  0.9290  2.0541   \n",
       "\n",
       "            GA      GC      GG      GT      TA      TC      TG      TT  \n",
       "Mean t  0.7514  1.8147  0.1693  3.7446  5.4209  0.7964  4.2827  2.6657  \n",
       "Mean f  2.9287  2.0777  2.6057  2.4901  3.2465  2.9480  3.5056  4.7658  \n",
       "Std t   0.7018  0.7671  0.4445  1.2067  1.3856  1.0244  1.1750  1.4967  \n",
       "Std f   1.8884  1.6440  2.5532  1.6889  2.3104  1.9487  1.8899  3.4527  "
      ]
     },
     "execution_count": 30,
     "metadata": {},
     "output_type": "execute_result"
    }
   ],
   "source": [
    "pd.DataFrame(\n",
    "    columns=pairs, data=[\n",
    "        x_all[y_all==1][pairs].mean(),\n",
    "        x_all[y_all==0][pairs].mean(),\n",
    "        x_all[y_all==1][pairs].std(),\n",
    "        x_all[y_all==0][pairs].std()\n",
    "    ],\n",
    "    index=['Mean t', 'Mean f', 'Std t', 'Std f']\n",
    ").round(4)"
   ]
  },
  {
   "cell_type": "code",
   "execution_count": 31,
   "metadata": {},
   "outputs": [
    {
     "data": {
      "text/html": [
       "<div>\n",
       "<style scoped>\n",
       "    .dataframe tbody tr th:only-of-type {\n",
       "        vertical-align: middle;\n",
       "    }\n",
       "\n",
       "    .dataframe tbody tr th {\n",
       "        vertical-align: top;\n",
       "    }\n",
       "\n",
       "    .dataframe thead th {\n",
       "        text-align: right;\n",
       "    }\n",
       "</style>\n",
       "<table border=\"1\" class=\"dataframe\">\n",
       "  <thead>\n",
       "    <tr style=\"text-align: right;\">\n",
       "      <th></th>\n",
       "      <th>AAA</th>\n",
       "      <th>AAC</th>\n",
       "      <th>AAG</th>\n",
       "      <th>AAT</th>\n",
       "      <th>ACA</th>\n",
       "      <th>ACC</th>\n",
       "      <th>ACG</th>\n",
       "      <th>ACT</th>\n",
       "      <th>AGA</th>\n",
       "      <th>AGC</th>\n",
       "      <th>...</th>\n",
       "      <th>TCG</th>\n",
       "      <th>TCT</th>\n",
       "      <th>TGA</th>\n",
       "      <th>TGC</th>\n",
       "      <th>TGG</th>\n",
       "      <th>TGT</th>\n",
       "      <th>TTA</th>\n",
       "      <th>TTC</th>\n",
       "      <th>TTG</th>\n",
       "      <th>TTT</th>\n",
       "    </tr>\n",
       "  </thead>\n",
       "  <tbody>\n",
       "    <tr>\n",
       "      <th>Mean t</th>\n",
       "      <td>2.9</td>\n",
       "      <td>2.4</td>\n",
       "      <td>0.9</td>\n",
       "      <td>0.8</td>\n",
       "      <td>2.0</td>\n",
       "      <td>1.7</td>\n",
       "      <td>0.4</td>\n",
       "      <td>1.3</td>\n",
       "      <td>0.5</td>\n",
       "      <td>0.1</td>\n",
       "      <td>...</td>\n",
       "      <td>0.0</td>\n",
       "      <td>0.3</td>\n",
       "      <td>0.2</td>\n",
       "      <td>1.6</td>\n",
       "      <td>0.1</td>\n",
       "      <td>2.4</td>\n",
       "      <td>1.0</td>\n",
       "      <td>0.3</td>\n",
       "      <td>0.7</td>\n",
       "      <td>0.4</td>\n",
       "    </tr>\n",
       "    <tr>\n",
       "      <th>Mean f</th>\n",
       "      <td>1.7</td>\n",
       "      <td>0.7</td>\n",
       "      <td>1.0</td>\n",
       "      <td>1.2</td>\n",
       "      <td>1.0</td>\n",
       "      <td>0.5</td>\n",
       "      <td>0.1</td>\n",
       "      <td>0.8</td>\n",
       "      <td>1.1</td>\n",
       "      <td>0.7</td>\n",
       "      <td>...</td>\n",
       "      <td>0.1</td>\n",
       "      <td>1.1</td>\n",
       "      <td>0.9</td>\n",
       "      <td>0.7</td>\n",
       "      <td>0.8</td>\n",
       "      <td>1.0</td>\n",
       "      <td>1.0</td>\n",
       "      <td>1.0</td>\n",
       "      <td>0.9</td>\n",
       "      <td>1.7</td>\n",
       "    </tr>\n",
       "    <tr>\n",
       "      <th>Std t</th>\n",
       "      <td>1.6</td>\n",
       "      <td>0.9</td>\n",
       "      <td>0.5</td>\n",
       "      <td>1.1</td>\n",
       "      <td>0.9</td>\n",
       "      <td>0.8</td>\n",
       "      <td>0.6</td>\n",
       "      <td>0.7</td>\n",
       "      <td>0.6</td>\n",
       "      <td>0.3</td>\n",
       "      <td>...</td>\n",
       "      <td>0.1</td>\n",
       "      <td>0.6</td>\n",
       "      <td>0.4</td>\n",
       "      <td>0.7</td>\n",
       "      <td>0.3</td>\n",
       "      <td>1.0</td>\n",
       "      <td>0.5</td>\n",
       "      <td>0.5</td>\n",
       "      <td>0.6</td>\n",
       "      <td>1.0</td>\n",
       "    </tr>\n",
       "    <tr>\n",
       "      <th>Std f</th>\n",
       "      <td>2.1</td>\n",
       "      <td>0.9</td>\n",
       "      <td>1.0</td>\n",
       "      <td>1.2</td>\n",
       "      <td>1.2</td>\n",
       "      <td>0.8</td>\n",
       "      <td>0.3</td>\n",
       "      <td>0.8</td>\n",
       "      <td>1.2</td>\n",
       "      <td>0.8</td>\n",
       "      <td>...</td>\n",
       "      <td>0.3</td>\n",
       "      <td>1.2</td>\n",
       "      <td>0.9</td>\n",
       "      <td>0.9</td>\n",
       "      <td>0.9</td>\n",
       "      <td>1.2</td>\n",
       "      <td>1.1</td>\n",
       "      <td>1.1</td>\n",
       "      <td>0.9</td>\n",
       "      <td>2.1</td>\n",
       "    </tr>\n",
       "  </tbody>\n",
       "</table>\n",
       "<p>4 rows × 64 columns</p>\n",
       "</div>"
      ],
      "text/plain": [
       "        AAA  AAC  AAG  AAT  ACA  ACC  ACG  ACT  AGA  AGC ...   TCG  TCT  TGA  \\\n",
       "Mean t  2.9  2.4  0.9  0.8  2.0  1.7  0.4  1.3  0.5  0.1 ...   0.0  0.3  0.2   \n",
       "Mean f  1.7  0.7  1.0  1.2  1.0  0.5  0.1  0.8  1.1  0.7 ...   0.1  1.1  0.9   \n",
       "Std t   1.6  0.9  0.5  1.1  0.9  0.8  0.6  0.7  0.6  0.3 ...   0.1  0.6  0.4   \n",
       "Std f   2.1  0.9  1.0  1.2  1.2  0.8  0.3  0.8  1.2  0.8 ...   0.3  1.2  0.9   \n",
       "\n",
       "        TGC  TGG  TGT  TTA  TTC  TTG  TTT  \n",
       "Mean t  1.6  0.1  2.4  1.0  0.3  0.7  0.4  \n",
       "Mean f  0.7  0.8  1.0  1.0  1.0  0.9  1.7  \n",
       "Std t   0.7  0.3  1.0  0.5  0.5  0.6  1.0  \n",
       "Std f   0.9  0.9  1.2  1.1  1.1  0.9  2.1  \n",
       "\n",
       "[4 rows x 64 columns]"
      ]
     },
     "execution_count": 31,
     "metadata": {},
     "output_type": "execute_result"
    }
   ],
   "source": [
    "pd.DataFrame(\n",
    "    columns=triplets, data=[\n",
    "        x_all[y_all==1][triplets].mean(),\n",
    "        x_all[y_all==0][triplets].mean(),\n",
    "        x_all[y_all==1][triplets].std(),\n",
    "        x_all[y_all==0][triplets].std()\n",
    "    ],\n",
    "    index=['Mean t', 'Mean f', 'Std t', 'Std f']\n",
    ").round(1)"
   ]
  },
  {
   "cell_type": "code",
   "execution_count": 32,
   "metadata": {},
   "outputs": [
    {
     "data": {
      "text/html": [
       "<div>\n",
       "<style scoped>\n",
       "    .dataframe tbody tr th:only-of-type {\n",
       "        vertical-align: middle;\n",
       "    }\n",
       "\n",
       "    .dataframe tbody tr th {\n",
       "        vertical-align: top;\n",
       "    }\n",
       "\n",
       "    .dataframe thead th {\n",
       "        text-align: right;\n",
       "    }\n",
       "</style>\n",
       "<table border=\"1\" class=\"dataframe\">\n",
       "  <thead>\n",
       "    <tr style=\"text-align: right;\">\n",
       "      <th></th>\n",
       "      <th>GTA</th>\n",
       "      <th>AC</th>\n",
       "      <th>AAC</th>\n",
       "      <th>GG</th>\n",
       "      <th>GA</th>\n",
       "      <th>ACC</th>\n",
       "      <th>AG</th>\n",
       "      <th>TA</th>\n",
       "      <th>TAA</th>\n",
       "      <th>TGT</th>\n",
       "      <th>TC</th>\n",
       "      <th>TGC</th>\n",
       "      <th>GCA</th>\n",
       "      <th>CAC</th>\n",
       "      <th>AA</th>\n",
       "      <th>TT</th>\n",
       "      <th>AGG</th>\n",
       "      <th>GAG</th>\n",
       "      <th>TGG</th>\n",
       "      <th>CCC</th>\n",
       "    </tr>\n",
       "  </thead>\n",
       "  <tbody>\n",
       "    <tr>\n",
       "      <th>Mean t</th>\n",
       "      <td>1.96</td>\n",
       "      <td>5.26</td>\n",
       "      <td>2.42</td>\n",
       "      <td>0.17</td>\n",
       "      <td>0.75</td>\n",
       "      <td>1.66</td>\n",
       "      <td>1.56</td>\n",
       "      <td>5.42</td>\n",
       "      <td>2.61</td>\n",
       "      <td>2.37</td>\n",
       "      <td>0.80</td>\n",
       "      <td>1.63</td>\n",
       "      <td>1.64</td>\n",
       "      <td>1.63</td>\n",
       "      <td>7.07</td>\n",
       "      <td>2.67</td>\n",
       "      <td>0.07</td>\n",
       "      <td>0.03</td>\n",
       "      <td>0.08</td>\n",
       "      <td>1.00</td>\n",
       "    </tr>\n",
       "    <tr>\n",
       "      <th>Mean f</th>\n",
       "      <td>0.54</td>\n",
       "      <td>2.44</td>\n",
       "      <td>0.69</td>\n",
       "      <td>2.61</td>\n",
       "      <td>2.93</td>\n",
       "      <td>0.54</td>\n",
       "      <td>3.53</td>\n",
       "      <td>3.25</td>\n",
       "      <td>1.01</td>\n",
       "      <td>0.98</td>\n",
       "      <td>2.95</td>\n",
       "      <td>0.70</td>\n",
       "      <td>0.71</td>\n",
       "      <td>0.69</td>\n",
       "      <td>4.68</td>\n",
       "      <td>4.77</td>\n",
       "      <td>0.89</td>\n",
       "      <td>0.80</td>\n",
       "      <td>0.83</td>\n",
       "      <td>0.68</td>\n",
       "    </tr>\n",
       "    <tr>\n",
       "      <th>Std t</th>\n",
       "      <td>0.72</td>\n",
       "      <td>1.21</td>\n",
       "      <td>0.88</td>\n",
       "      <td>0.44</td>\n",
       "      <td>0.70</td>\n",
       "      <td>0.77</td>\n",
       "      <td>0.82</td>\n",
       "      <td>1.39</td>\n",
       "      <td>1.22</td>\n",
       "      <td>0.96</td>\n",
       "      <td>1.02</td>\n",
       "      <td>0.70</td>\n",
       "      <td>0.72</td>\n",
       "      <td>0.71</td>\n",
       "      <td>2.09</td>\n",
       "      <td>1.50</td>\n",
       "      <td>0.26</td>\n",
       "      <td>0.19</td>\n",
       "      <td>0.27</td>\n",
       "      <td>0.64</td>\n",
       "    </tr>\n",
       "    <tr>\n",
       "      <th>Std f</th>\n",
       "      <td>0.77</td>\n",
       "      <td>1.63</td>\n",
       "      <td>0.85</td>\n",
       "      <td>2.55</td>\n",
       "      <td>1.89</td>\n",
       "      <td>0.76</td>\n",
       "      <td>2.03</td>\n",
       "      <td>2.31</td>\n",
       "      <td>1.14</td>\n",
       "      <td>1.19</td>\n",
       "      <td>1.95</td>\n",
       "      <td>0.85</td>\n",
       "      <td>0.87</td>\n",
       "      <td>1.04</td>\n",
       "      <td>3.37</td>\n",
       "      <td>3.45</td>\n",
       "      <td>1.06</td>\n",
       "      <td>1.09</td>\n",
       "      <td>0.94</td>\n",
       "      <td>1.22</td>\n",
       "    </tr>\n",
       "  </tbody>\n",
       "</table>\n",
       "</div>"
      ],
      "text/plain": [
       "         GTA    AC   AAC    GG    GA   ACC    AG    TA   TAA   TGT    TC  \\\n",
       "Mean t  1.96  5.26  2.42  0.17  0.75  1.66  1.56  5.42  2.61  2.37  0.80   \n",
       "Mean f  0.54  2.44  0.69  2.61  2.93  0.54  3.53  3.25  1.01  0.98  2.95   \n",
       "Std t   0.72  1.21  0.88  0.44  0.70  0.77  0.82  1.39  1.22  0.96  1.02   \n",
       "Std f   0.77  1.63  0.85  2.55  1.89  0.76  2.03  2.31  1.14  1.19  1.95   \n",
       "\n",
       "         TGC   GCA   CAC    AA    TT   AGG   GAG   TGG   CCC  \n",
       "Mean t  1.63  1.64  1.63  7.07  2.67  0.07  0.03  0.08  1.00  \n",
       "Mean f  0.70  0.71  0.69  4.68  4.77  0.89  0.80  0.83  0.68  \n",
       "Std t   0.70  0.72  0.71  2.09  1.50  0.26  0.19  0.27  0.64  \n",
       "Std f   0.85  0.87  1.04  3.37  3.45  1.06  1.09  0.94  1.22  "
      ]
     },
     "execution_count": 32,
     "metadata": {},
     "output_type": "execute_result"
    }
   ],
   "source": [
    "pd.DataFrame(\n",
    "    columns=x_all.columns, data=[\n",
    "        x_all[y_all==1].mean(),\n",
    "        x_all[y_all==0].mean(),\n",
    "        x_all[y_all==1].std(),\n",
    "        x_all[y_all==0].std()\n",
    "    ],\n",
    "    index=['Mean t', 'Mean f', 'Std t', 'Std f']\n",
    ").round(2)[list(filter(bool, map(lambda x: x[0] in pairs+triplets and x[0] or None, top_features)))[:20]]"
   ]
  },
  {
   "cell_type": "code",
   "execution_count": null,
   "metadata": {},
   "outputs": [],
   "source": []
  },
  {
   "cell_type": "code",
   "execution_count": null,
   "metadata": {},
   "outputs": [],
   "source": []
  }
 ],
 "metadata": {
  "kernelspec": {
   "display_name": "Python 3",
   "language": "python",
   "name": "python3"
  },
  "language_info": {
   "codemirror_mode": {
    "name": "ipython",
    "version": 3
   },
   "file_extension": ".py",
   "mimetype": "text/x-python",
   "name": "python",
   "nbconvert_exporter": "python",
   "pygments_lexer": "ipython3",
   "version": "3.6.5"
  }
 },
 "nbformat": 4,
 "nbformat_minor": 2
}
