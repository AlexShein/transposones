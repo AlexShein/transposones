{
 "cells": [
  {
   "cell_type": "code",
   "execution_count": 1,
   "metadata": {},
   "outputs": [],
   "source": [
    "from src.py_scripts.process_pals import begin_processing"
   ]
  },
  {
   "cell_type": "code",
   "execution_count": 2,
   "metadata": {},
   "outputs": [],
   "source": [
    "# Annotation logic parameters example\n",
    "# PATH = 'some_strange_data/S10-20_L0-8_M5' # Location of target .pal files.\n",
    "# TARGET = '1' # Set is_target 1 or 0 for these files. choices=[1, 0]\n",
    "# LINES = 'last' # Which lines to fetch. choices=['first', 'last', 'rand']\n",
    "# OMIT = '' # Which lines to omit, f[irst],l[ast] Only for LINES = 'rand'. choices=['f', 'l']\n",
    "# OUTPUT_FILE = 'sl_annotation_result.csv' # Name of file to store results \n",
    "# N_LINES = 0 # Number of lines to process (per file)"
   ]
  },
  {
   "cell_type": "code",
   "execution_count": 3,
   "metadata": {},
   "outputs": [],
   "source": [
    "# Change these ones\n",
    "PATH = 'some_strange_data/S10-20_L0-8_M5'\n",
    "TARGET = '1'\n",
    "LINES = 'last'\n",
    "OMIT = ''\n",
    "OUTPUT_FILE = 'sl_annotation_result.csv'\n",
    "N_LINES = 0"
   ]
  },
  {
   "cell_type": "code",
   "execution_count": 4,
   "metadata": {},
   "outputs": [
    {
     "name": "stderr",
     "output_type": "stream",
     "text": [
      "2018-11-25 14:29:41,571 - process_pals.py - INFO - Got 722 files\n",
      "2018-11-25 14:29:41,775 - process_pals.py - INFO - Got 722 lines\n",
      "2018-11-25 14:29:41,777 - process_pals.py - INFO - Processing with chunk_size = 181. Starting 4 workers\n",
      "2018-11-25 14:29:41,802 - src.py_scripts.process_line-18133 - INFO - Started new worker\n",
      "2018-11-25 14:29:41,802 - src.py_scripts.process_line-18131 - INFO - Started new worker\n",
      "2018-11-25 14:29:41,802 - src.py_scripts.process_line-18132 - INFO - Started new worker\n",
      "2018-11-25 14:29:41,802 - src.py_scripts.process_line-18134 - INFO - Started new worker\n",
      "2018-11-25 14:29:46,890 - src.py_scripts.process_line-18132 - INFO - Job finished, execution time 5.83 seconds\n",
      "2018-11-25 14:29:46,915 - src.py_scripts.process_line-18134 - INFO - Job finished, execution time 5.10 seconds\n",
      "2018-11-25 14:29:46,962 - src.py_scripts.process_line-18131 - INFO - Job finished, execution time 5.15 seconds\n",
      "2018-11-25 14:29:46,999 - src.py_scripts.process_line-18133 - INFO - Job finished, execution time 5.19 seconds\n",
      "2018-11-25 14:29:47,038 - process_pals.py - INFO - Combining results into single dict\n",
      "2018-11-25 14:29:47,041 - process_pals.py - INFO - Creating df and writing to sl_annotation_result.csv\n",
      "2018-11-25 14:29:47,327 - process_pals.py - INFO - Done! Execution time 5.75 seconds\n"
     ]
    }
   ],
   "source": [
    "begin_processing(\n",
    "    PATH,\n",
    "    TARGET,\n",
    "    LINES,\n",
    "    OMIT,\n",
    "    output_file=OUTPUT_FILE,\n",
    "    n_lines=N_LINES,\n",
    ")"
   ]
  },
  {
   "cell_type": "code",
   "execution_count": null,
   "metadata": {},
   "outputs": [],
   "source": []
  }
 ],
 "metadata": {
  "kernelspec": {
   "display_name": "Python 3",
   "language": "python",
   "name": "python3"
  },
  "language_info": {
   "codemirror_mode": {
    "name": "ipython",
    "version": 3
   },
   "file_extension": ".py",
   "mimetype": "text/x-python",
   "name": "python",
   "nbconvert_exporter": "python",
   "pygments_lexer": "ipython3",
   "version": "3.6.5"
  }
 },
 "nbformat": 4,
 "nbformat_minor": 2
}
