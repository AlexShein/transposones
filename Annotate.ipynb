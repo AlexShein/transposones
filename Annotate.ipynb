{
 "cells": [
  {
   "cell_type": "code",
   "execution_count": 1,
   "metadata": {},
   "outputs": [],
   "source": [
    "from src.py_scripts.process_pals import begin_processing"
   ]
  },
  {
   "cell_type": "code",
   "execution_count": 2,
   "metadata": {},
   "outputs": [],
   "source": [
    "# Annotation logic parameters example\n",
    "# PATH = 'some_strange_data/S10-20_L0-8_M5' # Location of target .pal files.\n",
    "# LINES = 'last' # Which lines to fetch. choices=['first', 'last', 'rand']\n",
    "# OMIT = '' # Which lines to omit, f[irst],l[ast] Only for LINES = 'rand'. choices=['f', 'l']\n",
    "# OUTPUT_FILE = 'sl_annotation_result.csv' # Name of file to store results \n",
    "# N_LINES = 0 # Number of lines to process (per file)"
   ]
  },
  {
   "cell_type": "code",
   "execution_count": 3,
   "metadata": {},
   "outputs": [],
   "source": [
    "# Change these ones\n",
    "PATH = 'some_strange_data/S10-20_L0-8_M5'\n",
    "LINES = 'last'\n",
    "OMIT = ''\n",
    "OUTPUT_FILE = 'sl_annotation_result.csv'\n",
    "N_LINES = 0"
   ]
  },
  {
   "cell_type": "code",
   "execution_count": null,
   "metadata": {},
   "outputs": [
    {
     "name": "stderr",
     "output_type": "stream",
     "text": [
      "2018-11-25 16:42:25,787 - process_pals.py - INFO - Got 722 files\n",
      "2018-11-25 16:42:26,095 - process_pals.py - INFO - Got 722 lines\n",
      "2018-11-25 16:42:26,096 - process_pals.py - INFO - Processing with chunk_size = 181. Starting 4 workers\n",
      "2018-11-25 16:42:26,119 - src.py_scripts.process_line-26845 - INFO - Started new worker\n",
      "2018-11-25 16:42:26,120 - src.py_scripts.process_line-26846 - INFO - Started new worker\n",
      "2018-11-25 16:42:26,120 - src.py_scripts.process_line-26847 - INFO - Started new worker\n",
      "2018-11-25 16:42:26,119 - src.py_scripts.process_line-26844 - INFO - Started new worker\n"
     ]
    }
   ],
   "source": [
    "begin_processing(\n",
    "    PATH,\n",
    "    LINES,\n",
    "    OMIT,\n",
    "    output_file=OUTPUT_FILE,\n",
    "    n_lines=N_LINES,\n",
    ")"
   ]
  },
  {
   "cell_type": "code",
   "execution_count": null,
   "metadata": {},
   "outputs": [],
   "source": []
  }
 ],
 "metadata": {
  "kernelspec": {
   "display_name": "Python 3",
   "language": "python",
   "name": "python3"
  },
  "language_info": {
   "codemirror_mode": {
    "name": "ipython",
    "version": 3
   },
   "file_extension": ".py",
   "mimetype": "text/x-python",
   "name": "python",
   "nbconvert_exporter": "python",
   "pygments_lexer": "ipython3",
   "version": "3.6.5"
  }
 },
 "nbformat": 4,
 "nbformat_minor": 2
}
